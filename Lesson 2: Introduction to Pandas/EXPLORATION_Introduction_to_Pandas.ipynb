{
  "nbformat": 4,
  "nbformat_minor": 0,
  "metadata": {
    "colab": {
      "provenance": [],
      "include_colab_link": true
    },
    "kernelspec": {
      "name": "python3",
      "display_name": "Python 3"
    },
    "language_info": {
      "name": "python"
    }
  },
  "cells": [
    {
      "cell_type": "markdown",
      "metadata": {
        "id": "view-in-github",
        "colab_type": "text"
      },
      "source": [
        "<a href=\"https://colab.research.google.com/github/wintera71/BEACO2N-Modules/blob/main/Lesson%202%3A%20Introduction%20to%20Pandas/EXPLORATION_Introduction_to_Pandas.ipynb\" target=\"_parent\"><img src=\"https://colab.research.google.com/assets/colab-badge.svg\" alt=\"Open In Colab\"/></a>"
      ]
    },
    {
      "source": [
        "# **BEACO2N Notebook 2b: Introduction to Pandas**\n",
        "\n",
        "Notebook developed by: *Skye Pickett, Alec Morgan, Lan Dinh, Su Min Park, Amy Castillo*"
      ],
      "cell_type": "markdown",
      "metadata": {
        "id": "rHLcriKWLRe4"
      }
    },
    {
      "source": [
        "\n",
        "### Learning Outcomes\n",
        "Working through this notebook, you will learn about:\n",
        "  1. Manipulating `DataFrames` and `Series`\n",
        "  1. Importing CSV data into a *pandas* `DataFrame`\n",
        "  1. Data analysis using *pandas*\n",
        "  1. Creating visualizations with *pandas*"
      ],
      "cell_type": "markdown",
      "metadata": {
        "id": "QvJBqX8_Bctk"
      }
    },
    {
      "cell_type": "markdown",
      "source": [
        "\n",
        "## Table of Contents\n",
        "1. DataFrame Review\n",
        "1. Data Analysis\n",
        "> 2.1 Importing Data\n",
        "<br> 2.2 Accessing Data\n",
        "<br> 2.3 Manipulating Data\n",
        "1. Data Visualizations\n",
        "> 3.1 Plotting PM2.5 Concentrations\n",
        "<br> 3.2 Plotting CO2 Concentrations\n",
        "<br> 3.3 Plotting NO Concentrations\n",
        "1. Conclusion\n",
        "\n",
        "*Note: In this notebook, there are some more advanced topics that are \"optional\". This means you can just read over these sections; don't worry about fully understanding these parts unless you are really interested. They may be useful later in the course, but for now they are not necessary, so feel free to just skim the parts labelled \"Optional\"!*\n",
        "\n",
        "\n",
        "\n",
        "\n"
      ],
      "metadata": {
        "id": "AcOYEazcKUQY"
      }
    },
    {
      "cell_type": "markdown",
      "source": [
        "<hr style=\"border: 2px solid #003262\">\n",
        "<hr style=\"border: 2px solid #C9B676\">"
      ],
      "metadata": {
        "id": "J-XaYFhWjaWu"
      }
    },
    {
      "cell_type": "markdown",
      "source": [
        "##1. DataFrame Review"
      ],
      "metadata": {
        "id": "mQQZBILkEspf"
      }
    },
    {
      "cell_type": "markdown",
      "source": [
        "When we import data, we utilize the pandas library. We imported pandas in the *In Class* notebook through running this line of code: `import pandas as pd`. Since this is a different notebook than the *In Class* one, we need to import pandas here in order to be able to use Pandas tools in this notebook. **Run the cell!**"
      ],
      "metadata": {
        "id": "got-CcSN8ba5"
      }
    },
    {
      "source": [
        "from __future__ import print_function\n",
        "\n",
        "import pandas as pd\n",
        "pd.__version__"
      ],
      "cell_type": "code",
      "execution_count": null,
      "outputs": [
        {
          "output_type": "execute_result",
          "data": {
            "text/plain": [
              "'2.2.2'"
            ],
            "application/vnd.google.colaboratory.intrinsic+json": {
              "type": "string"
            }
          },
          "metadata": {},
          "execution_count": 1
        }
      ],
      "metadata": {
        "id": "aSRYu62xUi3g",
        "colab": {
          "base_uri": "https://localhost:8080/",
          "height": 35
        },
        "outputId": "955e2c6b-c0e7-484d-9e5e-b43079e8e45e"
      }
    },
    {
      "cell_type": "markdown",
      "source": [
        "Let's do a brief overview of DataFrames from what we learned in the *In Class* notebook! We will most often import data from public sources. The data we import is most often in the form of an excel spreadsheet or a \"csv\". This stands for **comma separated value** file. Spreadsheets are easily converted to csv format!<br> It is however important to know the basics of creating a DataFrame from scratch. This is the syntax for making your own DataFrame:\n",
        "\n",
        ">`pd.DataFrame`({**_<mark style=\"background-color: red;\">\"column_name1\": column1_values</mark>_**, <mark style=\"background-color: yellow;\">**\"column_name2\": column2_values,** ...}</mark>)\n",
        "\n",
        "Let's see if you remember how to go about making your own...\n",
        "\n",
        "**Your turn! Q1**<br>\n",
        "Let's make another DataFrame.\n",
        "\n",
        "I will provide you with 2 series; one per each of the 2 columns. Use the code from the In Class Notebook example with city names as an example to guide you! The steps are exactly the same format. <br>**Name one column `\"Ice Cream Flavors\"` and the second column `\"Yumminess\"`.**<br> **Replace the ... in the code cell below with your answer, then run the cell to see your DataFrame!**"
      ],
      "metadata": {
        "id": "3yLrl0IgkU6U"
      }
    },
    {
      "cell_type": "code",
      "source": [
        "flavors = pd.Series(['strawberry', 'rocky road', 'vanilla bean'])\n",
        "yum_level = pd.Series(['low', 'high', 'medium'])\n",
        "pd.DataFrame({... : ..., ... : ...})"
      ],
      "metadata": {
        "id": "2yc9gpUvkRbY",
        "colab": {
          "base_uri": "https://localhost:8080/",
          "height": 321
        },
        "outputId": "5f1dde1f-eafb-46c5-ee03-2bf27e15bfa1"
      },
      "execution_count": null,
      "outputs": [
        {
          "output_type": "error",
          "ename": "ValueError",
          "evalue": "If using all scalar values, you must pass an index",
          "traceback": [
            "\u001b[0;31m---------------------------------------------------------------------------\u001b[0m",
            "\u001b[0;31mValueError\u001b[0m                                Traceback (most recent call last)",
            "\u001b[0;32m/tmp/ipython-input-1241473370.py\u001b[0m in \u001b[0;36m<cell line: 0>\u001b[0;34m()\u001b[0m\n\u001b[1;32m      1\u001b[0m \u001b[0mflavors\u001b[0m \u001b[0;34m=\u001b[0m \u001b[0mpd\u001b[0m\u001b[0;34m.\u001b[0m\u001b[0mSeries\u001b[0m\u001b[0;34m(\u001b[0m\u001b[0;34m[\u001b[0m\u001b[0;34m'strawberry'\u001b[0m\u001b[0;34m,\u001b[0m \u001b[0;34m'rocky road'\u001b[0m\u001b[0;34m,\u001b[0m \u001b[0;34m'vanilla bean'\u001b[0m\u001b[0;34m]\u001b[0m\u001b[0;34m)\u001b[0m\u001b[0;34m\u001b[0m\u001b[0;34m\u001b[0m\u001b[0m\n\u001b[1;32m      2\u001b[0m \u001b[0myum_level\u001b[0m \u001b[0;34m=\u001b[0m \u001b[0mpd\u001b[0m\u001b[0;34m.\u001b[0m\u001b[0mSeries\u001b[0m\u001b[0;34m(\u001b[0m\u001b[0;34m[\u001b[0m\u001b[0;34m'low'\u001b[0m\u001b[0;34m,\u001b[0m \u001b[0;34m'high'\u001b[0m\u001b[0;34m,\u001b[0m \u001b[0;34m'medium'\u001b[0m\u001b[0;34m]\u001b[0m\u001b[0;34m)\u001b[0m\u001b[0;34m\u001b[0m\u001b[0;34m\u001b[0m\u001b[0m\n\u001b[0;32m----> 3\u001b[0;31m \u001b[0mpd\u001b[0m\u001b[0;34m.\u001b[0m\u001b[0mDataFrame\u001b[0m\u001b[0;34m(\u001b[0m\u001b[0;34m{\u001b[0m\u001b[0;34m...\u001b[0m \u001b[0;34m:\u001b[0m \u001b[0;34m...\u001b[0m\u001b[0;34m,\u001b[0m \u001b[0;34m...\u001b[0m \u001b[0;34m:\u001b[0m \u001b[0;34m...\u001b[0m\u001b[0;34m}\u001b[0m\u001b[0;34m)\u001b[0m\u001b[0;34m\u001b[0m\u001b[0;34m\u001b[0m\u001b[0m\n\u001b[0m",
            "\u001b[0;32m/usr/local/lib/python3.11/dist-packages/pandas/core/frame.py\u001b[0m in \u001b[0;36m__init__\u001b[0;34m(self, data, index, columns, dtype, copy)\u001b[0m\n\u001b[1;32m    776\u001b[0m         \u001b[0;32melif\u001b[0m \u001b[0misinstance\u001b[0m\u001b[0;34m(\u001b[0m\u001b[0mdata\u001b[0m\u001b[0;34m,\u001b[0m \u001b[0mdict\u001b[0m\u001b[0;34m)\u001b[0m\u001b[0;34m:\u001b[0m\u001b[0;34m\u001b[0m\u001b[0;34m\u001b[0m\u001b[0m\n\u001b[1;32m    777\u001b[0m             \u001b[0;31m# GH#38939 de facto copy defaults to False only in non-dict cases\u001b[0m\u001b[0;34m\u001b[0m\u001b[0;34m\u001b[0m\u001b[0m\n\u001b[0;32m--> 778\u001b[0;31m             \u001b[0mmgr\u001b[0m \u001b[0;34m=\u001b[0m \u001b[0mdict_to_mgr\u001b[0m\u001b[0;34m(\u001b[0m\u001b[0mdata\u001b[0m\u001b[0;34m,\u001b[0m \u001b[0mindex\u001b[0m\u001b[0;34m,\u001b[0m \u001b[0mcolumns\u001b[0m\u001b[0;34m,\u001b[0m \u001b[0mdtype\u001b[0m\u001b[0;34m=\u001b[0m\u001b[0mdtype\u001b[0m\u001b[0;34m,\u001b[0m \u001b[0mcopy\u001b[0m\u001b[0;34m=\u001b[0m\u001b[0mcopy\u001b[0m\u001b[0;34m,\u001b[0m \u001b[0mtyp\u001b[0m\u001b[0;34m=\u001b[0m\u001b[0mmanager\u001b[0m\u001b[0;34m)\u001b[0m\u001b[0;34m\u001b[0m\u001b[0;34m\u001b[0m\u001b[0m\n\u001b[0m\u001b[1;32m    779\u001b[0m         \u001b[0;32melif\u001b[0m \u001b[0misinstance\u001b[0m\u001b[0;34m(\u001b[0m\u001b[0mdata\u001b[0m\u001b[0;34m,\u001b[0m \u001b[0mma\u001b[0m\u001b[0;34m.\u001b[0m\u001b[0mMaskedArray\u001b[0m\u001b[0;34m)\u001b[0m\u001b[0;34m:\u001b[0m\u001b[0;34m\u001b[0m\u001b[0;34m\u001b[0m\u001b[0m\n\u001b[1;32m    780\u001b[0m             \u001b[0;32mfrom\u001b[0m \u001b[0mnumpy\u001b[0m\u001b[0;34m.\u001b[0m\u001b[0mma\u001b[0m \u001b[0;32mimport\u001b[0m \u001b[0mmrecords\u001b[0m\u001b[0;34m\u001b[0m\u001b[0;34m\u001b[0m\u001b[0m\n",
            "\u001b[0;32m/usr/local/lib/python3.11/dist-packages/pandas/core/internals/construction.py\u001b[0m in \u001b[0;36mdict_to_mgr\u001b[0;34m(data, index, columns, dtype, typ, copy)\u001b[0m\n\u001b[1;32m    501\u001b[0m             \u001b[0marrays\u001b[0m \u001b[0;34m=\u001b[0m \u001b[0;34m[\u001b[0m\u001b[0mx\u001b[0m\u001b[0;34m.\u001b[0m\u001b[0mcopy\u001b[0m\u001b[0;34m(\u001b[0m\u001b[0;34m)\u001b[0m \u001b[0;32mif\u001b[0m \u001b[0mhasattr\u001b[0m\u001b[0;34m(\u001b[0m\u001b[0mx\u001b[0m\u001b[0;34m,\u001b[0m \u001b[0;34m\"dtype\"\u001b[0m\u001b[0;34m)\u001b[0m \u001b[0;32melse\u001b[0m \u001b[0mx\u001b[0m \u001b[0;32mfor\u001b[0m \u001b[0mx\u001b[0m \u001b[0;32min\u001b[0m \u001b[0marrays\u001b[0m\u001b[0;34m]\u001b[0m\u001b[0;34m\u001b[0m\u001b[0;34m\u001b[0m\u001b[0m\n\u001b[1;32m    502\u001b[0m \u001b[0;34m\u001b[0m\u001b[0m\n\u001b[0;32m--> 503\u001b[0;31m     \u001b[0;32mreturn\u001b[0m \u001b[0marrays_to_mgr\u001b[0m\u001b[0;34m(\u001b[0m\u001b[0marrays\u001b[0m\u001b[0;34m,\u001b[0m \u001b[0mcolumns\u001b[0m\u001b[0;34m,\u001b[0m \u001b[0mindex\u001b[0m\u001b[0;34m,\u001b[0m \u001b[0mdtype\u001b[0m\u001b[0;34m=\u001b[0m\u001b[0mdtype\u001b[0m\u001b[0;34m,\u001b[0m \u001b[0mtyp\u001b[0m\u001b[0;34m=\u001b[0m\u001b[0mtyp\u001b[0m\u001b[0;34m,\u001b[0m \u001b[0mconsolidate\u001b[0m\u001b[0;34m=\u001b[0m\u001b[0mcopy\u001b[0m\u001b[0;34m)\u001b[0m\u001b[0;34m\u001b[0m\u001b[0;34m\u001b[0m\u001b[0m\n\u001b[0m\u001b[1;32m    504\u001b[0m \u001b[0;34m\u001b[0m\u001b[0m\n\u001b[1;32m    505\u001b[0m \u001b[0;34m\u001b[0m\u001b[0m\n",
            "\u001b[0;32m/usr/local/lib/python3.11/dist-packages/pandas/core/internals/construction.py\u001b[0m in \u001b[0;36marrays_to_mgr\u001b[0;34m(arrays, columns, index, dtype, verify_integrity, typ, consolidate)\u001b[0m\n\u001b[1;32m    112\u001b[0m         \u001b[0;31m# figure out the index, if necessary\u001b[0m\u001b[0;34m\u001b[0m\u001b[0;34m\u001b[0m\u001b[0m\n\u001b[1;32m    113\u001b[0m         \u001b[0;32mif\u001b[0m \u001b[0mindex\u001b[0m \u001b[0;32mis\u001b[0m \u001b[0;32mNone\u001b[0m\u001b[0;34m:\u001b[0m\u001b[0;34m\u001b[0m\u001b[0;34m\u001b[0m\u001b[0m\n\u001b[0;32m--> 114\u001b[0;31m             \u001b[0mindex\u001b[0m \u001b[0;34m=\u001b[0m \u001b[0m_extract_index\u001b[0m\u001b[0;34m(\u001b[0m\u001b[0marrays\u001b[0m\u001b[0;34m)\u001b[0m\u001b[0;34m\u001b[0m\u001b[0;34m\u001b[0m\u001b[0m\n\u001b[0m\u001b[1;32m    115\u001b[0m         \u001b[0;32melse\u001b[0m\u001b[0;34m:\u001b[0m\u001b[0;34m\u001b[0m\u001b[0;34m\u001b[0m\u001b[0m\n\u001b[1;32m    116\u001b[0m             \u001b[0mindex\u001b[0m \u001b[0;34m=\u001b[0m \u001b[0mensure_index\u001b[0m\u001b[0;34m(\u001b[0m\u001b[0mindex\u001b[0m\u001b[0;34m)\u001b[0m\u001b[0;34m\u001b[0m\u001b[0;34m\u001b[0m\u001b[0m\n",
            "\u001b[0;32m/usr/local/lib/python3.11/dist-packages/pandas/core/internals/construction.py\u001b[0m in \u001b[0;36m_extract_index\u001b[0;34m(data)\u001b[0m\n\u001b[1;32m    665\u001b[0m \u001b[0;34m\u001b[0m\u001b[0m\n\u001b[1;32m    666\u001b[0m     \u001b[0;32mif\u001b[0m \u001b[0;32mnot\u001b[0m \u001b[0mindexes\u001b[0m \u001b[0;32mand\u001b[0m \u001b[0;32mnot\u001b[0m \u001b[0mraw_lengths\u001b[0m\u001b[0;34m:\u001b[0m\u001b[0;34m\u001b[0m\u001b[0;34m\u001b[0m\u001b[0m\n\u001b[0;32m--> 667\u001b[0;31m         \u001b[0;32mraise\u001b[0m \u001b[0mValueError\u001b[0m\u001b[0;34m(\u001b[0m\u001b[0;34m\"If using all scalar values, you must pass an index\"\u001b[0m\u001b[0;34m)\u001b[0m\u001b[0;34m\u001b[0m\u001b[0;34m\u001b[0m\u001b[0m\n\u001b[0m\u001b[1;32m    668\u001b[0m \u001b[0;34m\u001b[0m\u001b[0m\n\u001b[1;32m    669\u001b[0m     \u001b[0;32mif\u001b[0m \u001b[0mhave_series\u001b[0m\u001b[0;34m:\u001b[0m\u001b[0;34m\u001b[0m\u001b[0;34m\u001b[0m\u001b[0m\n",
            "\u001b[0;31mValueError\u001b[0m: If using all scalar values, you must pass an index"
          ]
        }
      ]
    },
    {
      "cell_type": "markdown",
      "source": [
        "Great job! In the next section, we'll practice *importing* data into a DataFrame."
      ],
      "metadata": {
        "id": "w2a9bjBnH0VA"
      }
    },
    {
      "cell_type": "markdown",
      "source": [
        "***\n",
        "## 2. DataFrame Analysis\n",
        "\n"
      ],
      "metadata": {
        "id": "Ts2Toy_P-jNK"
      }
    },
    {
      "cell_type": "markdown",
      "source": [
        "###2.1 Importing Data\n",
        "\n"
      ],
      "metadata": {
        "id": "gn3f5hj3JKhF"
      }
    },
    {
      "cell_type": "markdown",
      "source": [
        "Similarly to how we had to import Pandas again, we need to load in our data again in order to use it. Right under this is a hidden code cell that contains the code from the In Class notebook (where you see \"Show code\"). <br>**Run the cell below**, like you do with any other code cell, so we can utilize `wildfire_pm` again in this notebook!"
      ],
      "metadata": {
        "id": "3Gq1jvtpM_jV"
      }
    },
    {
      "cell_type": "code",
      "source": [
        "#@title\n",
        "## Run this cell so we can use wildfire_pm\n",
        "# This code is pasted from the In Class notebook\n",
        "\n",
        "pm_data = \"http://128.32.208.8/node/31/measurements_all/csv?name=Fred%20T.%20Korematsu%20Elementary%20School&interval=60&variables=pm2_5&start=2021-08-01%2012:00:00&end=2021-08-31%2023:00:00&chart_type=measurement\"\n",
        "wildfire_pm = pd.read_csv(pm_data, on_bad_lines='skip')\n",
        "wildfire_pm['timestamp']=pd.to_datetime(wildfire_pm['local_timestamp'],format='%Y-%m-%d  %H:%M:%S')\n",
        "wildfire_pm.index=wildfire_pm['timestamp']\n",
        "wildfire_pm = wildfire_pm.drop(['local_timestamp','epoch','datetime','node_id','node_file_id', 'timestamp'],axis = 1)\n",
        "wildfire_pm = wildfire_pm.rename(columns={'pm2_5': 'pm'})"
      ],
      "metadata": {
        "cellView": "form",
        "id": "IpGZaEPKLp09"
      },
      "execution_count": null,
      "outputs": []
    },
    {
      "cell_type": "markdown",
      "source": [
        "\n",
        "#### 2.1.1 Importing CO2 Data\n",
        "\n",
        "Let's take a look at **CO2 concentrations during August 2021**. This is the same time period as the data in the *In Class* notebook about wildfire particulate matter concentrations!<br> In the code cell below, we save the CO2 data source link to the `co2_data` variable. Similarly to how we did in the *In Class* notebook, use the `co2_data` variable to load the data into a DataFrame.\n",
        "\n",
        "**Q2: Replace the ... with the variable name (that represents the url of the data file).**"
      ],
      "metadata": {
        "id": "jV3btPSu_FC2"
      }
    },
    {
      "cell_type": "code",
      "source": [
        "co2_data = \"http://128.32.208.8/node/31/measurements_all/csv?name=Fred%20T.%20Korematsu%20Elementary%20School&interval=60&variables=co2_corrected_avg_t_drift_applied&start=2021-08-01%2012:00:00&end=2021-08-31%2023:00:00&chart_type=measurement\"\n",
        "\n",
        "# Replace ... with the variable name to load the data\n",
        "wildfire_co2 = pd.read_csv(..., on_bad_lines='skip')\n",
        "wildfire_co2"
      ],
      "metadata": {
        "id": "zPwFgt6aOV_h",
        "colab": {
          "base_uri": "https://localhost:8080/",
          "height": 424
        },
        "outputId": "5a0e43cc-856d-4565-990e-72f9e4355532"
      },
      "execution_count": null,
      "outputs": [
        {
          "output_type": "execute_result",
          "data": {
            "text/plain": [
              "         local_timestamp         epoch             datetime  node_file_id  \\\n",
              "0    2021-08-01 12:00:00  1.627844e+09  2021-08-01 19:00:00       2155678   \n",
              "1    2021-08-01 13:00:00  1.627848e+09  2021-08-01 20:00:00       2155715   \n",
              "2    2021-08-01 14:00:00  1.627852e+09  2021-08-01 21:00:00       2155750   \n",
              "3    2021-08-01 15:00:00  1.627855e+09  2021-08-01 22:00:00       2155827   \n",
              "4    2021-08-01 16:00:00  1.627859e+09  2021-08-01 23:00:00       2155877   \n",
              "..                   ...           ...                  ...           ...   \n",
              "724  2021-08-31 19:00:00  1.630462e+09  2021-09-01 02:00:00       2219863   \n",
              "725  2021-08-31 20:00:00  1.630465e+09  2021-09-01 03:00:00       2219870   \n",
              "726  2021-08-31 21:00:00  1.630469e+09  2021-09-01 04:00:00       2219962   \n",
              "727  2021-08-31 22:00:00  1.630472e+09  2021-09-01 05:00:00       2220001   \n",
              "728  2021-08-31 23:00:00  1.630476e+09  2021-09-01 06:00:00       2220060   \n",
              "\n",
              "     co2_corrected_avg_t_drift_applied  node_id  \n",
              "0                           407.869369       31  \n",
              "1                           407.901241       31  \n",
              "2                           408.001317       31  \n",
              "3                           407.734750       31  \n",
              "4                           408.327487       31  \n",
              "..                                 ...      ...  \n",
              "724                         408.833259       31  \n",
              "725                         407.690634       31  \n",
              "726                         408.374617       31  \n",
              "727                         411.327623       31  \n",
              "728                         410.755909       31  \n",
              "\n",
              "[729 rows x 6 columns]"
            ],
            "text/html": [
              "\n",
              "  <div id=\"df-dcda156c-1e2f-4d9d-924e-3f73df84dc74\" class=\"colab-df-container\">\n",
              "    <div>\n",
              "<style scoped>\n",
              "    .dataframe tbody tr th:only-of-type {\n",
              "        vertical-align: middle;\n",
              "    }\n",
              "\n",
              "    .dataframe tbody tr th {\n",
              "        vertical-align: top;\n",
              "    }\n",
              "\n",
              "    .dataframe thead th {\n",
              "        text-align: right;\n",
              "    }\n",
              "</style>\n",
              "<table border=\"1\" class=\"dataframe\">\n",
              "  <thead>\n",
              "    <tr style=\"text-align: right;\">\n",
              "      <th></th>\n",
              "      <th>local_timestamp</th>\n",
              "      <th>epoch</th>\n",
              "      <th>datetime</th>\n",
              "      <th>node_file_id</th>\n",
              "      <th>co2_corrected_avg_t_drift_applied</th>\n",
              "      <th>node_id</th>\n",
              "    </tr>\n",
              "  </thead>\n",
              "  <tbody>\n",
              "    <tr>\n",
              "      <th>0</th>\n",
              "      <td>2021-08-01 12:00:00</td>\n",
              "      <td>1.627844e+09</td>\n",
              "      <td>2021-08-01 19:00:00</td>\n",
              "      <td>2155678</td>\n",
              "      <td>407.869369</td>\n",
              "      <td>31</td>\n",
              "    </tr>\n",
              "    <tr>\n",
              "      <th>1</th>\n",
              "      <td>2021-08-01 13:00:00</td>\n",
              "      <td>1.627848e+09</td>\n",
              "      <td>2021-08-01 20:00:00</td>\n",
              "      <td>2155715</td>\n",
              "      <td>407.901241</td>\n",
              "      <td>31</td>\n",
              "    </tr>\n",
              "    <tr>\n",
              "      <th>2</th>\n",
              "      <td>2021-08-01 14:00:00</td>\n",
              "      <td>1.627852e+09</td>\n",
              "      <td>2021-08-01 21:00:00</td>\n",
              "      <td>2155750</td>\n",
              "      <td>408.001317</td>\n",
              "      <td>31</td>\n",
              "    </tr>\n",
              "    <tr>\n",
              "      <th>3</th>\n",
              "      <td>2021-08-01 15:00:00</td>\n",
              "      <td>1.627855e+09</td>\n",
              "      <td>2021-08-01 22:00:00</td>\n",
              "      <td>2155827</td>\n",
              "      <td>407.734750</td>\n",
              "      <td>31</td>\n",
              "    </tr>\n",
              "    <tr>\n",
              "      <th>4</th>\n",
              "      <td>2021-08-01 16:00:00</td>\n",
              "      <td>1.627859e+09</td>\n",
              "      <td>2021-08-01 23:00:00</td>\n",
              "      <td>2155877</td>\n",
              "      <td>408.327487</td>\n",
              "      <td>31</td>\n",
              "    </tr>\n",
              "    <tr>\n",
              "      <th>...</th>\n",
              "      <td>...</td>\n",
              "      <td>...</td>\n",
              "      <td>...</td>\n",
              "      <td>...</td>\n",
              "      <td>...</td>\n",
              "      <td>...</td>\n",
              "    </tr>\n",
              "    <tr>\n",
              "      <th>724</th>\n",
              "      <td>2021-08-31 19:00:00</td>\n",
              "      <td>1.630462e+09</td>\n",
              "      <td>2021-09-01 02:00:00</td>\n",
              "      <td>2219863</td>\n",
              "      <td>408.833259</td>\n",
              "      <td>31</td>\n",
              "    </tr>\n",
              "    <tr>\n",
              "      <th>725</th>\n",
              "      <td>2021-08-31 20:00:00</td>\n",
              "      <td>1.630465e+09</td>\n",
              "      <td>2021-09-01 03:00:00</td>\n",
              "      <td>2219870</td>\n",
              "      <td>407.690634</td>\n",
              "      <td>31</td>\n",
              "    </tr>\n",
              "    <tr>\n",
              "      <th>726</th>\n",
              "      <td>2021-08-31 21:00:00</td>\n",
              "      <td>1.630469e+09</td>\n",
              "      <td>2021-09-01 04:00:00</td>\n",
              "      <td>2219962</td>\n",
              "      <td>408.374617</td>\n",
              "      <td>31</td>\n",
              "    </tr>\n",
              "    <tr>\n",
              "      <th>727</th>\n",
              "      <td>2021-08-31 22:00:00</td>\n",
              "      <td>1.630472e+09</td>\n",
              "      <td>2021-09-01 05:00:00</td>\n",
              "      <td>2220001</td>\n",
              "      <td>411.327623</td>\n",
              "      <td>31</td>\n",
              "    </tr>\n",
              "    <tr>\n",
              "      <th>728</th>\n",
              "      <td>2021-08-31 23:00:00</td>\n",
              "      <td>1.630476e+09</td>\n",
              "      <td>2021-09-01 06:00:00</td>\n",
              "      <td>2220060</td>\n",
              "      <td>410.755909</td>\n",
              "      <td>31</td>\n",
              "    </tr>\n",
              "  </tbody>\n",
              "</table>\n",
              "<p>729 rows × 6 columns</p>\n",
              "</div>\n",
              "    <div class=\"colab-df-buttons\">\n",
              "\n",
              "  <div class=\"colab-df-container\">\n",
              "    <button class=\"colab-df-convert\" onclick=\"convertToInteractive('df-dcda156c-1e2f-4d9d-924e-3f73df84dc74')\"\n",
              "            title=\"Convert this dataframe to an interactive table.\"\n",
              "            style=\"display:none;\">\n",
              "\n",
              "  <svg xmlns=\"http://www.w3.org/2000/svg\" height=\"24px\" viewBox=\"0 -960 960 960\">\n",
              "    <path d=\"M120-120v-720h720v720H120Zm60-500h600v-160H180v160Zm220 220h160v-160H400v160Zm0 220h160v-160H400v160ZM180-400h160v-160H180v160Zm440 0h160v-160H620v160ZM180-180h160v-160H180v160Zm440 0h160v-160H620v160Z\"/>\n",
              "  </svg>\n",
              "    </button>\n",
              "\n",
              "  <style>\n",
              "    .colab-df-container {\n",
              "      display:flex;\n",
              "      gap: 12px;\n",
              "    }\n",
              "\n",
              "    .colab-df-convert {\n",
              "      background-color: #E8F0FE;\n",
              "      border: none;\n",
              "      border-radius: 50%;\n",
              "      cursor: pointer;\n",
              "      display: none;\n",
              "      fill: #1967D2;\n",
              "      height: 32px;\n",
              "      padding: 0 0 0 0;\n",
              "      width: 32px;\n",
              "    }\n",
              "\n",
              "    .colab-df-convert:hover {\n",
              "      background-color: #E2EBFA;\n",
              "      box-shadow: 0px 1px 2px rgba(60, 64, 67, 0.3), 0px 1px 3px 1px rgba(60, 64, 67, 0.15);\n",
              "      fill: #174EA6;\n",
              "    }\n",
              "\n",
              "    .colab-df-buttons div {\n",
              "      margin-bottom: 4px;\n",
              "    }\n",
              "\n",
              "    [theme=dark] .colab-df-convert {\n",
              "      background-color: #3B4455;\n",
              "      fill: #D2E3FC;\n",
              "    }\n",
              "\n",
              "    [theme=dark] .colab-df-convert:hover {\n",
              "      background-color: #434B5C;\n",
              "      box-shadow: 0px 1px 3px 1px rgba(0, 0, 0, 0.15);\n",
              "      filter: drop-shadow(0px 1px 2px rgba(0, 0, 0, 0.3));\n",
              "      fill: #FFFFFF;\n",
              "    }\n",
              "  </style>\n",
              "\n",
              "    <script>\n",
              "      const buttonEl =\n",
              "        document.querySelector('#df-dcda156c-1e2f-4d9d-924e-3f73df84dc74 button.colab-df-convert');\n",
              "      buttonEl.style.display =\n",
              "        google.colab.kernel.accessAllowed ? 'block' : 'none';\n",
              "\n",
              "      async function convertToInteractive(key) {\n",
              "        const element = document.querySelector('#df-dcda156c-1e2f-4d9d-924e-3f73df84dc74');\n",
              "        const dataTable =\n",
              "          await google.colab.kernel.invokeFunction('convertToInteractive',\n",
              "                                                    [key], {});\n",
              "        if (!dataTable) return;\n",
              "\n",
              "        const docLinkHtml = 'Like what you see? Visit the ' +\n",
              "          '<a target=\"_blank\" href=https://colab.research.google.com/notebooks/data_table.ipynb>data table notebook</a>'\n",
              "          + ' to learn more about interactive tables.';\n",
              "        element.innerHTML = '';\n",
              "        dataTable['output_type'] = 'display_data';\n",
              "        await google.colab.output.renderOutput(dataTable, element);\n",
              "        const docLink = document.createElement('div');\n",
              "        docLink.innerHTML = docLinkHtml;\n",
              "        element.appendChild(docLink);\n",
              "      }\n",
              "    </script>\n",
              "  </div>\n",
              "\n",
              "\n",
              "<div id=\"df-43619bc9-2af3-4946-84df-f935e0bda71b\">\n",
              "  <button class=\"colab-df-quickchart\" onclick=\"quickchart('df-43619bc9-2af3-4946-84df-f935e0bda71b')\"\n",
              "            title=\"Suggest charts\"\n",
              "            style=\"display:none;\">\n",
              "\n",
              "<svg xmlns=\"http://www.w3.org/2000/svg\" height=\"24px\"viewBox=\"0 0 24 24\"\n",
              "     width=\"24px\">\n",
              "    <g>\n",
              "        <path d=\"M19 3H5c-1.1 0-2 .9-2 2v14c0 1.1.9 2 2 2h14c1.1 0 2-.9 2-2V5c0-1.1-.9-2-2-2zM9 17H7v-7h2v7zm4 0h-2V7h2v10zm4 0h-2v-4h2v4z\"/>\n",
              "    </g>\n",
              "</svg>\n",
              "  </button>\n",
              "\n",
              "<style>\n",
              "  .colab-df-quickchart {\n",
              "      --bg-color: #E8F0FE;\n",
              "      --fill-color: #1967D2;\n",
              "      --hover-bg-color: #E2EBFA;\n",
              "      --hover-fill-color: #174EA6;\n",
              "      --disabled-fill-color: #AAA;\n",
              "      --disabled-bg-color: #DDD;\n",
              "  }\n",
              "\n",
              "  [theme=dark] .colab-df-quickchart {\n",
              "      --bg-color: #3B4455;\n",
              "      --fill-color: #D2E3FC;\n",
              "      --hover-bg-color: #434B5C;\n",
              "      --hover-fill-color: #FFFFFF;\n",
              "      --disabled-bg-color: #3B4455;\n",
              "      --disabled-fill-color: #666;\n",
              "  }\n",
              "\n",
              "  .colab-df-quickchart {\n",
              "    background-color: var(--bg-color);\n",
              "    border: none;\n",
              "    border-radius: 50%;\n",
              "    cursor: pointer;\n",
              "    display: none;\n",
              "    fill: var(--fill-color);\n",
              "    height: 32px;\n",
              "    padding: 0;\n",
              "    width: 32px;\n",
              "  }\n",
              "\n",
              "  .colab-df-quickchart:hover {\n",
              "    background-color: var(--hover-bg-color);\n",
              "    box-shadow: 0 1px 2px rgba(60, 64, 67, 0.3), 0 1px 3px 1px rgba(60, 64, 67, 0.15);\n",
              "    fill: var(--button-hover-fill-color);\n",
              "  }\n",
              "\n",
              "  .colab-df-quickchart-complete:disabled,\n",
              "  .colab-df-quickchart-complete:disabled:hover {\n",
              "    background-color: var(--disabled-bg-color);\n",
              "    fill: var(--disabled-fill-color);\n",
              "    box-shadow: none;\n",
              "  }\n",
              "\n",
              "  .colab-df-spinner {\n",
              "    border: 2px solid var(--fill-color);\n",
              "    border-color: transparent;\n",
              "    border-bottom-color: var(--fill-color);\n",
              "    animation:\n",
              "      spin 1s steps(1) infinite;\n",
              "  }\n",
              "\n",
              "  @keyframes spin {\n",
              "    0% {\n",
              "      border-color: transparent;\n",
              "      border-bottom-color: var(--fill-color);\n",
              "      border-left-color: var(--fill-color);\n",
              "    }\n",
              "    20% {\n",
              "      border-color: transparent;\n",
              "      border-left-color: var(--fill-color);\n",
              "      border-top-color: var(--fill-color);\n",
              "    }\n",
              "    30% {\n",
              "      border-color: transparent;\n",
              "      border-left-color: var(--fill-color);\n",
              "      border-top-color: var(--fill-color);\n",
              "      border-right-color: var(--fill-color);\n",
              "    }\n",
              "    40% {\n",
              "      border-color: transparent;\n",
              "      border-right-color: var(--fill-color);\n",
              "      border-top-color: var(--fill-color);\n",
              "    }\n",
              "    60% {\n",
              "      border-color: transparent;\n",
              "      border-right-color: var(--fill-color);\n",
              "    }\n",
              "    80% {\n",
              "      border-color: transparent;\n",
              "      border-right-color: var(--fill-color);\n",
              "      border-bottom-color: var(--fill-color);\n",
              "    }\n",
              "    90% {\n",
              "      border-color: transparent;\n",
              "      border-bottom-color: var(--fill-color);\n",
              "    }\n",
              "  }\n",
              "</style>\n",
              "\n",
              "  <script>\n",
              "    async function quickchart(key) {\n",
              "      const quickchartButtonEl =\n",
              "        document.querySelector('#' + key + ' button');\n",
              "      quickchartButtonEl.disabled = true;  // To prevent multiple clicks.\n",
              "      quickchartButtonEl.classList.add('colab-df-spinner');\n",
              "      try {\n",
              "        const charts = await google.colab.kernel.invokeFunction(\n",
              "            'suggestCharts', [key], {});\n",
              "      } catch (error) {\n",
              "        console.error('Error during call to suggestCharts:', error);\n",
              "      }\n",
              "      quickchartButtonEl.classList.remove('colab-df-spinner');\n",
              "      quickchartButtonEl.classList.add('colab-df-quickchart-complete');\n",
              "    }\n",
              "    (() => {\n",
              "      let quickchartButtonEl =\n",
              "        document.querySelector('#df-43619bc9-2af3-4946-84df-f935e0bda71b button');\n",
              "      quickchartButtonEl.style.display =\n",
              "        google.colab.kernel.accessAllowed ? 'block' : 'none';\n",
              "    })();\n",
              "  </script>\n",
              "</div>\n",
              "    </div>\n",
              "  </div>\n"
            ]
          },
          "metadata": {},
          "execution_count": 21
        }
      ]
    },
    {
      "cell_type": "markdown",
      "source": [
        "\n",
        "Again, we want to clean and format the data to only look at the `timestamp` and the `co2` values. Run the following cell to clean and format the data for the CO2 pollutant from the California wildfires from August 2021. You **do not** need to undertand the code and what it does."
      ],
      "metadata": {
        "id": "8t7CsVccZxWe"
      }
    },
    {
      "cell_type": "code",
      "source": [
        "# Formats the timestamp column\n",
        "wildfire_co2['timestamp']=pd.to_datetime(wildfire_co2['local_timestamp'],format='%Y-%m-%d  %H:%M:%S')\n",
        "wildfire_co2.index=wildfire_co2['timestamp']\n",
        "\n",
        "# Drop all columns except the ones we want: timestamp and co2\n",
        "wildfire_co2 = wildfire_co2.drop(['local_timestamp','epoch','datetime','node_id','node_file_id', 'timestamp'],axis = 1)\n",
        "\n",
        "# Renaming the columns of the dataframe\n",
        "wildfire_co2 = wildfire_co2.rename(columns={'co2_corrected_avg_t_drift_applied': 'co2'})\n",
        "wildfire_co2"
      ],
      "metadata": {
        "colab": {
          "base_uri": "https://localhost:8080/",
          "height": 455
        },
        "id": "VKHn8g73_GIu",
        "outputId": "69cc8498-36e6-4ab8-b97e-d750cb3fddd3"
      },
      "execution_count": null,
      "outputs": [
        {
          "output_type": "execute_result",
          "data": {
            "text/plain": [
              "                            co2\n",
              "timestamp                      \n",
              "2021-08-01 12:00:00  407.869369\n",
              "2021-08-01 13:00:00  407.901241\n",
              "2021-08-01 14:00:00  408.001317\n",
              "2021-08-01 15:00:00  407.734750\n",
              "2021-08-01 16:00:00  408.327487\n",
              "...                         ...\n",
              "2021-08-31 19:00:00  408.833259\n",
              "2021-08-31 20:00:00  407.690634\n",
              "2021-08-31 21:00:00  408.374617\n",
              "2021-08-31 22:00:00  411.327623\n",
              "2021-08-31 23:00:00  410.755909\n",
              "\n",
              "[729 rows x 1 columns]"
            ],
            "text/html": [
              "\n",
              "  <div id=\"df-0a9380db-d4c4-47c5-9577-5743a846611e\" class=\"colab-df-container\">\n",
              "    <div>\n",
              "<style scoped>\n",
              "    .dataframe tbody tr th:only-of-type {\n",
              "        vertical-align: middle;\n",
              "    }\n",
              "\n",
              "    .dataframe tbody tr th {\n",
              "        vertical-align: top;\n",
              "    }\n",
              "\n",
              "    .dataframe thead th {\n",
              "        text-align: right;\n",
              "    }\n",
              "</style>\n",
              "<table border=\"1\" class=\"dataframe\">\n",
              "  <thead>\n",
              "    <tr style=\"text-align: right;\">\n",
              "      <th></th>\n",
              "      <th>co2</th>\n",
              "    </tr>\n",
              "    <tr>\n",
              "      <th>timestamp</th>\n",
              "      <th></th>\n",
              "    </tr>\n",
              "  </thead>\n",
              "  <tbody>\n",
              "    <tr>\n",
              "      <th>2021-08-01 12:00:00</th>\n",
              "      <td>407.869369</td>\n",
              "    </tr>\n",
              "    <tr>\n",
              "      <th>2021-08-01 13:00:00</th>\n",
              "      <td>407.901241</td>\n",
              "    </tr>\n",
              "    <tr>\n",
              "      <th>2021-08-01 14:00:00</th>\n",
              "      <td>408.001317</td>\n",
              "    </tr>\n",
              "    <tr>\n",
              "      <th>2021-08-01 15:00:00</th>\n",
              "      <td>407.734750</td>\n",
              "    </tr>\n",
              "    <tr>\n",
              "      <th>2021-08-01 16:00:00</th>\n",
              "      <td>408.327487</td>\n",
              "    </tr>\n",
              "    <tr>\n",
              "      <th>...</th>\n",
              "      <td>...</td>\n",
              "    </tr>\n",
              "    <tr>\n",
              "      <th>2021-08-31 19:00:00</th>\n",
              "      <td>408.833259</td>\n",
              "    </tr>\n",
              "    <tr>\n",
              "      <th>2021-08-31 20:00:00</th>\n",
              "      <td>407.690634</td>\n",
              "    </tr>\n",
              "    <tr>\n",
              "      <th>2021-08-31 21:00:00</th>\n",
              "      <td>408.374617</td>\n",
              "    </tr>\n",
              "    <tr>\n",
              "      <th>2021-08-31 22:00:00</th>\n",
              "      <td>411.327623</td>\n",
              "    </tr>\n",
              "    <tr>\n",
              "      <th>2021-08-31 23:00:00</th>\n",
              "      <td>410.755909</td>\n",
              "    </tr>\n",
              "  </tbody>\n",
              "</table>\n",
              "<p>729 rows × 1 columns</p>\n",
              "</div>\n",
              "    <div class=\"colab-df-buttons\">\n",
              "\n",
              "  <div class=\"colab-df-container\">\n",
              "    <button class=\"colab-df-convert\" onclick=\"convertToInteractive('df-0a9380db-d4c4-47c5-9577-5743a846611e')\"\n",
              "            title=\"Convert this dataframe to an interactive table.\"\n",
              "            style=\"display:none;\">\n",
              "\n",
              "  <svg xmlns=\"http://www.w3.org/2000/svg\" height=\"24px\" viewBox=\"0 -960 960 960\">\n",
              "    <path d=\"M120-120v-720h720v720H120Zm60-500h600v-160H180v160Zm220 220h160v-160H400v160Zm0 220h160v-160H400v160ZM180-400h160v-160H180v160Zm440 0h160v-160H620v160ZM180-180h160v-160H180v160Zm440 0h160v-160H620v160Z\"/>\n",
              "  </svg>\n",
              "    </button>\n",
              "\n",
              "  <style>\n",
              "    .colab-df-container {\n",
              "      display:flex;\n",
              "      gap: 12px;\n",
              "    }\n",
              "\n",
              "    .colab-df-convert {\n",
              "      background-color: #E8F0FE;\n",
              "      border: none;\n",
              "      border-radius: 50%;\n",
              "      cursor: pointer;\n",
              "      display: none;\n",
              "      fill: #1967D2;\n",
              "      height: 32px;\n",
              "      padding: 0 0 0 0;\n",
              "      width: 32px;\n",
              "    }\n",
              "\n",
              "    .colab-df-convert:hover {\n",
              "      background-color: #E2EBFA;\n",
              "      box-shadow: 0px 1px 2px rgba(60, 64, 67, 0.3), 0px 1px 3px 1px rgba(60, 64, 67, 0.15);\n",
              "      fill: #174EA6;\n",
              "    }\n",
              "\n",
              "    .colab-df-buttons div {\n",
              "      margin-bottom: 4px;\n",
              "    }\n",
              "\n",
              "    [theme=dark] .colab-df-convert {\n",
              "      background-color: #3B4455;\n",
              "      fill: #D2E3FC;\n",
              "    }\n",
              "\n",
              "    [theme=dark] .colab-df-convert:hover {\n",
              "      background-color: #434B5C;\n",
              "      box-shadow: 0px 1px 3px 1px rgba(0, 0, 0, 0.15);\n",
              "      filter: drop-shadow(0px 1px 2px rgba(0, 0, 0, 0.3));\n",
              "      fill: #FFFFFF;\n",
              "    }\n",
              "  </style>\n",
              "\n",
              "    <script>\n",
              "      const buttonEl =\n",
              "        document.querySelector('#df-0a9380db-d4c4-47c5-9577-5743a846611e button.colab-df-convert');\n",
              "      buttonEl.style.display =\n",
              "        google.colab.kernel.accessAllowed ? 'block' : 'none';\n",
              "\n",
              "      async function convertToInteractive(key) {\n",
              "        const element = document.querySelector('#df-0a9380db-d4c4-47c5-9577-5743a846611e');\n",
              "        const dataTable =\n",
              "          await google.colab.kernel.invokeFunction('convertToInteractive',\n",
              "                                                    [key], {});\n",
              "        if (!dataTable) return;\n",
              "\n",
              "        const docLinkHtml = 'Like what you see? Visit the ' +\n",
              "          '<a target=\"_blank\" href=https://colab.research.google.com/notebooks/data_table.ipynb>data table notebook</a>'\n",
              "          + ' to learn more about interactive tables.';\n",
              "        element.innerHTML = '';\n",
              "        dataTable['output_type'] = 'display_data';\n",
              "        await google.colab.output.renderOutput(dataTable, element);\n",
              "        const docLink = document.createElement('div');\n",
              "        docLink.innerHTML = docLinkHtml;\n",
              "        element.appendChild(docLink);\n",
              "      }\n",
              "    </script>\n",
              "  </div>\n",
              "\n",
              "\n",
              "<div id=\"df-e3dbbb80-77b0-44cd-972d-87389048f578\">\n",
              "  <button class=\"colab-df-quickchart\" onclick=\"quickchart('df-e3dbbb80-77b0-44cd-972d-87389048f578')\"\n",
              "            title=\"Suggest charts\"\n",
              "            style=\"display:none;\">\n",
              "\n",
              "<svg xmlns=\"http://www.w3.org/2000/svg\" height=\"24px\"viewBox=\"0 0 24 24\"\n",
              "     width=\"24px\">\n",
              "    <g>\n",
              "        <path d=\"M19 3H5c-1.1 0-2 .9-2 2v14c0 1.1.9 2 2 2h14c1.1 0 2-.9 2-2V5c0-1.1-.9-2-2-2zM9 17H7v-7h2v7zm4 0h-2V7h2v10zm4 0h-2v-4h2v4z\"/>\n",
              "    </g>\n",
              "</svg>\n",
              "  </button>\n",
              "\n",
              "<style>\n",
              "  .colab-df-quickchart {\n",
              "      --bg-color: #E8F0FE;\n",
              "      --fill-color: #1967D2;\n",
              "      --hover-bg-color: #E2EBFA;\n",
              "      --hover-fill-color: #174EA6;\n",
              "      --disabled-fill-color: #AAA;\n",
              "      --disabled-bg-color: #DDD;\n",
              "  }\n",
              "\n",
              "  [theme=dark] .colab-df-quickchart {\n",
              "      --bg-color: #3B4455;\n",
              "      --fill-color: #D2E3FC;\n",
              "      --hover-bg-color: #434B5C;\n",
              "      --hover-fill-color: #FFFFFF;\n",
              "      --disabled-bg-color: #3B4455;\n",
              "      --disabled-fill-color: #666;\n",
              "  }\n",
              "\n",
              "  .colab-df-quickchart {\n",
              "    background-color: var(--bg-color);\n",
              "    border: none;\n",
              "    border-radius: 50%;\n",
              "    cursor: pointer;\n",
              "    display: none;\n",
              "    fill: var(--fill-color);\n",
              "    height: 32px;\n",
              "    padding: 0;\n",
              "    width: 32px;\n",
              "  }\n",
              "\n",
              "  .colab-df-quickchart:hover {\n",
              "    background-color: var(--hover-bg-color);\n",
              "    box-shadow: 0 1px 2px rgba(60, 64, 67, 0.3), 0 1px 3px 1px rgba(60, 64, 67, 0.15);\n",
              "    fill: var(--button-hover-fill-color);\n",
              "  }\n",
              "\n",
              "  .colab-df-quickchart-complete:disabled,\n",
              "  .colab-df-quickchart-complete:disabled:hover {\n",
              "    background-color: var(--disabled-bg-color);\n",
              "    fill: var(--disabled-fill-color);\n",
              "    box-shadow: none;\n",
              "  }\n",
              "\n",
              "  .colab-df-spinner {\n",
              "    border: 2px solid var(--fill-color);\n",
              "    border-color: transparent;\n",
              "    border-bottom-color: var(--fill-color);\n",
              "    animation:\n",
              "      spin 1s steps(1) infinite;\n",
              "  }\n",
              "\n",
              "  @keyframes spin {\n",
              "    0% {\n",
              "      border-color: transparent;\n",
              "      border-bottom-color: var(--fill-color);\n",
              "      border-left-color: var(--fill-color);\n",
              "    }\n",
              "    20% {\n",
              "      border-color: transparent;\n",
              "      border-left-color: var(--fill-color);\n",
              "      border-top-color: var(--fill-color);\n",
              "    }\n",
              "    30% {\n",
              "      border-color: transparent;\n",
              "      border-left-color: var(--fill-color);\n",
              "      border-top-color: var(--fill-color);\n",
              "      border-right-color: var(--fill-color);\n",
              "    }\n",
              "    40% {\n",
              "      border-color: transparent;\n",
              "      border-right-color: var(--fill-color);\n",
              "      border-top-color: var(--fill-color);\n",
              "    }\n",
              "    60% {\n",
              "      border-color: transparent;\n",
              "      border-right-color: var(--fill-color);\n",
              "    }\n",
              "    80% {\n",
              "      border-color: transparent;\n",
              "      border-right-color: var(--fill-color);\n",
              "      border-bottom-color: var(--fill-color);\n",
              "    }\n",
              "    90% {\n",
              "      border-color: transparent;\n",
              "      border-bottom-color: var(--fill-color);\n",
              "    }\n",
              "  }\n",
              "</style>\n",
              "\n",
              "  <script>\n",
              "    async function quickchart(key) {\n",
              "      const quickchartButtonEl =\n",
              "        document.querySelector('#' + key + ' button');\n",
              "      quickchartButtonEl.disabled = true;  // To prevent multiple clicks.\n",
              "      quickchartButtonEl.classList.add('colab-df-spinner');\n",
              "      try {\n",
              "        const charts = await google.colab.kernel.invokeFunction(\n",
              "            'suggestCharts', [key], {});\n",
              "      } catch (error) {\n",
              "        console.error('Error during call to suggestCharts:', error);\n",
              "      }\n",
              "      quickchartButtonEl.classList.remove('colab-df-spinner');\n",
              "      quickchartButtonEl.classList.add('colab-df-quickchart-complete');\n",
              "    }\n",
              "    (() => {\n",
              "      let quickchartButtonEl =\n",
              "        document.querySelector('#df-e3dbbb80-77b0-44cd-972d-87389048f578 button');\n",
              "      quickchartButtonEl.style.display =\n",
              "        google.colab.kernel.accessAllowed ? 'block' : 'none';\n",
              "    })();\n",
              "  </script>\n",
              "</div>\n",
              "    </div>\n",
              "  </div>\n"
            ]
          },
          "metadata": {},
          "execution_count": 22
        }
      ]
    },
    {
      "cell_type": "markdown",
      "source": [
        "#### 2.1.2 Importing NO Data\n",
        "\n",
        "Let's also load in **NO concentrations** from the same time period. The cell below saves the link we are pulling the NO data from and saves it to the `no_data` variable. Similarly to how we did above, use the `no_data` varaible to load the data into a DataFrame. <br>**Q3: Replace the ... with the variable name.**"
      ],
      "metadata": {
        "id": "I0KpBbd0AgLj"
      }
    },
    {
      "cell_type": "code",
      "source": [
        "no_data = \"http://128.32.208.8/node/31/measurements_all/csv?name=Fred%20T.%20Korematsu%20Elementary%20School&interval=60&variables=no_corrected_new_no_negatives&start=2021-08-01%2012:00:00&end=2021-08-31%2023:00:00&chart_type=measurement\"\n",
        "\n",
        "# Replace ... with the variable name to load the data\n",
        "wildfire_no = pd.read_csv(..., on_bad_lines='skip')\n",
        "wildfire_no"
      ],
      "metadata": {
        "colab": {
          "base_uri": "https://localhost:8080/",
          "height": 424
        },
        "id": "IQUbEies-Y1p",
        "outputId": "366bc815-8119-4709-f609-c347d4b5dfbb"
      },
      "execution_count": null,
      "outputs": [
        {
          "output_type": "execute_result",
          "data": {
            "text/plain": [
              "         local_timestamp         epoch             datetime  node_file_id  \\\n",
              "0    2021-08-01 12:00:00  1.627844e+09  2021-08-01 19:00:00       2155678   \n",
              "1    2021-08-01 13:00:00  1.627848e+09  2021-08-01 20:00:00       2155715   \n",
              "2    2021-08-01 14:00:00  1.627852e+09  2021-08-01 21:00:00       2155750   \n",
              "3    2021-08-01 15:00:00  1.627855e+09  2021-08-01 22:00:00       2155827   \n",
              "4    2021-08-01 16:00:00  1.627859e+09  2021-08-01 23:00:00       2155877   \n",
              "..                   ...           ...                  ...           ...   \n",
              "724  2021-08-31 19:00:00  1.630462e+09  2021-09-01 02:00:00       2219863   \n",
              "725  2021-08-31 20:00:00  1.630465e+09  2021-09-01 03:00:00       2219870   \n",
              "726  2021-08-31 21:00:00  1.630469e+09  2021-09-01 04:00:00       2219962   \n",
              "727  2021-08-31 22:00:00  1.630472e+09  2021-09-01 05:00:00       2220001   \n",
              "728  2021-08-31 23:00:00  1.630476e+09  2021-09-01 06:00:00       2220060   \n",
              "\n",
              "     no_corrected_new_no_negatives  node_id  \n",
              "0                         2.866536       31  \n",
              "1                         2.438883       31  \n",
              "2                         1.779716       31  \n",
              "3                         1.536590       31  \n",
              "4                         1.358038       31  \n",
              "..                             ...      ...  \n",
              "724                       0.305363       31  \n",
              "725                       0.264785       31  \n",
              "726                       0.665146       31  \n",
              "727                       1.091189       31  \n",
              "728                       1.370321       31  \n",
              "\n",
              "[729 rows x 6 columns]"
            ],
            "text/html": [
              "\n",
              "  <div id=\"df-af9cffdc-ec46-4562-9883-04fa377041d3\" class=\"colab-df-container\">\n",
              "    <div>\n",
              "<style scoped>\n",
              "    .dataframe tbody tr th:only-of-type {\n",
              "        vertical-align: middle;\n",
              "    }\n",
              "\n",
              "    .dataframe tbody tr th {\n",
              "        vertical-align: top;\n",
              "    }\n",
              "\n",
              "    .dataframe thead th {\n",
              "        text-align: right;\n",
              "    }\n",
              "</style>\n",
              "<table border=\"1\" class=\"dataframe\">\n",
              "  <thead>\n",
              "    <tr style=\"text-align: right;\">\n",
              "      <th></th>\n",
              "      <th>local_timestamp</th>\n",
              "      <th>epoch</th>\n",
              "      <th>datetime</th>\n",
              "      <th>node_file_id</th>\n",
              "      <th>no_corrected_new_no_negatives</th>\n",
              "      <th>node_id</th>\n",
              "    </tr>\n",
              "  </thead>\n",
              "  <tbody>\n",
              "    <tr>\n",
              "      <th>0</th>\n",
              "      <td>2021-08-01 12:00:00</td>\n",
              "      <td>1.627844e+09</td>\n",
              "      <td>2021-08-01 19:00:00</td>\n",
              "      <td>2155678</td>\n",
              "      <td>2.866536</td>\n",
              "      <td>31</td>\n",
              "    </tr>\n",
              "    <tr>\n",
              "      <th>1</th>\n",
              "      <td>2021-08-01 13:00:00</td>\n",
              "      <td>1.627848e+09</td>\n",
              "      <td>2021-08-01 20:00:00</td>\n",
              "      <td>2155715</td>\n",
              "      <td>2.438883</td>\n",
              "      <td>31</td>\n",
              "    </tr>\n",
              "    <tr>\n",
              "      <th>2</th>\n",
              "      <td>2021-08-01 14:00:00</td>\n",
              "      <td>1.627852e+09</td>\n",
              "      <td>2021-08-01 21:00:00</td>\n",
              "      <td>2155750</td>\n",
              "      <td>1.779716</td>\n",
              "      <td>31</td>\n",
              "    </tr>\n",
              "    <tr>\n",
              "      <th>3</th>\n",
              "      <td>2021-08-01 15:00:00</td>\n",
              "      <td>1.627855e+09</td>\n",
              "      <td>2021-08-01 22:00:00</td>\n",
              "      <td>2155827</td>\n",
              "      <td>1.536590</td>\n",
              "      <td>31</td>\n",
              "    </tr>\n",
              "    <tr>\n",
              "      <th>4</th>\n",
              "      <td>2021-08-01 16:00:00</td>\n",
              "      <td>1.627859e+09</td>\n",
              "      <td>2021-08-01 23:00:00</td>\n",
              "      <td>2155877</td>\n",
              "      <td>1.358038</td>\n",
              "      <td>31</td>\n",
              "    </tr>\n",
              "    <tr>\n",
              "      <th>...</th>\n",
              "      <td>...</td>\n",
              "      <td>...</td>\n",
              "      <td>...</td>\n",
              "      <td>...</td>\n",
              "      <td>...</td>\n",
              "      <td>...</td>\n",
              "    </tr>\n",
              "    <tr>\n",
              "      <th>724</th>\n",
              "      <td>2021-08-31 19:00:00</td>\n",
              "      <td>1.630462e+09</td>\n",
              "      <td>2021-09-01 02:00:00</td>\n",
              "      <td>2219863</td>\n",
              "      <td>0.305363</td>\n",
              "      <td>31</td>\n",
              "    </tr>\n",
              "    <tr>\n",
              "      <th>725</th>\n",
              "      <td>2021-08-31 20:00:00</td>\n",
              "      <td>1.630465e+09</td>\n",
              "      <td>2021-09-01 03:00:00</td>\n",
              "      <td>2219870</td>\n",
              "      <td>0.264785</td>\n",
              "      <td>31</td>\n",
              "    </tr>\n",
              "    <tr>\n",
              "      <th>726</th>\n",
              "      <td>2021-08-31 21:00:00</td>\n",
              "      <td>1.630469e+09</td>\n",
              "      <td>2021-09-01 04:00:00</td>\n",
              "      <td>2219962</td>\n",
              "      <td>0.665146</td>\n",
              "      <td>31</td>\n",
              "    </tr>\n",
              "    <tr>\n",
              "      <th>727</th>\n",
              "      <td>2021-08-31 22:00:00</td>\n",
              "      <td>1.630472e+09</td>\n",
              "      <td>2021-09-01 05:00:00</td>\n",
              "      <td>2220001</td>\n",
              "      <td>1.091189</td>\n",
              "      <td>31</td>\n",
              "    </tr>\n",
              "    <tr>\n",
              "      <th>728</th>\n",
              "      <td>2021-08-31 23:00:00</td>\n",
              "      <td>1.630476e+09</td>\n",
              "      <td>2021-09-01 06:00:00</td>\n",
              "      <td>2220060</td>\n",
              "      <td>1.370321</td>\n",
              "      <td>31</td>\n",
              "    </tr>\n",
              "  </tbody>\n",
              "</table>\n",
              "<p>729 rows × 6 columns</p>\n",
              "</div>\n",
              "    <div class=\"colab-df-buttons\">\n",
              "\n",
              "  <div class=\"colab-df-container\">\n",
              "    <button class=\"colab-df-convert\" onclick=\"convertToInteractive('df-af9cffdc-ec46-4562-9883-04fa377041d3')\"\n",
              "            title=\"Convert this dataframe to an interactive table.\"\n",
              "            style=\"display:none;\">\n",
              "\n",
              "  <svg xmlns=\"http://www.w3.org/2000/svg\" height=\"24px\" viewBox=\"0 -960 960 960\">\n",
              "    <path d=\"M120-120v-720h720v720H120Zm60-500h600v-160H180v160Zm220 220h160v-160H400v160Zm0 220h160v-160H400v160ZM180-400h160v-160H180v160Zm440 0h160v-160H620v160ZM180-180h160v-160H180v160Zm440 0h160v-160H620v160Z\"/>\n",
              "  </svg>\n",
              "    </button>\n",
              "\n",
              "  <style>\n",
              "    .colab-df-container {\n",
              "      display:flex;\n",
              "      gap: 12px;\n",
              "    }\n",
              "\n",
              "    .colab-df-convert {\n",
              "      background-color: #E8F0FE;\n",
              "      border: none;\n",
              "      border-radius: 50%;\n",
              "      cursor: pointer;\n",
              "      display: none;\n",
              "      fill: #1967D2;\n",
              "      height: 32px;\n",
              "      padding: 0 0 0 0;\n",
              "      width: 32px;\n",
              "    }\n",
              "\n",
              "    .colab-df-convert:hover {\n",
              "      background-color: #E2EBFA;\n",
              "      box-shadow: 0px 1px 2px rgba(60, 64, 67, 0.3), 0px 1px 3px 1px rgba(60, 64, 67, 0.15);\n",
              "      fill: #174EA6;\n",
              "    }\n",
              "\n",
              "    .colab-df-buttons div {\n",
              "      margin-bottom: 4px;\n",
              "    }\n",
              "\n",
              "    [theme=dark] .colab-df-convert {\n",
              "      background-color: #3B4455;\n",
              "      fill: #D2E3FC;\n",
              "    }\n",
              "\n",
              "    [theme=dark] .colab-df-convert:hover {\n",
              "      background-color: #434B5C;\n",
              "      box-shadow: 0px 1px 3px 1px rgba(0, 0, 0, 0.15);\n",
              "      filter: drop-shadow(0px 1px 2px rgba(0, 0, 0, 0.3));\n",
              "      fill: #FFFFFF;\n",
              "    }\n",
              "  </style>\n",
              "\n",
              "    <script>\n",
              "      const buttonEl =\n",
              "        document.querySelector('#df-af9cffdc-ec46-4562-9883-04fa377041d3 button.colab-df-convert');\n",
              "      buttonEl.style.display =\n",
              "        google.colab.kernel.accessAllowed ? 'block' : 'none';\n",
              "\n",
              "      async function convertToInteractive(key) {\n",
              "        const element = document.querySelector('#df-af9cffdc-ec46-4562-9883-04fa377041d3');\n",
              "        const dataTable =\n",
              "          await google.colab.kernel.invokeFunction('convertToInteractive',\n",
              "                                                    [key], {});\n",
              "        if (!dataTable) return;\n",
              "\n",
              "        const docLinkHtml = 'Like what you see? Visit the ' +\n",
              "          '<a target=\"_blank\" href=https://colab.research.google.com/notebooks/data_table.ipynb>data table notebook</a>'\n",
              "          + ' to learn more about interactive tables.';\n",
              "        element.innerHTML = '';\n",
              "        dataTable['output_type'] = 'display_data';\n",
              "        await google.colab.output.renderOutput(dataTable, element);\n",
              "        const docLink = document.createElement('div');\n",
              "        docLink.innerHTML = docLinkHtml;\n",
              "        element.appendChild(docLink);\n",
              "      }\n",
              "    </script>\n",
              "  </div>\n",
              "\n",
              "\n",
              "<div id=\"df-7a87f990-7a90-4957-88a2-cd50abc64326\">\n",
              "  <button class=\"colab-df-quickchart\" onclick=\"quickchart('df-7a87f990-7a90-4957-88a2-cd50abc64326')\"\n",
              "            title=\"Suggest charts\"\n",
              "            style=\"display:none;\">\n",
              "\n",
              "<svg xmlns=\"http://www.w3.org/2000/svg\" height=\"24px\"viewBox=\"0 0 24 24\"\n",
              "     width=\"24px\">\n",
              "    <g>\n",
              "        <path d=\"M19 3H5c-1.1 0-2 .9-2 2v14c0 1.1.9 2 2 2h14c1.1 0 2-.9 2-2V5c0-1.1-.9-2-2-2zM9 17H7v-7h2v7zm4 0h-2V7h2v10zm4 0h-2v-4h2v4z\"/>\n",
              "    </g>\n",
              "</svg>\n",
              "  </button>\n",
              "\n",
              "<style>\n",
              "  .colab-df-quickchart {\n",
              "      --bg-color: #E8F0FE;\n",
              "      --fill-color: #1967D2;\n",
              "      --hover-bg-color: #E2EBFA;\n",
              "      --hover-fill-color: #174EA6;\n",
              "      --disabled-fill-color: #AAA;\n",
              "      --disabled-bg-color: #DDD;\n",
              "  }\n",
              "\n",
              "  [theme=dark] .colab-df-quickchart {\n",
              "      --bg-color: #3B4455;\n",
              "      --fill-color: #D2E3FC;\n",
              "      --hover-bg-color: #434B5C;\n",
              "      --hover-fill-color: #FFFFFF;\n",
              "      --disabled-bg-color: #3B4455;\n",
              "      --disabled-fill-color: #666;\n",
              "  }\n",
              "\n",
              "  .colab-df-quickchart {\n",
              "    background-color: var(--bg-color);\n",
              "    border: none;\n",
              "    border-radius: 50%;\n",
              "    cursor: pointer;\n",
              "    display: none;\n",
              "    fill: var(--fill-color);\n",
              "    height: 32px;\n",
              "    padding: 0;\n",
              "    width: 32px;\n",
              "  }\n",
              "\n",
              "  .colab-df-quickchart:hover {\n",
              "    background-color: var(--hover-bg-color);\n",
              "    box-shadow: 0 1px 2px rgba(60, 64, 67, 0.3), 0 1px 3px 1px rgba(60, 64, 67, 0.15);\n",
              "    fill: var(--button-hover-fill-color);\n",
              "  }\n",
              "\n",
              "  .colab-df-quickchart-complete:disabled,\n",
              "  .colab-df-quickchart-complete:disabled:hover {\n",
              "    background-color: var(--disabled-bg-color);\n",
              "    fill: var(--disabled-fill-color);\n",
              "    box-shadow: none;\n",
              "  }\n",
              "\n",
              "  .colab-df-spinner {\n",
              "    border: 2px solid var(--fill-color);\n",
              "    border-color: transparent;\n",
              "    border-bottom-color: var(--fill-color);\n",
              "    animation:\n",
              "      spin 1s steps(1) infinite;\n",
              "  }\n",
              "\n",
              "  @keyframes spin {\n",
              "    0% {\n",
              "      border-color: transparent;\n",
              "      border-bottom-color: var(--fill-color);\n",
              "      border-left-color: var(--fill-color);\n",
              "    }\n",
              "    20% {\n",
              "      border-color: transparent;\n",
              "      border-left-color: var(--fill-color);\n",
              "      border-top-color: var(--fill-color);\n",
              "    }\n",
              "    30% {\n",
              "      border-color: transparent;\n",
              "      border-left-color: var(--fill-color);\n",
              "      border-top-color: var(--fill-color);\n",
              "      border-right-color: var(--fill-color);\n",
              "    }\n",
              "    40% {\n",
              "      border-color: transparent;\n",
              "      border-right-color: var(--fill-color);\n",
              "      border-top-color: var(--fill-color);\n",
              "    }\n",
              "    60% {\n",
              "      border-color: transparent;\n",
              "      border-right-color: var(--fill-color);\n",
              "    }\n",
              "    80% {\n",
              "      border-color: transparent;\n",
              "      border-right-color: var(--fill-color);\n",
              "      border-bottom-color: var(--fill-color);\n",
              "    }\n",
              "    90% {\n",
              "      border-color: transparent;\n",
              "      border-bottom-color: var(--fill-color);\n",
              "    }\n",
              "  }\n",
              "</style>\n",
              "\n",
              "  <script>\n",
              "    async function quickchart(key) {\n",
              "      const quickchartButtonEl =\n",
              "        document.querySelector('#' + key + ' button');\n",
              "      quickchartButtonEl.disabled = true;  // To prevent multiple clicks.\n",
              "      quickchartButtonEl.classList.add('colab-df-spinner');\n",
              "      try {\n",
              "        const charts = await google.colab.kernel.invokeFunction(\n",
              "            'suggestCharts', [key], {});\n",
              "      } catch (error) {\n",
              "        console.error('Error during call to suggestCharts:', error);\n",
              "      }\n",
              "      quickchartButtonEl.classList.remove('colab-df-spinner');\n",
              "      quickchartButtonEl.classList.add('colab-df-quickchart-complete');\n",
              "    }\n",
              "    (() => {\n",
              "      let quickchartButtonEl =\n",
              "        document.querySelector('#df-7a87f990-7a90-4957-88a2-cd50abc64326 button');\n",
              "      quickchartButtonEl.style.display =\n",
              "        google.colab.kernel.accessAllowed ? 'block' : 'none';\n",
              "    })();\n",
              "  </script>\n",
              "</div>\n",
              "    </div>\n",
              "  </div>\n"
            ]
          },
          "metadata": {},
          "execution_count": 23
        }
      ]
    },
    {
      "cell_type": "markdown",
      "source": [
        "Again, we want to clean and format the data to only look at the `timestamp` and the `no` values. Run the following cell to clean and format the data for the NO pollutant from the California wildfires from August 2021. You **do not** need to undertand the code and what it does."
      ],
      "metadata": {
        "id": "vzIHd9RH-5bU"
      }
    },
    {
      "cell_type": "code",
      "source": [
        "# Drop all columns except the ones we want: timestamp and NO\n",
        "wildfire_no['timestamp']=pd.to_datetime(wildfire_no['local_timestamp'],format='%Y-%m-%d  %H:%M:%S')\n",
        "wildfire_no.index=wildfire_no['timestamp']\n",
        "\n",
        "# Drop all columns except the ones we want: timestamp and NO\n",
        "wildfire_no = wildfire_no.drop(['local_timestamp','epoch','datetime','node_id','node_file_id', 'timestamp'],axis = 1)\n",
        "\n",
        "# Renaming the columns of the dataframe\n",
        "wildfire_no = wildfire_no.rename(columns={'no_corrected_new_no_negatives': 'no'})\n",
        "wildfire_no[:10]"
      ],
      "metadata": {
        "colab": {
          "base_uri": "https://localhost:8080/",
          "height": 394
        },
        "id": "ue6O6jArARU0",
        "outputId": "46ad9a1e-8675-405e-fed3-b62e8c41a507"
      },
      "execution_count": null,
      "outputs": [
        {
          "output_type": "execute_result",
          "data": {
            "text/plain": [
              "                           no\n",
              "timestamp                    \n",
              "2021-08-01 12:00:00  2.866536\n",
              "2021-08-01 13:00:00  2.438883\n",
              "2021-08-01 14:00:00  1.779716\n",
              "2021-08-01 15:00:00  1.536590\n",
              "2021-08-01 16:00:00  1.358038\n",
              "2021-08-01 17:00:00  1.277841\n",
              "2021-08-01 18:00:00  1.209827\n",
              "2021-08-01 19:00:00  1.050961\n",
              "2021-08-01 20:00:00  0.435321\n",
              "2021-08-01 21:00:00  0.594763"
            ],
            "text/html": [
              "\n",
              "  <div id=\"df-8421c1d9-dff6-483f-ba12-80ab97ab63c0\" class=\"colab-df-container\">\n",
              "    <div>\n",
              "<style scoped>\n",
              "    .dataframe tbody tr th:only-of-type {\n",
              "        vertical-align: middle;\n",
              "    }\n",
              "\n",
              "    .dataframe tbody tr th {\n",
              "        vertical-align: top;\n",
              "    }\n",
              "\n",
              "    .dataframe thead th {\n",
              "        text-align: right;\n",
              "    }\n",
              "</style>\n",
              "<table border=\"1\" class=\"dataframe\">\n",
              "  <thead>\n",
              "    <tr style=\"text-align: right;\">\n",
              "      <th></th>\n",
              "      <th>no</th>\n",
              "    </tr>\n",
              "    <tr>\n",
              "      <th>timestamp</th>\n",
              "      <th></th>\n",
              "    </tr>\n",
              "  </thead>\n",
              "  <tbody>\n",
              "    <tr>\n",
              "      <th>2021-08-01 12:00:00</th>\n",
              "      <td>2.866536</td>\n",
              "    </tr>\n",
              "    <tr>\n",
              "      <th>2021-08-01 13:00:00</th>\n",
              "      <td>2.438883</td>\n",
              "    </tr>\n",
              "    <tr>\n",
              "      <th>2021-08-01 14:00:00</th>\n",
              "      <td>1.779716</td>\n",
              "    </tr>\n",
              "    <tr>\n",
              "      <th>2021-08-01 15:00:00</th>\n",
              "      <td>1.536590</td>\n",
              "    </tr>\n",
              "    <tr>\n",
              "      <th>2021-08-01 16:00:00</th>\n",
              "      <td>1.358038</td>\n",
              "    </tr>\n",
              "    <tr>\n",
              "      <th>2021-08-01 17:00:00</th>\n",
              "      <td>1.277841</td>\n",
              "    </tr>\n",
              "    <tr>\n",
              "      <th>2021-08-01 18:00:00</th>\n",
              "      <td>1.209827</td>\n",
              "    </tr>\n",
              "    <tr>\n",
              "      <th>2021-08-01 19:00:00</th>\n",
              "      <td>1.050961</td>\n",
              "    </tr>\n",
              "    <tr>\n",
              "      <th>2021-08-01 20:00:00</th>\n",
              "      <td>0.435321</td>\n",
              "    </tr>\n",
              "    <tr>\n",
              "      <th>2021-08-01 21:00:00</th>\n",
              "      <td>0.594763</td>\n",
              "    </tr>\n",
              "  </tbody>\n",
              "</table>\n",
              "</div>\n",
              "    <div class=\"colab-df-buttons\">\n",
              "\n",
              "  <div class=\"colab-df-container\">\n",
              "    <button class=\"colab-df-convert\" onclick=\"convertToInteractive('df-8421c1d9-dff6-483f-ba12-80ab97ab63c0')\"\n",
              "            title=\"Convert this dataframe to an interactive table.\"\n",
              "            style=\"display:none;\">\n",
              "\n",
              "  <svg xmlns=\"http://www.w3.org/2000/svg\" height=\"24px\" viewBox=\"0 -960 960 960\">\n",
              "    <path d=\"M120-120v-720h720v720H120Zm60-500h600v-160H180v160Zm220 220h160v-160H400v160Zm0 220h160v-160H400v160ZM180-400h160v-160H180v160Zm440 0h160v-160H620v160ZM180-180h160v-160H180v160Zm440 0h160v-160H620v160Z\"/>\n",
              "  </svg>\n",
              "    </button>\n",
              "\n",
              "  <style>\n",
              "    .colab-df-container {\n",
              "      display:flex;\n",
              "      gap: 12px;\n",
              "    }\n",
              "\n",
              "    .colab-df-convert {\n",
              "      background-color: #E8F0FE;\n",
              "      border: none;\n",
              "      border-radius: 50%;\n",
              "      cursor: pointer;\n",
              "      display: none;\n",
              "      fill: #1967D2;\n",
              "      height: 32px;\n",
              "      padding: 0 0 0 0;\n",
              "      width: 32px;\n",
              "    }\n",
              "\n",
              "    .colab-df-convert:hover {\n",
              "      background-color: #E2EBFA;\n",
              "      box-shadow: 0px 1px 2px rgba(60, 64, 67, 0.3), 0px 1px 3px 1px rgba(60, 64, 67, 0.15);\n",
              "      fill: #174EA6;\n",
              "    }\n",
              "\n",
              "    .colab-df-buttons div {\n",
              "      margin-bottom: 4px;\n",
              "    }\n",
              "\n",
              "    [theme=dark] .colab-df-convert {\n",
              "      background-color: #3B4455;\n",
              "      fill: #D2E3FC;\n",
              "    }\n",
              "\n",
              "    [theme=dark] .colab-df-convert:hover {\n",
              "      background-color: #434B5C;\n",
              "      box-shadow: 0px 1px 3px 1px rgba(0, 0, 0, 0.15);\n",
              "      filter: drop-shadow(0px 1px 2px rgba(0, 0, 0, 0.3));\n",
              "      fill: #FFFFFF;\n",
              "    }\n",
              "  </style>\n",
              "\n",
              "    <script>\n",
              "      const buttonEl =\n",
              "        document.querySelector('#df-8421c1d9-dff6-483f-ba12-80ab97ab63c0 button.colab-df-convert');\n",
              "      buttonEl.style.display =\n",
              "        google.colab.kernel.accessAllowed ? 'block' : 'none';\n",
              "\n",
              "      async function convertToInteractive(key) {\n",
              "        const element = document.querySelector('#df-8421c1d9-dff6-483f-ba12-80ab97ab63c0');\n",
              "        const dataTable =\n",
              "          await google.colab.kernel.invokeFunction('convertToInteractive',\n",
              "                                                    [key], {});\n",
              "        if (!dataTable) return;\n",
              "\n",
              "        const docLinkHtml = 'Like what you see? Visit the ' +\n",
              "          '<a target=\"_blank\" href=https://colab.research.google.com/notebooks/data_table.ipynb>data table notebook</a>'\n",
              "          + ' to learn more about interactive tables.';\n",
              "        element.innerHTML = '';\n",
              "        dataTable['output_type'] = 'display_data';\n",
              "        await google.colab.output.renderOutput(dataTable, element);\n",
              "        const docLink = document.createElement('div');\n",
              "        docLink.innerHTML = docLinkHtml;\n",
              "        element.appendChild(docLink);\n",
              "      }\n",
              "    </script>\n",
              "  </div>\n",
              "\n",
              "\n",
              "<div id=\"df-f5d07467-173c-45af-9243-a6ad29c4d033\">\n",
              "  <button class=\"colab-df-quickchart\" onclick=\"quickchart('df-f5d07467-173c-45af-9243-a6ad29c4d033')\"\n",
              "            title=\"Suggest charts\"\n",
              "            style=\"display:none;\">\n",
              "\n",
              "<svg xmlns=\"http://www.w3.org/2000/svg\" height=\"24px\"viewBox=\"0 0 24 24\"\n",
              "     width=\"24px\">\n",
              "    <g>\n",
              "        <path d=\"M19 3H5c-1.1 0-2 .9-2 2v14c0 1.1.9 2 2 2h14c1.1 0 2-.9 2-2V5c0-1.1-.9-2-2-2zM9 17H7v-7h2v7zm4 0h-2V7h2v10zm4 0h-2v-4h2v4z\"/>\n",
              "    </g>\n",
              "</svg>\n",
              "  </button>\n",
              "\n",
              "<style>\n",
              "  .colab-df-quickchart {\n",
              "      --bg-color: #E8F0FE;\n",
              "      --fill-color: #1967D2;\n",
              "      --hover-bg-color: #E2EBFA;\n",
              "      --hover-fill-color: #174EA6;\n",
              "      --disabled-fill-color: #AAA;\n",
              "      --disabled-bg-color: #DDD;\n",
              "  }\n",
              "\n",
              "  [theme=dark] .colab-df-quickchart {\n",
              "      --bg-color: #3B4455;\n",
              "      --fill-color: #D2E3FC;\n",
              "      --hover-bg-color: #434B5C;\n",
              "      --hover-fill-color: #FFFFFF;\n",
              "      --disabled-bg-color: #3B4455;\n",
              "      --disabled-fill-color: #666;\n",
              "  }\n",
              "\n",
              "  .colab-df-quickchart {\n",
              "    background-color: var(--bg-color);\n",
              "    border: none;\n",
              "    border-radius: 50%;\n",
              "    cursor: pointer;\n",
              "    display: none;\n",
              "    fill: var(--fill-color);\n",
              "    height: 32px;\n",
              "    padding: 0;\n",
              "    width: 32px;\n",
              "  }\n",
              "\n",
              "  .colab-df-quickchart:hover {\n",
              "    background-color: var(--hover-bg-color);\n",
              "    box-shadow: 0 1px 2px rgba(60, 64, 67, 0.3), 0 1px 3px 1px rgba(60, 64, 67, 0.15);\n",
              "    fill: var(--button-hover-fill-color);\n",
              "  }\n",
              "\n",
              "  .colab-df-quickchart-complete:disabled,\n",
              "  .colab-df-quickchart-complete:disabled:hover {\n",
              "    background-color: var(--disabled-bg-color);\n",
              "    fill: var(--disabled-fill-color);\n",
              "    box-shadow: none;\n",
              "  }\n",
              "\n",
              "  .colab-df-spinner {\n",
              "    border: 2px solid var(--fill-color);\n",
              "    border-color: transparent;\n",
              "    border-bottom-color: var(--fill-color);\n",
              "    animation:\n",
              "      spin 1s steps(1) infinite;\n",
              "  }\n",
              "\n",
              "  @keyframes spin {\n",
              "    0% {\n",
              "      border-color: transparent;\n",
              "      border-bottom-color: var(--fill-color);\n",
              "      border-left-color: var(--fill-color);\n",
              "    }\n",
              "    20% {\n",
              "      border-color: transparent;\n",
              "      border-left-color: var(--fill-color);\n",
              "      border-top-color: var(--fill-color);\n",
              "    }\n",
              "    30% {\n",
              "      border-color: transparent;\n",
              "      border-left-color: var(--fill-color);\n",
              "      border-top-color: var(--fill-color);\n",
              "      border-right-color: var(--fill-color);\n",
              "    }\n",
              "    40% {\n",
              "      border-color: transparent;\n",
              "      border-right-color: var(--fill-color);\n",
              "      border-top-color: var(--fill-color);\n",
              "    }\n",
              "    60% {\n",
              "      border-color: transparent;\n",
              "      border-right-color: var(--fill-color);\n",
              "    }\n",
              "    80% {\n",
              "      border-color: transparent;\n",
              "      border-right-color: var(--fill-color);\n",
              "      border-bottom-color: var(--fill-color);\n",
              "    }\n",
              "    90% {\n",
              "      border-color: transparent;\n",
              "      border-bottom-color: var(--fill-color);\n",
              "    }\n",
              "  }\n",
              "</style>\n",
              "\n",
              "  <script>\n",
              "    async function quickchart(key) {\n",
              "      const quickchartButtonEl =\n",
              "        document.querySelector('#' + key + ' button');\n",
              "      quickchartButtonEl.disabled = true;  // To prevent multiple clicks.\n",
              "      quickchartButtonEl.classList.add('colab-df-spinner');\n",
              "      try {\n",
              "        const charts = await google.colab.kernel.invokeFunction(\n",
              "            'suggestCharts', [key], {});\n",
              "      } catch (error) {\n",
              "        console.error('Error during call to suggestCharts:', error);\n",
              "      }\n",
              "      quickchartButtonEl.classList.remove('colab-df-spinner');\n",
              "      quickchartButtonEl.classList.add('colab-df-quickchart-complete');\n",
              "    }\n",
              "    (() => {\n",
              "      let quickchartButtonEl =\n",
              "        document.querySelector('#df-f5d07467-173c-45af-9243-a6ad29c4d033 button');\n",
              "      quickchartButtonEl.style.display =\n",
              "        google.colab.kernel.accessAllowed ? 'block' : 'none';\n",
              "    })();\n",
              "  </script>\n",
              "</div>\n",
              "    </div>\n",
              "  </div>\n"
            ]
          },
          "metadata": {},
          "execution_count": 24
        }
      ]
    },
    {
      "source": [
        "### 2.2 Accessing Data\n",
        "\n",
        "Often times DataFrames are quite large and contain many rows and columns, some of which are not relevant to the problem at hand. In these cases, it is useful to look just at specific parts of the DataFrames. This process is often referred to as **indexing or slicing**. There are a few ways that you can do this!"
      ],
      "cell_type": "markdown",
      "metadata": {
        "id": "XtYZ7114n3b-"
      }
    },
    {
      "cell_type": "markdown",
      "source": [
        "#### 2.2.1 Bracket extracting\n",
        "The `[]` operator is one way that you can access specific columns/series. You can use pass in a column name into the brackets to extract the values of a certain column.\n",
        "\n",
        ">**`dataframe_name[\"column_name\"]` returns the column as a `Series`**. <br>*Reminder:* There must be quotation marks (`' '` or `\" \"`) around the column name.\n",
        "\n",
        "Let's extract the `'pm'` column from the `wildfire_pm` DataFrame and save the series to the variable `pm`.<br>This column represents the wildfire particulate matter concentrations."
      ],
      "metadata": {
        "id": "edOa5E4fQjXk"
      }
    },
    {
      "source": [
        "# This sets the variable pm to the Series containing the pm values\n",
        "pm = wildfire_pm['pm']\n",
        "pm"
      ],
      "cell_type": "code",
      "execution_count": null,
      "outputs": [
        {
          "output_type": "execute_result",
          "data": {
            "text/plain": [
              "timestamp\n",
              "2021-08-01 12:00:00    1.89882\n",
              "2021-08-01 13:00:00    1.57583\n",
              "2021-08-01 14:00:00    2.00943\n",
              "2021-08-01 15:00:00    1.52706\n",
              "2021-08-01 16:00:00    1.22749\n",
              "                        ...   \n",
              "2021-08-31 19:00:00    4.32151\n",
              "2021-08-31 20:00:00    5.30118\n",
              "2021-08-31 21:00:00    4.74171\n",
              "2021-08-31 22:00:00    3.55556\n",
              "2021-08-31 23:00:00    4.61466\n",
              "Name: pm, Length: 729, dtype: float64"
            ]
          },
          "metadata": {},
          "execution_count": 25
        }
      ],
      "metadata": {
        "id": "_TFm7-looBFF",
        "colab": {
          "base_uri": "https://localhost:8080/"
        },
        "outputId": "7f71185d-0cb0-4a00-872a-1845ddf717ca"
      }
    },
    {
      "cell_type": "markdown",
      "source": [
        "We can even use the `[]` operator on a `Series` to select a certain item from the column by inputting a certain index inside the brackets."
      ],
      "metadata": {
        "id": "dBokZ8YvLLkw"
      }
    },
    {
      "source": [
        "pm[1]"
      ],
      "cell_type": "code",
      "execution_count": null,
      "outputs": [
        {
          "output_type": "execute_result",
          "data": {
            "text/plain": [
              "1.57583"
            ]
          },
          "metadata": {},
          "execution_count": 26
        }
      ],
      "metadata": {
        "id": "V5L6xacLoxyv",
        "colab": {
          "base_uri": "https://localhost:8080/"
        },
        "outputId": "3b64769e-e9df-4176-fea1-f1b3339de9bc"
      }
    },
    {
      "cell_type": "markdown",
      "source": [
        "\n",
        "Notice how `pm[1]` gives us the second item and not the first? This is because `pandas` defaults to something called **zero-indexing**, where the first item is considered index 0, the second item is at index 1, so on and so forth...<br>Thus, in order to extract the PM value in the first row of the DataFrame (*or* equivalently, the first value of the series that represents the `'pm'` column), we need to use the *0th* index."
      ],
      "metadata": {
        "id": "7uJMQJl5ThZb"
      }
    },
    {
      "cell_type": "code",
      "source": [
        "pm[0]"
      ],
      "metadata": {
        "colab": {
          "base_uri": "https://localhost:8080/"
        },
        "id": "brwy6ovA3-Hx",
        "outputId": "c05a563f-fd17-4fcd-80f6-65efb66caf9a"
      },
      "execution_count": null,
      "outputs": [
        {
          "output_type": "execute_result",
          "data": {
            "text/plain": [
              "1.89882"
            ]
          },
          "metadata": {},
          "execution_count": 12
        }
      ]
    },
    {
      "cell_type": "markdown",
      "source": [
        "Now we have the first value from the series seen above!\n",
        "\n",
        "We can even input a starting index *and* ending index inside of the brackets to get multiple elements! The following code will output the items starting from index 0 and will grab all the elements at every index *up to* the element at the 4th index -- excluding the element at the 4th index."
      ],
      "metadata": {
        "id": "7p7N74RiU8xy"
      }
    },
    {
      "source": [
        "pm[0:4]"
      ],
      "cell_type": "code",
      "execution_count": null,
      "outputs": [
        {
          "output_type": "execute_result",
          "data": {
            "text/plain": [
              "timestamp\n",
              "2021-08-01 12:00:00    1.89882\n",
              "2021-08-01 13:00:00    1.57583\n",
              "2021-08-01 14:00:00    2.00943\n",
              "2021-08-01 15:00:00    1.52706\n",
              "Name: pm, dtype: float64"
            ]
          },
          "metadata": {},
          "execution_count": 13
        }
      ],
      "metadata": {
        "id": "gcYX1tBPugZl",
        "colab": {
          "base_uri": "https://localhost:8080/"
        },
        "outputId": "5058269c-882e-47a6-a046-710997f32826"
      }
    },
    {
      "cell_type": "markdown",
      "source": [
        "Experiment with different inputs to the bracket operator yourself and see what it outputs! Try to anticipate what the output will look like."
      ],
      "metadata": {
        "id": "J1Mle96LXEAV"
      }
    },
    {
      "cell_type": "code",
      "source": [
        "# Replace the 0 and 4 with any numbers you want\n",
        "pm[...:...]"
      ],
      "metadata": {
        "id": "-5A8wUsTXRRG",
        "colab": {
          "base_uri": "https://localhost:8080/"
        },
        "outputId": "babe63ee-5fa0-4845-fec5-22b39b404bb8"
      },
      "execution_count": null,
      "outputs": [
        {
          "output_type": "execute_result",
          "data": {
            "text/plain": [
              "timestamp\n",
              "2021-08-01 12:00:00    1.89882\n",
              "2021-08-01 13:00:00    1.57583\n",
              "2021-08-01 14:00:00    2.00943\n",
              "2021-08-01 15:00:00    1.52706\n",
              "Name: pm, dtype: float64"
            ]
          },
          "metadata": {},
          "execution_count": 38
        }
      ]
    },
    {
      "cell_type": "markdown",
      "source": [
        "#### 2.2.2 `.iloc`\n",
        "Another way to extract values is using `.iloc`. This function allows us to access specific *rows*. We can input a single integer representing which row we want or a list of integers if we want to select multiple rows!"
      ],
      "metadata": {
        "id": "7Dv5UJhT9kN_"
      }
    },
    {
      "cell_type": "markdown",
      "source": [
        "If we wanted to grab the very first row (the row with index 0), we would run:"
      ],
      "metadata": {
        "id": "HkKwq08tJGIu"
      }
    },
    {
      "cell_type": "code",
      "source": [
        "wildfire_pm.iloc[0]"
      ],
      "metadata": {
        "colab": {
          "base_uri": "https://localhost:8080/"
        },
        "id": "Azw5qegjJp-Y",
        "outputId": "05828c02-6f92-4eb7-c7cd-5cc5e3bfbbc0"
      },
      "execution_count": null,
      "outputs": [
        {
          "output_type": "execute_result",
          "data": {
            "text/plain": [
              "pm    1.89882\n",
              "Name: 2021-08-01 12:00:00, dtype: float64"
            ]
          },
          "metadata": {},
          "execution_count": 31
        }
      ]
    },
    {
      "cell_type": "markdown",
      "source": [
        "This results in the `'pm'` value and the `'timestamp'` values of the first row.<br>We can see the row `1` is at position `0`, row `2` would be position `1`, ... and so on so forth with row `n` being at position `n-1` (again, this is called zero-indexing!)."
      ],
      "metadata": {
        "id": "SuocBTjQJ96D"
      }
    },
    {
      "cell_type": "markdown",
      "source": [
        "The following cell accesses rows at positions `0`, `4`, `2` from our `wildfire_pm` data and outputs them in the specified order!"
      ],
      "metadata": {
        "id": "qRyZ3eGQ-MDt"
      }
    },
    {
      "cell_type": "code",
      "source": [
        "wildfire_pm.iloc[[0,4,2]]"
      ],
      "metadata": {
        "colab": {
          "base_uri": "https://localhost:8080/",
          "height": 175
        },
        "id": "9vQysb3e6Toq",
        "outputId": "f7745f46-2eb5-4e6d-d11b-9ef51f4da268"
      },
      "execution_count": null,
      "outputs": [
        {
          "output_type": "execute_result",
          "data": {
            "text/plain": [
              "                          pm\n",
              "timestamp                   \n",
              "2021-08-01 12:00:00  1.89882\n",
              "2021-08-01 16:00:00  1.22749\n",
              "2021-08-01 14:00:00  2.00943"
            ],
            "text/html": [
              "\n",
              "  <div id=\"df-ddc7b74d-6fa3-4ce2-9270-3fb5319a841f\" class=\"colab-df-container\">\n",
              "    <div>\n",
              "<style scoped>\n",
              "    .dataframe tbody tr th:only-of-type {\n",
              "        vertical-align: middle;\n",
              "    }\n",
              "\n",
              "    .dataframe tbody tr th {\n",
              "        vertical-align: top;\n",
              "    }\n",
              "\n",
              "    .dataframe thead th {\n",
              "        text-align: right;\n",
              "    }\n",
              "</style>\n",
              "<table border=\"1\" class=\"dataframe\">\n",
              "  <thead>\n",
              "    <tr style=\"text-align: right;\">\n",
              "      <th></th>\n",
              "      <th>pm</th>\n",
              "    </tr>\n",
              "    <tr>\n",
              "      <th>timestamp</th>\n",
              "      <th></th>\n",
              "    </tr>\n",
              "  </thead>\n",
              "  <tbody>\n",
              "    <tr>\n",
              "      <th>2021-08-01 12:00:00</th>\n",
              "      <td>1.89882</td>\n",
              "    </tr>\n",
              "    <tr>\n",
              "      <th>2021-08-01 16:00:00</th>\n",
              "      <td>1.22749</td>\n",
              "    </tr>\n",
              "    <tr>\n",
              "      <th>2021-08-01 14:00:00</th>\n",
              "      <td>2.00943</td>\n",
              "    </tr>\n",
              "  </tbody>\n",
              "</table>\n",
              "</div>\n",
              "    <div class=\"colab-df-buttons\">\n",
              "\n",
              "  <div class=\"colab-df-container\">\n",
              "    <button class=\"colab-df-convert\" onclick=\"convertToInteractive('df-ddc7b74d-6fa3-4ce2-9270-3fb5319a841f')\"\n",
              "            title=\"Convert this dataframe to an interactive table.\"\n",
              "            style=\"display:none;\">\n",
              "\n",
              "  <svg xmlns=\"http://www.w3.org/2000/svg\" height=\"24px\" viewBox=\"0 -960 960 960\">\n",
              "    <path d=\"M120-120v-720h720v720H120Zm60-500h600v-160H180v160Zm220 220h160v-160H400v160Zm0 220h160v-160H400v160ZM180-400h160v-160H180v160Zm440 0h160v-160H620v160ZM180-180h160v-160H180v160Zm440 0h160v-160H620v160Z\"/>\n",
              "  </svg>\n",
              "    </button>\n",
              "\n",
              "  <style>\n",
              "    .colab-df-container {\n",
              "      display:flex;\n",
              "      gap: 12px;\n",
              "    }\n",
              "\n",
              "    .colab-df-convert {\n",
              "      background-color: #E8F0FE;\n",
              "      border: none;\n",
              "      border-radius: 50%;\n",
              "      cursor: pointer;\n",
              "      display: none;\n",
              "      fill: #1967D2;\n",
              "      height: 32px;\n",
              "      padding: 0 0 0 0;\n",
              "      width: 32px;\n",
              "    }\n",
              "\n",
              "    .colab-df-convert:hover {\n",
              "      background-color: #E2EBFA;\n",
              "      box-shadow: 0px 1px 2px rgba(60, 64, 67, 0.3), 0px 1px 3px 1px rgba(60, 64, 67, 0.15);\n",
              "      fill: #174EA6;\n",
              "    }\n",
              "\n",
              "    .colab-df-buttons div {\n",
              "      margin-bottom: 4px;\n",
              "    }\n",
              "\n",
              "    [theme=dark] .colab-df-convert {\n",
              "      background-color: #3B4455;\n",
              "      fill: #D2E3FC;\n",
              "    }\n",
              "\n",
              "    [theme=dark] .colab-df-convert:hover {\n",
              "      background-color: #434B5C;\n",
              "      box-shadow: 0px 1px 3px 1px rgba(0, 0, 0, 0.15);\n",
              "      filter: drop-shadow(0px 1px 2px rgba(0, 0, 0, 0.3));\n",
              "      fill: #FFFFFF;\n",
              "    }\n",
              "  </style>\n",
              "\n",
              "    <script>\n",
              "      const buttonEl =\n",
              "        document.querySelector('#df-ddc7b74d-6fa3-4ce2-9270-3fb5319a841f button.colab-df-convert');\n",
              "      buttonEl.style.display =\n",
              "        google.colab.kernel.accessAllowed ? 'block' : 'none';\n",
              "\n",
              "      async function convertToInteractive(key) {\n",
              "        const element = document.querySelector('#df-ddc7b74d-6fa3-4ce2-9270-3fb5319a841f');\n",
              "        const dataTable =\n",
              "          await google.colab.kernel.invokeFunction('convertToInteractive',\n",
              "                                                    [key], {});\n",
              "        if (!dataTable) return;\n",
              "\n",
              "        const docLinkHtml = 'Like what you see? Visit the ' +\n",
              "          '<a target=\"_blank\" href=https://colab.research.google.com/notebooks/data_table.ipynb>data table notebook</a>'\n",
              "          + ' to learn more about interactive tables.';\n",
              "        element.innerHTML = '';\n",
              "        dataTable['output_type'] = 'display_data';\n",
              "        await google.colab.output.renderOutput(dataTable, element);\n",
              "        const docLink = document.createElement('div');\n",
              "        docLink.innerHTML = docLinkHtml;\n",
              "        element.appendChild(docLink);\n",
              "      }\n",
              "    </script>\n",
              "  </div>\n",
              "\n",
              "\n",
              "<div id=\"df-bf9ca80b-877a-449d-befb-2590fe8a9e96\">\n",
              "  <button class=\"colab-df-quickchart\" onclick=\"quickchart('df-bf9ca80b-877a-449d-befb-2590fe8a9e96')\"\n",
              "            title=\"Suggest charts\"\n",
              "            style=\"display:none;\">\n",
              "\n",
              "<svg xmlns=\"http://www.w3.org/2000/svg\" height=\"24px\"viewBox=\"0 0 24 24\"\n",
              "     width=\"24px\">\n",
              "    <g>\n",
              "        <path d=\"M19 3H5c-1.1 0-2 .9-2 2v14c0 1.1.9 2 2 2h14c1.1 0 2-.9 2-2V5c0-1.1-.9-2-2-2zM9 17H7v-7h2v7zm4 0h-2V7h2v10zm4 0h-2v-4h2v4z\"/>\n",
              "    </g>\n",
              "</svg>\n",
              "  </button>\n",
              "\n",
              "<style>\n",
              "  .colab-df-quickchart {\n",
              "      --bg-color: #E8F0FE;\n",
              "      --fill-color: #1967D2;\n",
              "      --hover-bg-color: #E2EBFA;\n",
              "      --hover-fill-color: #174EA6;\n",
              "      --disabled-fill-color: #AAA;\n",
              "      --disabled-bg-color: #DDD;\n",
              "  }\n",
              "\n",
              "  [theme=dark] .colab-df-quickchart {\n",
              "      --bg-color: #3B4455;\n",
              "      --fill-color: #D2E3FC;\n",
              "      --hover-bg-color: #434B5C;\n",
              "      --hover-fill-color: #FFFFFF;\n",
              "      --disabled-bg-color: #3B4455;\n",
              "      --disabled-fill-color: #666;\n",
              "  }\n",
              "\n",
              "  .colab-df-quickchart {\n",
              "    background-color: var(--bg-color);\n",
              "    border: none;\n",
              "    border-radius: 50%;\n",
              "    cursor: pointer;\n",
              "    display: none;\n",
              "    fill: var(--fill-color);\n",
              "    height: 32px;\n",
              "    padding: 0;\n",
              "    width: 32px;\n",
              "  }\n",
              "\n",
              "  .colab-df-quickchart:hover {\n",
              "    background-color: var(--hover-bg-color);\n",
              "    box-shadow: 0 1px 2px rgba(60, 64, 67, 0.3), 0 1px 3px 1px rgba(60, 64, 67, 0.15);\n",
              "    fill: var(--button-hover-fill-color);\n",
              "  }\n",
              "\n",
              "  .colab-df-quickchart-complete:disabled,\n",
              "  .colab-df-quickchart-complete:disabled:hover {\n",
              "    background-color: var(--disabled-bg-color);\n",
              "    fill: var(--disabled-fill-color);\n",
              "    box-shadow: none;\n",
              "  }\n",
              "\n",
              "  .colab-df-spinner {\n",
              "    border: 2px solid var(--fill-color);\n",
              "    border-color: transparent;\n",
              "    border-bottom-color: var(--fill-color);\n",
              "    animation:\n",
              "      spin 1s steps(1) infinite;\n",
              "  }\n",
              "\n",
              "  @keyframes spin {\n",
              "    0% {\n",
              "      border-color: transparent;\n",
              "      border-bottom-color: var(--fill-color);\n",
              "      border-left-color: var(--fill-color);\n",
              "    }\n",
              "    20% {\n",
              "      border-color: transparent;\n",
              "      border-left-color: var(--fill-color);\n",
              "      border-top-color: var(--fill-color);\n",
              "    }\n",
              "    30% {\n",
              "      border-color: transparent;\n",
              "      border-left-color: var(--fill-color);\n",
              "      border-top-color: var(--fill-color);\n",
              "      border-right-color: var(--fill-color);\n",
              "    }\n",
              "    40% {\n",
              "      border-color: transparent;\n",
              "      border-right-color: var(--fill-color);\n",
              "      border-top-color: var(--fill-color);\n",
              "    }\n",
              "    60% {\n",
              "      border-color: transparent;\n",
              "      border-right-color: var(--fill-color);\n",
              "    }\n",
              "    80% {\n",
              "      border-color: transparent;\n",
              "      border-right-color: var(--fill-color);\n",
              "      border-bottom-color: var(--fill-color);\n",
              "    }\n",
              "    90% {\n",
              "      border-color: transparent;\n",
              "      border-bottom-color: var(--fill-color);\n",
              "    }\n",
              "  }\n",
              "</style>\n",
              "\n",
              "  <script>\n",
              "    async function quickchart(key) {\n",
              "      const quickchartButtonEl =\n",
              "        document.querySelector('#' + key + ' button');\n",
              "      quickchartButtonEl.disabled = true;  // To prevent multiple clicks.\n",
              "      quickchartButtonEl.classList.add('colab-df-spinner');\n",
              "      try {\n",
              "        const charts = await google.colab.kernel.invokeFunction(\n",
              "            'suggestCharts', [key], {});\n",
              "      } catch (error) {\n",
              "        console.error('Error during call to suggestCharts:', error);\n",
              "      }\n",
              "      quickchartButtonEl.classList.remove('colab-df-spinner');\n",
              "      quickchartButtonEl.classList.add('colab-df-quickchart-complete');\n",
              "    }\n",
              "    (() => {\n",
              "      let quickchartButtonEl =\n",
              "        document.querySelector('#df-bf9ca80b-877a-449d-befb-2590fe8a9e96 button');\n",
              "      quickchartButtonEl.style.display =\n",
              "        google.colab.kernel.accessAllowed ? 'block' : 'none';\n",
              "    })();\n",
              "  </script>\n",
              "</div>\n",
              "    </div>\n",
              "  </div>\n"
            ]
          },
          "metadata": {},
          "execution_count": 33
        }
      ]
    },
    {
      "cell_type": "markdown",
      "source": [
        "**Your turn! Q4**\n",
        "<br>**Fill in the `...` with first 10 rows of the wildfire_pm DataFrame.**\n",
        ">*Hint:* `dataframe_name.iloc[0:4]` returns 4 rows."
      ],
      "metadata": {
        "id": "jiD_D-rV_aui"
      }
    },
    {
      "cell_type": "code",
      "source": [
        "#Replace ... with the first 10 rows from wildfire_pm\n",
        "wildfire_pm.iloc[...:...]"
      ],
      "metadata": {
        "colab": {
          "base_uri": "https://localhost:8080/",
          "height": 206
        },
        "id": "Y-W1yO3b-ncK",
        "outputId": "ebb9e100-b0b6-41d7-9b9a-07ac72d32f10"
      },
      "execution_count": null,
      "outputs": [
        {
          "output_type": "execute_result",
          "data": {
            "text/plain": [
              "                          pm\n",
              "timestamp                   \n",
              "2021-08-01 12:00:00  1.89882\n",
              "2021-08-01 13:00:00  1.57583\n",
              "2021-08-01 14:00:00  2.00943\n",
              "2021-08-01 15:00:00  1.52706"
            ],
            "text/html": [
              "\n",
              "  <div id=\"df-21223492-60e9-43b1-858a-6265a4f7b22c\" class=\"colab-df-container\">\n",
              "    <div>\n",
              "<style scoped>\n",
              "    .dataframe tbody tr th:only-of-type {\n",
              "        vertical-align: middle;\n",
              "    }\n",
              "\n",
              "    .dataframe tbody tr th {\n",
              "        vertical-align: top;\n",
              "    }\n",
              "\n",
              "    .dataframe thead th {\n",
              "        text-align: right;\n",
              "    }\n",
              "</style>\n",
              "<table border=\"1\" class=\"dataframe\">\n",
              "  <thead>\n",
              "    <tr style=\"text-align: right;\">\n",
              "      <th></th>\n",
              "      <th>pm</th>\n",
              "    </tr>\n",
              "    <tr>\n",
              "      <th>timestamp</th>\n",
              "      <th></th>\n",
              "    </tr>\n",
              "  </thead>\n",
              "  <tbody>\n",
              "    <tr>\n",
              "      <th>2021-08-01 12:00:00</th>\n",
              "      <td>1.89882</td>\n",
              "    </tr>\n",
              "    <tr>\n",
              "      <th>2021-08-01 13:00:00</th>\n",
              "      <td>1.57583</td>\n",
              "    </tr>\n",
              "    <tr>\n",
              "      <th>2021-08-01 14:00:00</th>\n",
              "      <td>2.00943</td>\n",
              "    </tr>\n",
              "    <tr>\n",
              "      <th>2021-08-01 15:00:00</th>\n",
              "      <td>1.52706</td>\n",
              "    </tr>\n",
              "  </tbody>\n",
              "</table>\n",
              "</div>\n",
              "    <div class=\"colab-df-buttons\">\n",
              "\n",
              "  <div class=\"colab-df-container\">\n",
              "    <button class=\"colab-df-convert\" onclick=\"convertToInteractive('df-21223492-60e9-43b1-858a-6265a4f7b22c')\"\n",
              "            title=\"Convert this dataframe to an interactive table.\"\n",
              "            style=\"display:none;\">\n",
              "\n",
              "  <svg xmlns=\"http://www.w3.org/2000/svg\" height=\"24px\" viewBox=\"0 -960 960 960\">\n",
              "    <path d=\"M120-120v-720h720v720H120Zm60-500h600v-160H180v160Zm220 220h160v-160H400v160Zm0 220h160v-160H400v160ZM180-400h160v-160H180v160Zm440 0h160v-160H620v160ZM180-180h160v-160H180v160Zm440 0h160v-160H620v160Z\"/>\n",
              "  </svg>\n",
              "    </button>\n",
              "\n",
              "  <style>\n",
              "    .colab-df-container {\n",
              "      display:flex;\n",
              "      gap: 12px;\n",
              "    }\n",
              "\n",
              "    .colab-df-convert {\n",
              "      background-color: #E8F0FE;\n",
              "      border: none;\n",
              "      border-radius: 50%;\n",
              "      cursor: pointer;\n",
              "      display: none;\n",
              "      fill: #1967D2;\n",
              "      height: 32px;\n",
              "      padding: 0 0 0 0;\n",
              "      width: 32px;\n",
              "    }\n",
              "\n",
              "    .colab-df-convert:hover {\n",
              "      background-color: #E2EBFA;\n",
              "      box-shadow: 0px 1px 2px rgba(60, 64, 67, 0.3), 0px 1px 3px 1px rgba(60, 64, 67, 0.15);\n",
              "      fill: #174EA6;\n",
              "    }\n",
              "\n",
              "    .colab-df-buttons div {\n",
              "      margin-bottom: 4px;\n",
              "    }\n",
              "\n",
              "    [theme=dark] .colab-df-convert {\n",
              "      background-color: #3B4455;\n",
              "      fill: #D2E3FC;\n",
              "    }\n",
              "\n",
              "    [theme=dark] .colab-df-convert:hover {\n",
              "      background-color: #434B5C;\n",
              "      box-shadow: 0px 1px 3px 1px rgba(0, 0, 0, 0.15);\n",
              "      filter: drop-shadow(0px 1px 2px rgba(0, 0, 0, 0.3));\n",
              "      fill: #FFFFFF;\n",
              "    }\n",
              "  </style>\n",
              "\n",
              "    <script>\n",
              "      const buttonEl =\n",
              "        document.querySelector('#df-21223492-60e9-43b1-858a-6265a4f7b22c button.colab-df-convert');\n",
              "      buttonEl.style.display =\n",
              "        google.colab.kernel.accessAllowed ? 'block' : 'none';\n",
              "\n",
              "      async function convertToInteractive(key) {\n",
              "        const element = document.querySelector('#df-21223492-60e9-43b1-858a-6265a4f7b22c');\n",
              "        const dataTable =\n",
              "          await google.colab.kernel.invokeFunction('convertToInteractive',\n",
              "                                                    [key], {});\n",
              "        if (!dataTable) return;\n",
              "\n",
              "        const docLinkHtml = 'Like what you see? Visit the ' +\n",
              "          '<a target=\"_blank\" href=https://colab.research.google.com/notebooks/data_table.ipynb>data table notebook</a>'\n",
              "          + ' to learn more about interactive tables.';\n",
              "        element.innerHTML = '';\n",
              "        dataTable['output_type'] = 'display_data';\n",
              "        await google.colab.output.renderOutput(dataTable, element);\n",
              "        const docLink = document.createElement('div');\n",
              "        docLink.innerHTML = docLinkHtml;\n",
              "        element.appendChild(docLink);\n",
              "      }\n",
              "    </script>\n",
              "  </div>\n",
              "\n",
              "\n",
              "<div id=\"df-476c5b19-f75a-40c8-9797-a036b9ddab0a\">\n",
              "  <button class=\"colab-df-quickchart\" onclick=\"quickchart('df-476c5b19-f75a-40c8-9797-a036b9ddab0a')\"\n",
              "            title=\"Suggest charts.\"\n",
              "            style=\"display:none;\">\n",
              "\n",
              "<svg xmlns=\"http://www.w3.org/2000/svg\" height=\"24px\"viewBox=\"0 0 24 24\"\n",
              "     width=\"24px\">\n",
              "    <g>\n",
              "        <path d=\"M19 3H5c-1.1 0-2 .9-2 2v14c0 1.1.9 2 2 2h14c1.1 0 2-.9 2-2V5c0-1.1-.9-2-2-2zM9 17H7v-7h2v7zm4 0h-2V7h2v10zm4 0h-2v-4h2v4z\"/>\n",
              "    </g>\n",
              "</svg>\n",
              "  </button>\n",
              "\n",
              "<style>\n",
              "  .colab-df-quickchart {\n",
              "      --bg-color: #E8F0FE;\n",
              "      --fill-color: #1967D2;\n",
              "      --hover-bg-color: #E2EBFA;\n",
              "      --hover-fill-color: #174EA6;\n",
              "      --disabled-fill-color: #AAA;\n",
              "      --disabled-bg-color: #DDD;\n",
              "  }\n",
              "\n",
              "  [theme=dark] .colab-df-quickchart {\n",
              "      --bg-color: #3B4455;\n",
              "      --fill-color: #D2E3FC;\n",
              "      --hover-bg-color: #434B5C;\n",
              "      --hover-fill-color: #FFFFFF;\n",
              "      --disabled-bg-color: #3B4455;\n",
              "      --disabled-fill-color: #666;\n",
              "  }\n",
              "\n",
              "  .colab-df-quickchart {\n",
              "    background-color: var(--bg-color);\n",
              "    border: none;\n",
              "    border-radius: 50%;\n",
              "    cursor: pointer;\n",
              "    display: none;\n",
              "    fill: var(--fill-color);\n",
              "    height: 32px;\n",
              "    padding: 0;\n",
              "    width: 32px;\n",
              "  }\n",
              "\n",
              "  .colab-df-quickchart:hover {\n",
              "    background-color: var(--hover-bg-color);\n",
              "    box-shadow: 0 1px 2px rgba(60, 64, 67, 0.3), 0 1px 3px 1px rgba(60, 64, 67, 0.15);\n",
              "    fill: var(--button-hover-fill-color);\n",
              "  }\n",
              "\n",
              "  .colab-df-quickchart-complete:disabled,\n",
              "  .colab-df-quickchart-complete:disabled:hover {\n",
              "    background-color: var(--disabled-bg-color);\n",
              "    fill: var(--disabled-fill-color);\n",
              "    box-shadow: none;\n",
              "  }\n",
              "\n",
              "  .colab-df-spinner {\n",
              "    border: 2px solid var(--fill-color);\n",
              "    border-color: transparent;\n",
              "    border-bottom-color: var(--fill-color);\n",
              "    animation:\n",
              "      spin 1s steps(1) infinite;\n",
              "  }\n",
              "\n",
              "  @keyframes spin {\n",
              "    0% {\n",
              "      border-color: transparent;\n",
              "      border-bottom-color: var(--fill-color);\n",
              "      border-left-color: var(--fill-color);\n",
              "    }\n",
              "    20% {\n",
              "      border-color: transparent;\n",
              "      border-left-color: var(--fill-color);\n",
              "      border-top-color: var(--fill-color);\n",
              "    }\n",
              "    30% {\n",
              "      border-color: transparent;\n",
              "      border-left-color: var(--fill-color);\n",
              "      border-top-color: var(--fill-color);\n",
              "      border-right-color: var(--fill-color);\n",
              "    }\n",
              "    40% {\n",
              "      border-color: transparent;\n",
              "      border-right-color: var(--fill-color);\n",
              "      border-top-color: var(--fill-color);\n",
              "    }\n",
              "    60% {\n",
              "      border-color: transparent;\n",
              "      border-right-color: var(--fill-color);\n",
              "    }\n",
              "    80% {\n",
              "      border-color: transparent;\n",
              "      border-right-color: var(--fill-color);\n",
              "      border-bottom-color: var(--fill-color);\n",
              "    }\n",
              "    90% {\n",
              "      border-color: transparent;\n",
              "      border-bottom-color: var(--fill-color);\n",
              "    }\n",
              "  }\n",
              "</style>\n",
              "\n",
              "  <script>\n",
              "    async function quickchart(key) {\n",
              "      const quickchartButtonEl =\n",
              "        document.querySelector('#' + key + ' button');\n",
              "      quickchartButtonEl.disabled = true;  // To prevent multiple clicks.\n",
              "      quickchartButtonEl.classList.add('colab-df-spinner');\n",
              "      try {\n",
              "        const charts = await google.colab.kernel.invokeFunction(\n",
              "            'suggestCharts', [key], {});\n",
              "      } catch (error) {\n",
              "        console.error('Error during call to suggestCharts:', error);\n",
              "      }\n",
              "      quickchartButtonEl.classList.remove('colab-df-spinner');\n",
              "      quickchartButtonEl.classList.add('colab-df-quickchart-complete');\n",
              "    }\n",
              "    (() => {\n",
              "      let quickchartButtonEl =\n",
              "        document.querySelector('#df-476c5b19-f75a-40c8-9797-a036b9ddab0a button');\n",
              "      quickchartButtonEl.style.display =\n",
              "        google.colab.kernel.accessAllowed ? 'block' : 'none';\n",
              "    })();\n",
              "  </script>\n",
              "</div>\n",
              "    </div>\n",
              "  </div>\n"
            ]
          },
          "metadata": {},
          "execution_count": 41
        }
      ]
    },
    {
      "source": [
        "*Advanced/Optional:*<br>In addition, *pandas* provides an extremely rich API for advanced [selection](http://pandas.pydata.org/pandas-docs/stable/indexing.html) that is too extensive to be covered here."
      ],
      "cell_type": "markdown",
      "metadata": {
        "id": "65g1ZdGVjXsQ"
      }
    },
    {
      "source": [
        "### 2.3 Manipulating Data\n",
        "\n",
        "We can also apply Python's basic arithmetic operations to `Series`!\n",
        "\n",
        "For example, run the cell below:"
      ],
      "cell_type": "markdown",
      "metadata": {
        "id": "RM1iaD-ka3Y1"
      }
    },
    {
      "source": [
        "pm / 1000"
      ],
      "cell_type": "code",
      "execution_count": null,
      "outputs": [
        {
          "output_type": "execute_result",
          "data": {
            "text/plain": [
              "timestamp\n",
              "2021-08-01 12:00:00    0.001899\n",
              "2021-08-01 13:00:00    0.001576\n",
              "2021-08-01 14:00:00    0.002009\n",
              "2021-08-01 15:00:00    0.001527\n",
              "2021-08-01 16:00:00    0.001227\n",
              "                         ...   \n",
              "2021-08-31 19:00:00    0.004322\n",
              "2021-08-31 20:00:00    0.005301\n",
              "2021-08-31 21:00:00    0.004742\n",
              "2021-08-31 22:00:00    0.003556\n",
              "2021-08-31 23:00:00    0.004615\n",
              "Name: pm, Length: 729, dtype: float64"
            ]
          },
          "metadata": {},
          "execution_count": 34
        }
      ],
      "metadata": {
        "id": "XWmyCFJ5bOv-",
        "colab": {
          "base_uri": "https://localhost:8080/"
        },
        "outputId": "e3095442-bb27-413e-8567-cc520f9e4f7b"
      }
    },
    {
      "cell_type": "markdown",
      "source": [
        "This divided each of the values that were in the `pm` series (the `'pm`` column) by 1000.\n",
        "\n",
        "**Q5: Use the cell below to multiply the particulate matter (`pm`) values by 100.**\n",
        ">Reminder: The multiplication symbol is *"
      ],
      "metadata": {
        "id": "_AQ3cwAp-DaE"
      }
    },
    {
      "cell_type": "code",
      "source": [
        "### Q5: Put your code here!"
      ],
      "metadata": {
        "id": "BkZGB2R65oIw"
      },
      "execution_count": null,
      "outputs": []
    },
    {
      "cell_type": "markdown",
      "source": [
        "**Q6: Use the cell below to add 1 to the particulate matter (`pm`) values.**"
      ],
      "metadata": {
        "id": "FvNCnUqy58bM"
      }
    },
    {
      "cell_type": "code",
      "source": [
        "### Q6: Put your code here!"
      ],
      "metadata": {
        "id": "ZnPM41DJ-LOj"
      },
      "execution_count": null,
      "outputs": []
    },
    {
      "source": [
        "#### 2.3.1 NumPy\n",
        "[NumPy](http://www.numpy.org/) is a popular toolkit for scientific computing. <br>We learned about NumPy in the Modules section of our Introduction to Colab and Python notebook. *Pandas* `Series` can be used as arguments (inputs) to most NumPy functions.\n",
        "> Here we're using the *log* function with `np.log(<series_name>)`."
      ],
      "cell_type": "markdown",
      "metadata": {
        "id": "TQzIVnbnmWGM"
      }
    },
    {
      "source": [
        "import numpy as np ## We have to import numpy first to be able to use its tools!\n",
        "\n",
        "log_pm = np.log(pm)\n",
        "log_pm"
      ],
      "cell_type": "code",
      "execution_count": null,
      "outputs": [
        {
          "output_type": "stream",
          "name": "stderr",
          "text": [
            "/usr/local/lib/python3.10/dist-packages/pandas/core/arraylike.py:402: RuntimeWarning: divide by zero encountered in log\n",
            "  result = getattr(ufunc, method)(*inputs, **kwargs)\n"
          ]
        },
        {
          "output_type": "execute_result",
          "data": {
            "text/plain": [
              "timestamp\n",
              "2021-08-01 12:00:00    0.641233\n",
              "2021-08-01 13:00:00    0.454782\n",
              "2021-08-01 14:00:00    0.697851\n",
              "2021-08-01 15:00:00    0.423344\n",
              "2021-08-01 16:00:00    0.204971\n",
              "                         ...   \n",
              "2021-08-31 19:00:00    1.463605\n",
              "2021-08-31 20:00:00    1.667929\n",
              "2021-08-31 21:00:00    1.556398\n",
              "2021-08-31 22:00:00    1.268513\n",
              "2021-08-31 23:00:00    1.529238\n",
              "Name: pm, Length: 729, dtype: float64"
            ]
          },
          "metadata": {},
          "execution_count": 28
        }
      ],
      "metadata": {
        "id": "ko6pLK6JmkYP",
        "colab": {
          "base_uri": "https://localhost:8080/"
        },
        "outputId": "570a0f36-9e5a-4bda-eff4-72d9c46f80bd"
      }
    },
    {
      "cell_type": "markdown",
      "source": [
        "**Q7: Above we've saved the log of the `pm` values to the variable `log_pm`. In the cell below, write a mathematical expression that inverses the log and returns the *same* values as `pm`. Set your expression equal to `q7` so you can check your answer.**\n",
        ">*Hints:*<br>- Remember to use `log_pm`, not `pm` in this question!<br>- What is the opposite operation of taking a natural log? (FYI `np.log` is the same as *ln* on a calculator -- it has base e)<br> - There are two approaches. You'll need to know at least one of these for this question:<br>\n",
        "  * the mathematical number *e* can be accessed by `np.e`\n",
        "  * the `**` operator\n",
        "  * there is a built-in function, `np.exp(__)`, that calculates e to the power of what is put in the parentheses"
      ],
      "metadata": {
        "id": "HBnpKBmgSe3d"
      }
    },
    {
      "cell_type": "code",
      "source": [
        "### Q7: Put your code in the ...!\n",
        "q7 = ...\n",
        "q7"
      ],
      "metadata": {
        "colab": {
          "base_uri": "https://localhost:8080/"
        },
        "id": "zuyHgBUzRsrQ",
        "outputId": "010eab78-4181-41ed-ee90-a645de7f8322"
      },
      "execution_count": null,
      "outputs": [
        {
          "output_type": "execute_result",
          "data": {
            "text/plain": [
              "Ellipsis"
            ]
          },
          "metadata": {},
          "execution_count": 32
        }
      ]
    },
    {
      "cell_type": "code",
      "source": [
        "# Run this cell to check your answer!\n",
        "\n",
        "try:\n",
        "  if type(q7) != pd.core.series.Series:\n",
        "    print(\"You haven't set anything to q7. Put your expression in the ... next to 'q7 =''.\")\n",
        "  elif q7[0] == 0.641233:\n",
        "    print(\"Incorrect. Your answer still has the same values as log_pm (the log of the pm values).\")\n",
        "  elif round(q7[0], 5) == 1.89882:\n",
        "    print(\"Correct! Good job!\")\n",
        "  else:\n",
        "    print(\"Incorrect. Check your work :)\")\n",
        "except NameError:\n",
        "  print(\"You haven't run the code cell where you defined 'q7 = ___'.\")\n"
      ],
      "metadata": {
        "colab": {
          "base_uri": "https://localhost:8080/"
        },
        "id": "8M5Fhq67UB2_",
        "outputId": "cd041b32-96a1-495f-8831-36478b24938c"
      },
      "execution_count": null,
      "outputs": [
        {
          "output_type": "stream",
          "name": "stdout",
          "text": [
            "You haven't set anything to q7. Put your expression in the ... next to 'q7 =''.\n"
          ]
        }
      ]
    },
    {
      "cell_type": "markdown",
      "source": [
        "***\n",
        "## 3. Data Visualizations"
      ],
      "metadata": {
        "id": "lbjIfY1OKMcq"
      }
    },
    {
      "source": [
        "### 3.1 Plotting PM2.5 Concentrations"
      ],
      "cell_type": "markdown",
      "metadata": {
        "id": "w9-Es5Y6laGd"
      }
    },
    {
      "cell_type": "markdown",
      "source": [
        "A common visualization is a lineplot.\n",
        " There exists a function, **`DataFrame.plot`**, that takes in two parameters `x` and `y`. These are the names of corresponding **columns for the x-axis and y-axis**.\n",
        "\n",
        " By default, `.plot` plots based on the **index**, which for `wildfire_pm` is the `timestamp` column. In the next notebook, we will discuss more about indexing! Since our table has data as the index, we can *just* input the `y` data. The cell below plots a lineplot that uses `pm` for the y-axis to plot a lineplot from `wildfire_pm` data over the entire month of August.\n",
        "\n",
        " Since we're also adding axis labels and a title, we'll need another package, called **`matplotlib.pyplot`**, so we need to import it! Run the cell below to import matplotlib.pyplot as `plt`."
      ],
      "metadata": {
        "id": "waWA30wQE9eN"
      }
    },
    {
      "cell_type": "code",
      "source": [
        "import matplotlib.pyplot as plt"
      ],
      "metadata": {
        "id": "BthhCKDeDqsL"
      },
      "execution_count": null,
      "outputs": []
    },
    {
      "cell_type": "markdown",
      "source": [
        "Now, let's create the PM2.5 (particulate matter) Time Series graph! Read through each line of code below and run the cell to produce the plot."
      ],
      "metadata": {
        "id": "2Z-R6wmM2vwE"
      }
    },
    {
      "cell_type": "code",
      "source": [
        "wildfire_pm.plot(y='pm')\n",
        "plt.xlabel(\"Date\");\n",
        "plt.ylabel(\"PM2.5 Concentration (ug/m^3)\");\n",
        "plt.title(\"PM2.5 Time Series\");"
      ],
      "metadata": {
        "colab": {
          "base_uri": "https://localhost:8080/",
          "height": 467
        },
        "id": "1b8Y5eNr2rdA",
        "outputId": "6a37c80a-fe4c-4067-bb71-091739516f4e"
      },
      "execution_count": null,
      "outputs": [
        {
          "output_type": "display_data",
          "data": {
            "text/plain": [
              "<Figure size 640x480 with 1 Axes>"
            ],
            "image/png": "[encoded data removed]"
          },
          "metadata": {}
        }
      ]
    },
    {
      "cell_type": "markdown",
      "source": [
        "**Q8: Based on this graph, when do you think the wildfire period was? What makes you think so?**"
      ],
      "metadata": {
        "id": "CDBHEmWfP-MG"
      }
    },
    {
      "cell_type": "markdown",
      "source": [
        "DOUBLE CLICK on this text cell to edit this cell and replace this sentence with your answer."
      ],
      "metadata": {
        "id": "xq1d25EO0gA8"
      }
    },
    {
      "cell_type": "markdown",
      "source": [
        "### 3.2 Plotting CO2 Concentrations\n"
      ],
      "metadata": {
        "id": "YvFdx_dHCsgE"
      }
    },
    {
      "cell_type": "markdown",
      "source": [
        "**Your turn! Q9**<br>\n",
        "**Create a lineplot showing the time series of *CO2 concentrations*. In the cell below, using `wildfire_co2` write the code to create a lineplot based on the column named `co2`. Be sure to label the x-axis (y-axis label is provided) and give your plot a descriptive title.**\n",
        "\n",
        "\n",
        ">*Hint: If you are stuck, feel free to refer back to the previous code we used to create the time series for PM data!*"
      ],
      "metadata": {
        "id": "rshYEvbCIm4K"
      }
    },
    {
      "cell_type": "code",
      "source": [
        "# Write your code here to make a time series plot of the CO2 concentrations\n",
        "\n",
        "...\n",
        "plt.xlabel(...);\n",
        "plt.ylabel(\"CO2 Concentration (parts per million)\");\n",
        "plt.title(...);\n"
      ],
      "metadata": {
        "id": "Q6wJNQ8FQlWJ"
      },
      "execution_count": null,
      "outputs": []
    },
    {
      "cell_type": "markdown",
      "source": [
        "Great work!"
      ],
      "metadata": {
        "id": "nqUi73_h5RBP"
      }
    },
    {
      "cell_type": "markdown",
      "source": [
        "### 3.3 Plotting NO Concentrations\n"
      ],
      "metadata": {
        "id": "zKapVaEg0_uv"
      }
    },
    {
      "cell_type": "markdown",
      "source": [
        "\n",
        "Time to create one last lineplot!<br>\n",
        "**Q10: Create a lineplot showing the time series of *NO concentrations*. In the cell below, using `wildfire_no` write the code to create a lineplot based on the column named `no`. Be sure to label the x-axis (y-axis label is provided) and give your plot a descriptive title.**\n",
        "\n",
        "\n",
        ">*Hint: If you are stuck, feel free to refer back to the previous code we used to create the time series for PM data!*"
      ],
      "metadata": {
        "id": "OX3dq9Dx1Ojw"
      }
    },
    {
      "cell_type": "code",
      "source": [
        "# Write your code here to make a time series plot of the NO concentrations\n",
        "\n",
        "...\n",
        "plt.xlabel(...);\n",
        "plt.ylabel(\"NO Concentration (parts per million)\");\n",
        "plt.title(...);\n"
      ],
      "metadata": {
        "id": "kWMH8eKQ1TDs"
      },
      "execution_count": null,
      "outputs": []
    },
    {
      "cell_type": "markdown",
      "source": [
        "You're on a roll! Great work with plotting!"
      ],
      "metadata": {
        "id": "6Pb73-ig50ml"
      }
    },
    {
      "cell_type": "markdown",
      "source": [
        "**Q10: Scroll up to view all 3 of your plots and write at least 3 observations comparing them below.**"
      ],
      "metadata": {
        "id": "Oxnmhe0o57WB"
      }
    },
    {
      "cell_type": "markdown",
      "source": [
        "DOUBLE CLICK on this text cell to edit this cell and replace this sentence with your answer."
      ],
      "metadata": {
        "id": "i01F8XK_6FSn"
      }
    },
    {
      "cell_type": "markdown",
      "source": [
        "***\n",
        "##4. Conclusion\n",
        "In this notebook, you learned about:\n",
        "- The pandas library\n",
        "  - Series and DataFrames\n",
        "  - Manipulating data\n",
        "  - Importing data to DataFrames\n",
        "- Visualizing data\n",
        "  - Creating lineplots from DataFrames\n",
        "  - Labelling lineplots\n",
        "  - Understanding lineplots and making observations\n",
        "\n",
        "\n",
        "#### You've finished the **Introduction to Pandas *Student Exploration* notebook**. Good job! Congratulations on finishing the **Introduction to Pandas** lesson!"
      ],
      "metadata": {
        "id": "ttHs38Rj2FNp"
      }
    },
    {
      "cell_type": "markdown",
      "source": [
        "<hr style=\"border: 2px solid #003262\">\n",
        "<hr style=\"border: 2px solid #C9B676\">"
      ],
      "metadata": {
        "id": "EqplbTLi3R2w"
      }
    }
  ]
}