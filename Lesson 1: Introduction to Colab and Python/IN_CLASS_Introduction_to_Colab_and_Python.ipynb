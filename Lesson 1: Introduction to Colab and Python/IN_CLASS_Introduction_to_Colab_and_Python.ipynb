{
  "nbformat": 4,
  "nbformat_minor": 0,
  "metadata": {
    "colab": {
      "provenance": [],
      "include_colab_link": true
    },
    "kernelspec": {
      "name": "python3",
      "display_name": "Python 3"
    },
    "language_info": {
      "name": "python"
    }
  },
  "cells": [
    {
      "cell_type": "markdown",
      "metadata": {
        "id": "view-in-github",
        "colab_type": "text"
      },
      "source": [
        "<a href=\"https://colab.research.google.com/github/wintera71/BEACO2N-Modules/blob/main/Lesson%201%3A%20Introduction%20to%20Colab%20and%20Python/IN_CLASS_Introduction_to_Colab_and_Python.ipynb\" target=\"_parent\"><img src=\"https://colab.research.google.com/assets/colab-badge.svg\" alt=\"Open In Colab\"/></a>"
      ]
    },
    {
      "cell_type": "markdown",
      "metadata": {
        "cell_id": "00001-eedf9a46-cb0c-42bc-a90f-96265663c0d3",
        "deepnote_cell_type": "markdown",
        "tags": [
          "ignore"
        ],
        "id": "x1qNTWK6IH2W"
      },
      "source": [
        "# **BEACO2N Notebook 1a: Introduction to Colab and Python**\n",
        "\n",
        "Notebook developed by: *Skye Pickett, Alec Morgan, Lan Dinh, Su Min Park, Amy Castillo*\n"
      ]
    },
    {
      "cell_type": "markdown",
      "metadata": {
        "id": "uv0w0xTKIH2b"
      },
      "source": [
        "### Learning Outcomes\n",
        "Working through this notebook, you will learn about:\n",
        "1. The history behind Jupyter notebooks and why they are used in computing\n",
        "2. How a Notebook is structured and how to use and edit them\n",
        "3. Python fundamentals: Math expression, strings, variables\n",
        "4. How to interpret and deal with errors\n"
      ]
    },
    {
      "cell_type": "markdown",
      "source": [
        "\n",
        "## Table of Contents\n",
        "1. Welcome to Colab\n",
        " >1.1 What is a Notebook?\n",
        "<br>1.2 A Brief History\n",
        "<br> 1.3 Why (Jupyter) Notebooks?\n",
        "1. Notebook Structure\n",
        ">2.1 Cell Types\n",
        "<br>2.2 *Optional*: Manipulating Cells\n",
        "1. Python Basics\n",
        ">3.1 Math\n",
        "<br> 3.2 Strings\n",
        "<br> 3.3 Errors\n",
        "<br> 3.4 Variables\n",
        "\n",
        "\n",
        "\n"
      ],
      "metadata": {
        "id": "JxfZwMFZFoqJ"
      }
    },
    {
      "cell_type": "markdown",
      "metadata": {
        "id": "QrvUoyg0IH2c"
      },
      "source": [
        "<hr style=\"border: 2px solid #003262\">\n",
        "<hr style=\"border: 2px solid #C9B676\">"
      ]
    },
    {
      "cell_type": "markdown",
      "source": [
        "\n",
        "## 1. Welcome to Colab\n",
        "\n",
        "Welcome to Colab! Google Colab, or Colaboratory is a product from Google Research. Colab allows anybody to write and execute Python code through a browser, and is especially well suited to machine learning, data analysis, and education. More technically, Colab is a hosted **Jupyter Notebook** service, meaning you can run your notebook online with no setup and access free computing resources."
      ],
      "metadata": {
        "id": "P5RKIKZUFXuy"
      }
    },
    {
      "cell_type": "markdown",
      "source": [
        "###1.1 What is a Notebook?\n",
        "Notebooks are documents where you can combine code with text, visualizations, and more.\n",
        "\n",
        "Notebooks make it easy to explore ideas because you can write code, run it, see what happens, and then quickly change the code if you want to try something new. This makes them especially useful for learning, experimenting with data, and sharing results.\n",
        "\n",
        "In science today, researchers often work with huge amounts of data and complex models. Their work can be hard to understand when it is only explained in a traditional paper full of technical terms. A notebook can show not just the final results, but also the steps and code used to get there—so others can understand it and even try it themselves.\n",
        "\n",
        "Because **Google Colab** is built on top of **Jupyter Notebook**, we will learn more about its history and why notebooks are used in computing."
      ],
      "metadata": {
        "id": "bhshWcNwF8fk"
      }
    },
    {
      "cell_type": "markdown",
      "source": [
        "*Note: In this notebook, there are some more advanced topics that are \"optional\". This means you can just read over these sections; don't worry about fully understanding these parts unless you are really interested. They may be useful later in the course, but for now they are not necessary, so feel free to just skim the parts labelled \"Optional\"!*\n"
      ],
      "metadata": {
        "id": "abUWa9XILMe7"
      }
    },
    {
      "cell_type": "markdown",
      "metadata": {
        "cell_id": "00003-a9cd1167-2276-4e0f-85b6-43d803731627",
        "deepnote_cell_type": "markdown",
        "tags": [],
        "id": "Ti0y9T-tIH2c"
      },
      "source": [
        "### 1.2 A Brief History\n",
        "The Jupyter Notebook is an _interactive computational environment_ that supports over **40** different programming languages, but was first released as a web-based interface for IPython in 2011. [Fernando Perez](https://bids.berkeley.edu/people/fernando-p%C3%A9rez), a professor in the Statistics department here at UC Berkeley, created [IPython](https://ipython.org/) as a graduate student in 2001 and co-founded [Project Jupyter](https://bids.berkeley.edu/research/project-jupyter) in 2014.\n",
        "\n",
        "Project Jupyter's name is a reference to the three core programming languages supported by Jupyter, which are `Julia`, `Python` and `R` (`\"ju\"` from `\"Julia\"`, `\"pyt\"` from `\"Python\"`, and `\"er\"` from `\"R\"`; all together you get `\"ju\" + \"pyt\" + \"er\" = \"jupyter\"`).\n",
        "\n",
        "The word notebook is an homage to Galileo's notebooks in which he documents his discovery of the the moons of Jupiter (the planet).\n",
        "\n",
        "Though the Jupyter Notebook interface has been around only about a decade, the first notebook interface, [Mathematica](https://www.mathematica.org/), was released over 30 years ago in 1988. Other notebook interfaces have been released since then, but none have gained as much traction as Jupyter Notebooks have. Starting in the early 2000s, open-source scientific tools were becoming more and more popular and with the widespread popularity of Jupyter, it's well on its way to becoming a standard for sharing research methodology and results."
      ]
    },
    {
      "cell_type": "markdown",
      "metadata": {
        "cell_id": "00004-6505161d-0615-4da6-bdf1-11b7204319a9",
        "deepnote_cell_type": "markdown",
        "tags": [],
        "id": "Yiv55mNNIH2d"
      },
      "source": [
        "###1.3 Why (Jupyter) Notebooks?\n",
        "Jupyter Notebooks follow the idea of *literate programming*—writing code alongside explanations in plain language. This makes programs easier to understand by showing both what the code does and why it does it.\n",
        "\n",
        "Notebooks let you combine code, text, graphs, equations, and media in one place—like a science lab notebook, but for computing. They’re used by researchers to analyze data while explaining their methods, and by educators to help students explore, experiment, and learn programming in an interactive, guided way."
      ]
    },
    {
      "cell_type": "markdown",
      "metadata": {
        "cell_id": "00003-058e2913-9587-45ac-8c2f-f284333ac4f3",
        "deepnote_cell_type": "markdown",
        "id": "uO7Cm-gkIH2d"
      },
      "source": [
        "***\n",
        "## 2. Notebook Structure\n",
        "\n",
        "### 2.1 Cell Types\n",
        "A notebook is composed of rectangular sections called **cells**. There are 2 kinds of cells: text and code.\n",
        "- A **text cell**, such as this one, contains text.\n",
        "- A **code cell** contains code in *Python*, a programming language that we will be using in this class. You can select any cell by clicking it once.\n",
        "    - Code cells can also contain code in other languages like R, which can also be used in data analysis."
      ]
    },
    {
      "cell_type": "markdown",
      "metadata": {
        "id": "Id6tDF1HQSHD"
      },
      "source": [
        "#### Text cells\n",
        "This is a **text cell**. You can **double-click** to edit this cell. Try typing something in here!"
      ]
    },
    {
      "cell_type": "markdown",
      "source": [
        "#### Code cells\n",
        "Below this (`a = 10`) is a **code cell**. Click in the cell to select it and execute the contents in the following ways:\n",
        "\n",
        "* Click the **Play icon** in the left gutter of the code cell;\n",
        "* Type **Shift+Enter** to run the cell and move focus to the next cell (adding one if none exists)\n",
        "\n",
        "There are additional options for running some or all cells in the **Runtime** menu. *If there is any error produced or nothing is happening, your page is likely not connected -- click `Connect` on the right side of the toolbar under \"Share\".*\n",
        "\n",
        "**Run the cell below!** It will print out 10 right below the cell.\n"
      ],
      "metadata": {
        "id": "_VAabCqKKDIR"
      }
    },
    {
      "cell_type": "code",
      "execution_count": null,
      "metadata": {
        "cellView": "both",
        "colab": {
          "base_uri": "https://localhost:8080/"
        },
        "id": "WUtu4316QSHL",
        "outputId": "e16c9044-dba0-412e-e298-2bb8bb730c5b"
      },
      "outputs": [
        {
          "output_type": "execute_result",
          "data": {
            "text/plain": [
              "10"
            ]
          },
          "metadata": {},
          "execution_count": 1
        }
      ],
      "source": [
        "a = 10\n",
        "a"
      ]
    },
    {
      "cell_type": "markdown",
      "source": [
        "###2.2 *Optional*: Manipulating Cells\n",
        "\n",
        "You can add new **text cells** or **code cell** by using the **`+ CODE`** and **`+ TEXT`** buttons that show when you hover between cells. These buttons are also in the toolbar above the notebook where they can be used to add a cell below the currently selected cell.\n",
        "\n",
        "You can delete the cells you created by simply clicking on the trash can icon showing up at the top right of the cell. But don't worry if you erase the cell by accident! This can be undone using `Edit` > `Undo Delete Cells`!\n",
        "\n",
        "\n",
        "\n",
        "In this lab notebook or following notebooks, you won't necessarily have to make your own new cells since we will be providing a clear direction where to input your answer!"
      ],
      "metadata": {
        "id": "WiH0KrJg9d_Q"
      }
    },
    {
      "cell_type": "markdown",
      "metadata": {
        "id": "CAO9GPCUIH2g"
      },
      "source": [
        "***\n",
        "##3.  Python Basics\n",
        "[**Python**](https://www.python.org/) is a programming language – a way for us to communicate with the computer and give it instructions.\n",
        "\n",
        "Just like any language, Python has a set vocabulary made up of words it can understand, and a syntax which provides the rules for how to structure our commands and give instructions."
      ]
    },
    {
      "cell_type": "markdown",
      "metadata": {
        "id": "2w4unGnfIH2h"
      },
      "source": [
        "###3.1 Math\n",
        "Python is a great language for math, as it is easy to understand, and looks very similar to what it would look like in a regular scientific calculator!\n",
        "\n",
        "- `+` Acts as the addition operator\n",
        "- `-` Acts as the subtraction operator and can also act as a negative sign if next to a number (e.g., `-2` vs `- 2`)\n",
        "- `*` Acts as the multiplication operator\n",
        "- `**` Acts as the exponentiation operator\n",
        "- `/` Acts as the division operator\n",
        "- `()` Acts as the grouping operator\n",
        "\n",
        "There are two types of numbers in python: Integers, also known as **`int`**, (e.g., `4`, `7`, `15`, `2354`) and decimal numbers, aka **`float`** (e.g., `13.0`, `14.5`, `2.731`, `3.1415`).\n",
        "\n",
        "When using the `/` operator, even if the result is a whole number, the result will be a `float`. For example, `10 / 5` is `2.0`, not `2`.\n",
        "\n",
        "> There are other, more advanced operators such as [floor division](https://www.pythontutorial.net/advanced-python/python-floor-division/) and [modulo](https://realpython.com/python-modulo-operator/), however, we won't be using those for the time being. Feel free to explore if you'd like, but this is very out of scope for this material.\n",
        "\n",
        "Let's look at some examples of using these operators. As usual, feel free to play around with these cells or even add new ones to explore how these operations work! **Run the cells below. Try editing the math expressions to see how it works!**"
      ]
    },
    {
      "cell_type": "code",
      "execution_count": null,
      "metadata": {
        "id": "eevwMXfuIH2h",
        "colab": {
          "base_uri": "https://localhost:8080/"
        },
        "outputId": "d1b0465d-9094-437c-b521-c0ef649cb6d7"
      },
      "outputs": [
        {
          "output_type": "execute_result",
          "data": {
            "text/plain": [
              "4"
            ]
          },
          "metadata": {},
          "execution_count": 2
        }
      ],
      "source": [
        "1 + 3 # An example of addition"
      ]
    },
    {
      "cell_type": "code",
      "execution_count": null,
      "metadata": {
        "id": "jNxT5OXpIH2h",
        "colab": {
          "base_uri": "https://localhost:8080/"
        },
        "outputId": "2df79975-3950-48b0-c769-ca5d6a6e3767"
      },
      "outputs": [
        {
          "output_type": "execute_result",
          "data": {
            "text/plain": [
              "5"
            ]
          },
          "metadata": {},
          "execution_count": 3
        }
      ],
      "source": [
        "1 + 3 - 4 + 5 # An example of addition and subtraction"
      ]
    },
    {
      "cell_type": "code",
      "execution_count": null,
      "metadata": {
        "id": "qRDGlc1UIH2h",
        "colab": {
          "base_uri": "https://localhost:8080/"
        },
        "outputId": "6557fb13-00ad-45fc-ede2-0f7fadee7ad3"
      },
      "outputs": [
        {
          "output_type": "execute_result",
          "data": {
            "text/plain": [
              "13.0"
            ]
          },
          "metadata": {},
          "execution_count": 4
        }
      ],
      "source": [
        "1 + 10 / 2 + 7 # An example of addition and division"
      ]
    },
    {
      "cell_type": "code",
      "execution_count": null,
      "metadata": {
        "id": "P98UcKF5IH2h",
        "colab": {
          "base_uri": "https://localhost:8080/"
        },
        "outputId": "20b119ff-0bc3-475d-9000-080fa4b1f7bc"
      },
      "outputs": [
        {
          "output_type": "execute_result",
          "data": {
            "text/plain": [
              "12"
            ]
          },
          "metadata": {},
          "execution_count": 5
        }
      ],
      "source": [
        "3 * 4 # An example of multiplication"
      ]
    },
    {
      "cell_type": "code",
      "execution_count": null,
      "metadata": {
        "execution": {
          "iopub.execute_input": "2022-08-03T09:59:56.480883Z",
          "iopub.status.busy": "2022-08-03T09:59:56.480486Z",
          "iopub.status.idle": "2022-08-03T09:59:56.490422Z",
          "shell.execute_reply": "2022-08-03T09:59:56.489698Z",
          "shell.execute_reply.started": "2022-08-03T09:59:56.480853Z"
        },
        "id": "Zk-rR7EUIH2i",
        "colab": {
          "base_uri": "https://localhost:8080/"
        },
        "outputId": "0cbf56d3-c92b-4f6e-8b05-12fbc0c45d9d"
      },
      "outputs": [
        {
          "output_type": "execute_result",
          "data": {
            "text/plain": [
              "25"
            ]
          },
          "metadata": {},
          "execution_count": 6
        }
      ],
      "source": [
        "5 ** 2 # An example of exponentiation"
      ]
    },
    {
      "cell_type": "code",
      "execution_count": null,
      "metadata": {
        "execution": {
          "iopub.execute_input": "2022-08-03T10:00:04.963271Z",
          "iopub.status.busy": "2022-08-03T10:00:04.962795Z",
          "iopub.status.idle": "2022-08-03T10:00:04.976298Z",
          "shell.execute_reply": "2022-08-03T10:00:04.974251Z",
          "shell.execute_reply.started": "2022-08-03T10:00:04.963234Z"
        },
        "id": "uYQ-42zyIH2i",
        "colab": {
          "base_uri": "https://localhost:8080/"
        },
        "outputId": "ad233ad6-def5-47c3-ed7f-d032ea833e94"
      },
      "outputs": [
        {
          "output_type": "execute_result",
          "data": {
            "text/plain": [
              "8"
            ]
          },
          "metadata": {},
          "execution_count": 7
        }
      ],
      "source": [
        "2 ** 3 # Another example of exponentiation"
      ]
    },
    {
      "cell_type": "code",
      "execution_count": null,
      "metadata": {
        "execution": {
          "iopub.execute_input": "2022-08-03T10:00:16.629885Z",
          "iopub.status.busy": "2022-08-03T10:00:16.629327Z",
          "iopub.status.idle": "2022-08-03T10:00:16.641667Z",
          "shell.execute_reply": "2022-08-03T10:00:16.640691Z",
          "shell.execute_reply.started": "2022-08-03T10:00:16.629849Z"
        },
        "id": "8xRNb8EcIH2i",
        "colab": {
          "base_uri": "https://localhost:8080/"
        },
        "outputId": "dad369a0-b60a-4918-f9f2-c561faf033c7"
      },
      "outputs": [
        {
          "output_type": "execute_result",
          "data": {
            "text/plain": [
              "2.0"
            ]
          },
          "metadata": {},
          "execution_count": 8
        }
      ],
      "source": [
        "4 ** .5 # An example of exponentiation with a decimal"
      ]
    },
    {
      "cell_type": "code",
      "execution_count": null,
      "metadata": {
        "id": "9KbBf3bzIH2i",
        "colab": {
          "base_uri": "https://localhost:8080/"
        },
        "outputId": "cc859680-20be-41a6-b33c-27afcbe3b6ce"
      },
      "outputs": [
        {
          "output_type": "execute_result",
          "data": {
            "text/plain": [
              "5"
            ]
          },
          "metadata": {},
          "execution_count": 9
        }
      ],
      "source": [
        "(6 + 4) * 2 - 15 # By adding parentheses to the equation we can change the order of operations"
      ]
    },
    {
      "cell_type": "markdown",
      "metadata": {
        "id": "nDNDA3CEIH2i"
      },
      "source": [
        "###3.2 Strings\n",
        "Strings are what we call words or text in Python. A string is surrounded in either single (' ') or double (\" \") quotes. Here are some examples of strings"
      ]
    },
    {
      "cell_type": "code",
      "execution_count": null,
      "metadata": {
        "id": "JZAUPRFOIH2i",
        "colab": {
          "base_uri": "https://localhost:8080/",
          "height": 35
        },
        "outputId": "026bb2b6-860d-4593-cdb4-54906ea04a85"
      },
      "outputs": [
        {
          "output_type": "execute_result",
          "data": {
            "text/plain": [
              "'This is a string'"
            ],
            "application/vnd.google.colaboratory.intrinsic+json": {
              "type": "string"
            }
          },
          "metadata": {},
          "execution_count": 10
        }
      ],
      "source": [
        "\"This is a string\""
      ]
    },
    {
      "cell_type": "code",
      "execution_count": null,
      "metadata": {
        "id": "hi2OKdg8IH2j",
        "colab": {
          "base_uri": "https://localhost:8080/",
          "height": 35
        },
        "outputId": "aa28c7ae-e950-4822-ae20-7c9cc8234794"
      },
      "outputs": [
        {
          "output_type": "execute_result",
          "data": {
            "text/plain": [
              "'This is too'"
            ],
            "application/vnd.google.colaboratory.intrinsic+json": {
              "type": "string"
            }
          },
          "metadata": {},
          "execution_count": 11
        }
      ],
      "source": [
        "'This is too'"
      ]
    },
    {
      "cell_type": "code",
      "execution_count": null,
      "metadata": {
        "id": "F9VzjkMQIH2l",
        "colab": {
          "base_uri": "https://localhost:8080/",
          "height": 35
        },
        "outputId": "f2f56af9-af87-4c60-af43-f21217bf1231"
      },
      "outputs": [
        {
          "output_type": "execute_result",
          "data": {
            "text/plain": [
              "'eVeNtHiSiSaStRiNg'"
            ],
            "application/vnd.google.colaboratory.intrinsic+json": {
              "type": "string"
            }
          },
          "metadata": {},
          "execution_count": 12
        }
      ],
      "source": [
        "\"eVeNtHiSiSaStRiNg\""
      ]
    },
    {
      "cell_type": "markdown",
      "metadata": {
        "id": "CyrfaALXIH2l"
      },
      "source": [
        "You can even do math with strings!\n",
        "<br>*These examples are advanced/optional.*"
      ]
    },
    {
      "cell_type": "code",
      "execution_count": null,
      "metadata": {
        "tags": [],
        "id": "cPMeoNNCIH2m",
        "colab": {
          "base_uri": "https://localhost:8080/",
          "height": 35
        },
        "outputId": "d360e2a5-2cb2-42f5-85d6-3638a2c11649"
      },
      "outputs": [
        {
          "output_type": "execute_result",
          "data": {
            "text/plain": [
              "'HaHaHaHaHaHaHaHaHaHa'"
            ],
            "application/vnd.google.colaboratory.intrinsic+json": {
              "type": "string"
            }
          },
          "metadata": {},
          "execution_count": 13
        }
      ],
      "source": [
        "'Ha' * 10"
      ]
    },
    {
      "cell_type": "code",
      "execution_count": null,
      "metadata": {
        "tags": [],
        "id": "XPNNdmeEIH2m",
        "colab": {
          "base_uri": "https://localhost:8080/",
          "height": 35
        },
        "outputId": "f678c92c-d200-47a6-82c5-298c27b56f77"
      },
      "outputs": [
        {
          "output_type": "execute_result",
          "data": {
            "text/plain": [
              "'Ha Ha     Ha'"
            ],
            "application/vnd.google.colaboratory.intrinsic+json": {
              "type": "string"
            }
          },
          "metadata": {},
          "execution_count": 14
        }
      ],
      "source": [
        "\"Ha\" + \" \" + \"Ha\" + \"     \" + \"Ha\""
      ]
    },
    {
      "cell_type": "markdown",
      "metadata": {
        "cell_id": "00012-b219d532-3d18-4f5b-8c0b-8300087fd4fc",
        "deepnote_cell_type": "markdown",
        "tags": [
          "ignore"
        ],
        "id": "fY6uNA74IH2m"
      },
      "source": [
        "###3.3 Errors\n",
        "Errors in programming are common and totally okay! Don't be afraid when you see an error because more likely than not the solution lies in the error code itself! Let's see what an error looks like. **Run the cell below to see the output.**"
      ]
    },
    {
      "cell_type": "markdown",
      "metadata": {
        "id": "T8MbzxovIH2m"
      },
      "source": [
        "> **Note:** This should return an Error that says \"Syntax Error: incomplete input\". <br>*If the below cell doesn't produce anything for you, save your work (CTRL+S or File>Save) then refresh your page!*"
      ]
    },
    {
      "cell_type": "code",
      "execution_count": null,
      "metadata": {
        "cell_id": "00013-eb788b09-06e6-46f1-b6fd-5f63d3beaf17",
        "deepnote_cell_type": "code",
        "tags": [
          "ignore"
        ],
        "id": "StDs_tY5IH2m",
        "colab": {
          "base_uri": "https://localhost:8080/",
          "height": 106
        },
        "outputId": "910660b8-990a-4c1c-8d75-840b271d75e8"
      },
      "outputs": [
        {
          "output_type": "error",
          "ename": "SyntaxError",
          "evalue": "incomplete input (ipython-input-17707628.py, line 1)",
          "traceback": [
            "\u001b[0;36m  File \u001b[0;32m\"/tmp/ipython-input-17707628.py\"\u001b[0;36m, line \u001b[0;32m1\u001b[0m\n\u001b[0;31m    print('This line is missing something.' # We are missing a closing parenthesis here!\u001b[0m\n\u001b[0m                                                                                        ^\u001b[0m\n\u001b[0;31mSyntaxError\u001b[0m\u001b[0;31m:\u001b[0m incomplete input\n"
          ]
        }
      ],
      "source": [
        "print('This line is missing something.' # We are missing a closing parenthesis here!"
      ]
    },
    {
      "cell_type": "markdown",
      "metadata": {
        "cell_id": "00014-7e39cbe6-b521-4466-8200-3a4f652750f9",
        "deepnote_cell_type": "markdown",
        "tags": [
          "ignore"
        ],
        "id": "l-WRSAa1IH2m"
      },
      "source": [
        "The last line of the error output attempts to tell you what went wrong.\n",
        "\n",
        "The *syntax* of a language is its structure, and this `SyntaxError` tells you that you have created an illegal structure.  \n",
        "\n",
        "There's a lot of terminology in programming languages, but you don't need to know it all in order to program effectively. If you see a cryptic message like this, you can often get by without deciphering it.  (Of course, if you're frustrated, you can usually find out by searching for the error message online.)\n",
        "\n",
        "***The cell above will no longer produce an error if you add a closing parenthesis!***\n",
        "\n",
        "**Try running the cell below and notice the error.**"
      ]
    },
    {
      "cell_type": "code",
      "execution_count": null,
      "metadata": {
        "id": "0kERP6YNIH2m",
        "colab": {
          "base_uri": "https://localhost:8080/",
          "height": 141
        },
        "outputId": "01448b8b-67b7-40f8-f30d-ec1443726437"
      },
      "outputs": [
        {
          "output_type": "error",
          "ename": "NameError",
          "evalue": "name 'ten' is not defined",
          "traceback": [
            "\u001b[0;31m---------------------------------------------------------------------------\u001b[0m",
            "\u001b[0;31mNameError\u001b[0m                                 Traceback (most recent call last)",
            "\u001b[0;32m/tmp/ipython-input-1907986468.py\u001b[0m in \u001b[0;36m<cell line: 0>\u001b[0;34m()\u001b[0m\n\u001b[0;32m----> 1\u001b[0;31m \u001b[0mten\u001b[0m \u001b[0;34m+\u001b[0m \u001b[0;36m10\u001b[0m \u001b[0;31m# We need to define the variable ten before we can use it!\u001b[0m\u001b[0;34m\u001b[0m\u001b[0;34m\u001b[0m\u001b[0m\n\u001b[0m",
            "\u001b[0;31mNameError\u001b[0m: name 'ten' is not defined"
          ]
        }
      ],
      "source": [
        "ten + 10 # We need to define the variable ten before we can use it!"
      ]
    },
    {
      "cell_type": "markdown",
      "metadata": {
        "id": "RUo2Ll-DIH2n"
      },
      "source": [
        "This is another error you might run into. It is formally called **`NameError`**, but all that means is that Python can't find anything associated with the name (can't find the variable you are referencing), or you made a typo. For more on variables, see the next section!"
      ]
    },
    {
      "cell_type": "markdown",
      "metadata": {
        "cell_id": "00015-6798c00d-6c61-4fb9-9db5-391b056d479c",
        "deepnote_cell_type": "markdown",
        "tags": [
          "ignore"
        ],
        "id": "xWPM6wXIIH2n"
      },
      "source": [
        "###3.4 Variables\n",
        "\n",
        "As we mentioned before, in this Jupyter Notebook you will be assigning data, figures, numbers, text, or other objects to **variables**.\n",
        "\n",
        "You can even assign graph output or functions to variables, but that is out of scope for this assignment so don't worry about it for now!\n",
        "\n",
        "Variables are stored in a computer's memory and you can use it over and over again in future calculations.\n",
        "\n",
        "Sometimes, instead of trying to work with raw information all the time in a long calculation you will want to store it as a **variable** for easy access in future calculations. **Check out how we can use variables to our advantage below!**"
      ]
    },
    {
      "cell_type": "markdown",
      "metadata": {
        "id": "W0K6zgL0IH2n"
      },
      "source": [
        "<div class=\"alert alert-block alert-warning\">\n",
        "<b>Note:</b> In Python, variable names must be a combination of letters (capital and/or lowercase), numbers, and underscores ( _ ). <br>Variable names <i>cannot</i> begin with a number.</b>\n",
        "</div>"
      ]
    },
    {
      "cell_type": "markdown",
      "metadata": {
        "id": "8ummZPGjIH2n"
      },
      "source": [
        "- The following are all valid variable names:\n",
        "    - `pants`, `pan_cakes`, `_`, `_no_fun`, `potato940`, `bowser_32`, `FOO`, `BaR`, `bAr`\n",
        "    \n",
        "- These are invalid names:\n",
        "    - `123`, `1_fun`, `f@ke`, `fun time`, `fun_times!!`, `00f00`"
      ]
    },
    {
      "cell_type": "markdown",
      "metadata": {
        "tags": [],
        "id": "PcD1zKGHIH2n"
      },
      "source": [
        "#### Assignment Statements\n",
        "Here is an example of what we call an _assignment statement_, what we use to create a variable. Here is an example of an assignment statement: **Run the cell!**"
      ]
    },
    {
      "cell_type": "code",
      "execution_count": null,
      "metadata": {
        "execution": {
          "iopub.execute_input": "2022-08-03T08:17:30.594949Z",
          "iopub.status.busy": "2022-08-03T08:17:30.594085Z",
          "iopub.status.idle": "2022-08-03T08:17:30.617549Z",
          "shell.execute_reply": "2022-08-03T08:17:30.616312Z",
          "shell.execute_reply.started": "2022-08-03T08:17:30.594868Z"
        },
        "id": "3IaNjQ6hIH2n"
      },
      "outputs": [],
      "source": [
        "x = 1 + 2 + 3 + 4"
      ]
    },
    {
      "cell_type": "markdown",
      "metadata": {
        "id": "MIcuq3HeIH2n"
      },
      "source": [
        "*Note: When you run the cell above, it won't print anything out because we only assigned and didn't tell it to print. You'll print in the cell below.*<br>You can read the code from left to right, starting at the `x`. In the code cell above, the `x` is the **variable name** and the equal sign (`=`) assigns it to the **expression** on the right-hand side, `1 + 2 + 3 + 4`. If we evaluate `1 + 2 + 3 + 4` it will equal `10`. So, we can conclude that `x = 1 + 2 + 3 + 4` is equivalent to `x = 10`. If you run the cell below, the output will be `10`!\n",
        "<br>*If you run the cell below and get a \"NameError\", that means you didn't run the cell above this one that assigns a value to x first.*"
      ]
    },
    {
      "cell_type": "code",
      "execution_count": null,
      "metadata": {
        "execution": {
          "iopub.execute_input": "2022-08-03T08:23:41.528689Z",
          "iopub.status.busy": "2022-08-03T08:23:41.527499Z",
          "iopub.status.idle": "2022-08-03T08:23:41.539992Z",
          "shell.execute_reply": "2022-08-03T08:23:41.537221Z",
          "shell.execute_reply.started": "2022-08-03T08:23:41.528645Z"
        },
        "tags": [],
        "id": "gbKGhSqeIH2n",
        "colab": {
          "base_uri": "https://localhost:8080/"
        },
        "outputId": "eb5ed3f9-842a-44df-8f91-f771981ad1df"
      },
      "outputs": [
        {
          "output_type": "execute_result",
          "data": {
            "text/plain": [
              "10"
            ]
          },
          "metadata": {},
          "execution_count": 20
        }
      ],
      "source": [
        "x # Just run this cell"
      ]
    },
    {
      "cell_type": "markdown",
      "source": [
        "Notice from running these two code cells above that *assignment statement* itself doesn't output the value. **You must run the variable to output its value.**"
      ],
      "metadata": {
        "id": "0J9XxCdJAVJY"
      }
    },
    {
      "cell_type": "markdown",
      "metadata": {
        "id": "sMzYGMkrIH2o"
      },
      "source": [
        "You can also chain variable assignments (like in any mathematical expression), as follows. In this cell, we use the stored value of `x` (`x = 10` from earlier), so we are really saying `y = (10 + 3 + 10 + 2) * 4`! **Run the cell to see what y is equal to!**"
      ]
    },
    {
      "cell_type": "code",
      "execution_count": null,
      "metadata": {
        "execution": {
          "iopub.execute_input": "2022-08-03T08:24:33.065858Z",
          "iopub.status.busy": "2022-08-03T08:24:33.065177Z",
          "iopub.status.idle": "2022-08-03T08:24:33.075613Z",
          "shell.execute_reply": "2022-08-03T08:24:33.074196Z",
          "shell.execute_reply.started": "2022-08-03T08:24:33.065827Z"
        },
        "id": "_zD-zSt9IH2o",
        "colab": {
          "base_uri": "https://localhost:8080/"
        },
        "outputId": "495b7337-e12a-4b78-904a-990a4aeba750"
      },
      "outputs": [
        {
          "output_type": "execute_result",
          "data": {
            "text/plain": [
              "100"
            ]
          },
          "metadata": {},
          "execution_count": 21
        }
      ],
      "source": [
        "y = (x + 3 + x + 2) * 4\n",
        "y"
      ]
    },
    {
      "cell_type": "markdown",
      "source": [
        "***\n",
        "#### You've finished the **Introduction to Colab and Python *In Class* notebook** and are ready to begin the **Introduction to Colab and Python *Student Exploration* notebook**! Good job!"
      ],
      "metadata": {
        "id": "QOfQU6dTtSUm"
      }
    },
    {
      "cell_type": "markdown",
      "metadata": {
        "id": "92WU8yRHIH2z"
      },
      "source": [
        "<hr style=\"border: 2px solid #003262\">\n",
        "<hr style=\"border: 2px solid #C9B676\">"
      ]
    }
  ]
}