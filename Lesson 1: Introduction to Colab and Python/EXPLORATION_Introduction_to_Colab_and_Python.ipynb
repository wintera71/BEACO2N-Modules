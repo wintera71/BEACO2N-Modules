{
  "nbformat": 4,
  "nbformat_minor": 0,
  "metadata": {
    "colab": {
      "provenance": [],
      "include_colab_link": true
    },
    "kernelspec": {
      "name": "python3",
      "display_name": "Python 3"
    },
    "language_info": {
      "name": "python"
    }
  },
  "cells": [
    {
      "cell_type": "markdown",
      "metadata": {
        "id": "view-in-github",
        "colab_type": "text"
      },
      "source": [
        "<a href=\"https://colab.research.google.com/github/wintera71/BEACO2N-Modules/blob/main/Lesson%201%3A%20Introduction%20to%20Colab%20and%20Python/EXPLORATION_Introduction_to_Colab_and_Python.ipynb\" target=\"_parent\"><img src=\"https://colab.research.google.com/assets/colab-badge.svg\" alt=\"Open In Colab\"/></a>"
      ]
    },
    {
      "cell_type": "markdown",
      "metadata": {
        "cell_id": "00001-eedf9a46-cb0c-42bc-a90f-96265663c0d3",
        "deepnote_cell_type": "markdown",
        "tags": [
          "ignore"
        ],
        "id": "x1qNTWK6IH2W"
      },
      "source": [
        "# **BEACO2N Notebook 1b: Introduction to Colab and Python**\n",
        "\n",
        "Notebook developed by: *Skye Pickett, Alec Morgan, Lan Dinh, Su Min Park, Amy Castillo*\n"
      ]
    },
    {
      "cell_type": "markdown",
      "metadata": {
        "id": "uv0w0xTKIH2b"
      },
      "source": [
        "### Learning Outcomes\n",
        "Working through this notebook, you will learn about:\n",
        "1. Using math expressions, strings, and variables\n",
        "4. How to work around errors\n",
        "5. Addtional Python fundamentals: Lists (optional), functions, modules, dot notation"
      ]
    },
    {
      "cell_type": "markdown",
      "source": [
        "\n",
        "## Table of Contents\n",
        "1. Student Exploration Notebook\n",
        "1. Variable Practice\n",
        "1. Lists\n",
        "1. Functions\n",
        "1. Modules\n",
        "> 5.1 Importing Modules\n",
        "<br> 5.2 Dot Notation\n",
        "<br> 5.3 *Optional*: Random numbers and Sampling\n",
        "1. Notebooks in Practice *(Optional Read*)\n",
        "1. Conclusion\n",
        "\n",
        "\n",
        "\n"
      ],
      "metadata": {
        "id": "JxfZwMFZFoqJ"
      }
    },
    {
      "cell_type": "markdown",
      "metadata": {
        "id": "QrvUoyg0IH2c"
      },
      "source": [
        "<hr style=\"border: 2px solid #003262\">\n",
        "<hr style=\"border: 2px solid #C9B676\">"
      ]
    },
    {
      "cell_type": "markdown",
      "source": [
        "##1. Student Exploration Notebook\n",
        "Welcome to the Student Exploration notebook for Introduction to Colab and Python! In this notebook, we will pick up where we left off in *In Class: Introduction to Colab and Python*. It may be helpful to have the *In Class* notebook open to reference. This notebook will build upon the concepts you learned in the last notebook and give you the opportunity to practice! Take your time working through this and ask any questions you have, as future notebooks will require you to have the skills from this notebook down!"
      ],
      "metadata": {
        "id": "N473-dyaugh4"
      }
    },
    {
      "cell_type": "markdown",
      "source": [
        "***\n",
        "##2. Variable Practice"
      ],
      "metadata": {
        "id": "_Xq38ui_vi3n"
      }
    },
    {
      "cell_type": "markdown",
      "metadata": {
        "id": "oDDitnZLIH2o"
      },
      "source": [
        "If you took a break or don't remember what you've learned about variables and assignment statements, refer to the *In Class* notebook for an in-depth explanation. When you're ready, let's practice with examples!\n"
      ]
    },
    {
      "cell_type": "markdown",
      "metadata": {
        "id": "X_9CuTUfIH2o"
      },
      "source": [
        "#### Example 1: Seconds in a Year\n",
        "Let's say we want to find out how many seconds are in a year. We could calculate it raw as following, based on 60 seconds per minute, 60 minutes per hour, 24 hours per day, and 365 days per year: $$60 \\cdot 60 \\cdot 24 \\cdot 365$$ However, someone reading this may not understand it, and we might want to use this information for further calculations. Let's see how we can do this calculation using variables! **Read through the assignment statements and run the cell to find the number of seconds per year!**\n",
        ">***Note:*** *The green text in the code cell below that follows a `#` is called a **comment**. This is an easy way to annotate code as we can read what it means, but Python ignores anything that follows `#` (ie, Python doesn't try to interpret `# The days in a year` as part of the code statement). Comments are often used for instructional purposes and in industry to improve clarity in code!*"
      ]
    },
    {
      "cell_type": "code",
      "execution_count": null,
      "metadata": {
        "execution": {
          "iopub.execute_input": "2022-08-05T08:28:27.327630Z",
          "iopub.status.busy": "2022-08-05T08:28:27.327137Z",
          "iopub.status.idle": "2022-08-05T08:28:27.334135Z",
          "shell.execute_reply": "2022-08-05T08:28:27.333397Z",
          "shell.execute_reply.started": "2022-08-05T08:28:27.327604Z"
        },
        "tags": [],
        "id": "hDfd887NIH2o",
        "colab": {
          "base_uri": "https://localhost:8080/"
        },
        "outputId": "460ac5e4-342f-47c1-99c2-404c5976ad0f"
      },
      "outputs": [
        {
          "output_type": "execute_result",
          "data": {
            "text/plain": [
              "31536000"
            ]
          },
          "metadata": {},
          "execution_count": 1
        }
      ],
      "source": [
        "days = 365 # The days in a year\n",
        "hours = 24 # The hours in a day\n",
        "minutes = 60 # The minutes in an hour\n",
        "seconds = 60 # The seconds in a minute\n",
        "seconds_per_year = days * hours * minutes * seconds # The seconds in one year\n",
        "seconds_per_year"
      ]
    },
    {
      "cell_type": "markdown",
      "metadata": {
        "id": "SwcSY-s_IH2o"
      },
      "source": [
        "This method is easier to understand, and we can use our new variable `seconds_per_year` to answer other questions! Lets say we wanted to find the **number of seconds** in half a year, $7$ years, $234$ years, or even $3.1415$ years as follows! Focus on the second half of each of the lines below, where it says `seconds_per_year * 1/2` and the like. Notice that we're using operations to manipulate the variable to find answers to new related questions."
      ]
    },
    {
      "cell_type": "code",
      "execution_count": null,
      "metadata": {
        "execution": {
          "iopub.execute_input": "2022-08-05T08:28:28.328910Z",
          "iopub.status.busy": "2022-08-05T08:28:28.328282Z",
          "iopub.status.idle": "2022-08-05T08:28:28.336686Z",
          "shell.execute_reply": "2022-08-05T08:28:28.335576Z",
          "shell.execute_reply.started": "2022-08-05T08:28:28.328873Z"
        },
        "tags": [],
        "id": "1aSlQPEmIH2o",
        "colab": {
          "base_uri": "https://localhost:8080/"
        },
        "outputId": "71f9fa85-7a92-490d-e67c-bafe68f138d1"
      },
      "outputs": [
        {
          "output_type": "stream",
          "name": "stdout",
          "text": [
            "Seconds in half a year: 15768000.0\n",
            "Seconds in seven years: 220752000\n",
            "Seconds in two hundred and thirty-four years: 7379424000\n",
            "Seconds in 3.1415 years: 99070344.0\n"
          ]
        }
      ],
      "source": [
        "print(\"Seconds in half a year:\", seconds_per_year * 1/2) # seconds per year multiplied by 1/2\n",
        "print(\"Seconds in seven years:\", seconds_per_year * 7) # seconds per year multiplied by 7\n",
        "print(\"Seconds in two hundred and thirty-four years:\", seconds_per_year * 234) # seconds per year multiplied by 234\n",
        "print(\"Seconds in 3.1415 years:\", seconds_per_year * 3.1415) # seconds per year multiplied by 3.1415"
      ]
    },
    {
      "cell_type": "markdown",
      "metadata": {
        "id": "3wSOaOhrIH2p"
      },
      "source": [
        "As you can see, we don't need to re-do the problem four times to get all the results, we just need to use the result we already calculated! (Cool, right?)"
      ]
    },
    {
      "cell_type": "markdown",
      "source": [
        "**Your turn: Q1** <br>\n",
        "**In the cell below, compute the number of seconds in the number of years you've been alive! Check your answer below.**\n",
        ">*Hint:* Your code cell should look like `seconds_per_year * <your_age>` and will print the number of seconds when run."
      ],
      "metadata": {
        "id": "is1401F-xQ1u"
      }
    },
    {
      "cell_type": "code",
      "source": [
        "## Put your code in this cell!\n",
        "\n"
      ],
      "metadata": {
        "id": "GEtRtJ90xQV5"
      },
      "execution_count": null,
      "outputs": []
    },
    {
      "cell_type": "markdown",
      "source": [
        "Find your age below to check your answer...<br>\n",
        "*   Age 14: 441504000\n",
        "*   Age 15: 473040000\n",
        "*   Age 16: 504576000\n",
        "*   Age 17: 536112000\n",
        "*   Age 18: 567648000\n",
        "\n"
      ],
      "metadata": {
        "id": "7ra7OWFeyB8h"
      }
    },
    {
      "cell_type": "markdown",
      "metadata": {
        "id": "5YZv7PhQIH2p"
      },
      "source": [
        "#### Example 2: Equation of a Line\n",
        "If you need an algebra refresher, for reference, the equation of a line is $$y = mx + b$$ We can use variables to easily calculate the $y$ for any $x$, and we can set $m$ (the slope) and $b$ (the y-intercept).\n",
        "\n",
        "*Try changing the x value to see how the output changes!*"
      ]
    },
    {
      "cell_type": "code",
      "execution_count": null,
      "metadata": {
        "execution": {
          "iopub.execute_input": "2022-08-05T08:28:29.986870Z",
          "iopub.status.busy": "2022-08-05T08:28:29.985790Z",
          "iopub.status.idle": "2022-08-05T08:28:30.038201Z",
          "shell.execute_reply": "2022-08-05T08:28:30.015123Z",
          "shell.execute_reply.started": "2022-08-05T08:28:29.986832Z"
        },
        "tags": [],
        "id": "3jNoBx4CIH2p",
        "colab": {
          "base_uri": "https://localhost:8080/"
        },
        "outputId": "93691d10-757d-4977-8f6a-663ec4641c4d"
      },
      "outputs": [
        {
          "output_type": "execute_result",
          "data": {
            "text/plain": [
              "9"
            ]
          },
          "metadata": {},
          "execution_count": 3
        }
      ],
      "source": [
        "m = 1 # The slope\n",
        "b = 5 # The intercept\n",
        "x = 4 # Try changing this value to see how the output changes!\n",
        "y = m * x + b\n",
        "y"
      ]
    },
    {
      "cell_type": "code",
      "source": [
        "## Run this cell also! This print statement will summarize what you calculated above.\n",
        "print(f\"On the line y = {m}x + {b}, at x = {x}, y is equal to {y}.\")"
      ],
      "metadata": {
        "colab": {
          "base_uri": "https://localhost:8080/"
        },
        "id": "hRpSsGU2KEjs",
        "outputId": "be78f36a-1199-451a-8c29-6a7798dc12f3"
      },
      "execution_count": null,
      "outputs": [
        {
          "output_type": "stream",
          "name": "stdout",
          "text": [
            "On the line y = 1x + 5, at x = 4, y is equal to 9.\n"
          ]
        }
      ]
    },
    {
      "cell_type": "markdown",
      "metadata": {
        "id": "rV0w8x_AIH2p"
      },
      "source": [
        "***\n",
        "## 3. Lists\n",
        "Variable values may be more sophisticated than just numbers/expressions! We can store multiple numbers under a single name if we make the value a list. The following cell stores 3 numbers in a list: **Remember to run it! :)**"
      ]
    },
    {
      "cell_type": "code",
      "execution_count": null,
      "metadata": {
        "id": "E1TLzIRsIH2p",
        "colab": {
          "base_uri": "https://localhost:8080/"
        },
        "outputId": "0748a8ca-d0bd-4828-f616-1f1d35816075"
      },
      "outputs": [
        {
          "output_type": "execute_result",
          "data": {
            "text/plain": [
              "[4, 9, 16]"
            ]
          },
          "metadata": {},
          "execution_count": 5
        }
      ],
      "source": [
        "number_list = [4,9,16]\n",
        "number_list"
      ]
    },
    {
      "cell_type": "markdown",
      "metadata": {
        "id": "4Z3xxt-SIH2p"
      },
      "source": [
        "Lists can actually contain any value in Python! Check out the cell below that contains numbers, strings, and variables separated by commas."
      ]
    },
    {
      "cell_type": "code",
      "execution_count": null,
      "metadata": {
        "id": "xyzK_EkkIH2p",
        "colab": {
          "base_uri": "https://localhost:8080/"
        },
        "outputId": "b3e85224-6407-498b-e997-1c3f54f1f5f2"
      },
      "outputs": [
        {
          "output_type": "execute_result",
          "data": {
            "text/plain": [
              "['Hello', 3.14, 200, 4, 'Goodbye']"
            ]
          },
          "metadata": {},
          "execution_count": 6
        }
      ],
      "source": [
        "weird_list = [\"Hello\", 3.14, 200, x, \"Goodbye\"]\n",
        "weird_list"
      ]
    },
    {
      "cell_type": "markdown",
      "metadata": {
        "id": "Dfz3Ql2xIH2p"
      },
      "source": [
        "We can also start a list off as empty and add things to it later, as seen below. Run the cells in order."
      ]
    },
    {
      "cell_type": "code",
      "execution_count": null,
      "metadata": {
        "id": "_z2l3mylIH2p",
        "colab": {
          "base_uri": "https://localhost:8080/"
        },
        "outputId": "84286f5e-a217-418a-8955-fcb2d323f76f"
      },
      "outputs": [
        {
          "output_type": "execute_result",
          "data": {
            "text/plain": [
              "[]"
            ]
          },
          "metadata": {},
          "execution_count": 7
        }
      ],
      "source": [
        "empty = []\n",
        "empty"
      ]
    },
    {
      "cell_type": "code",
      "source": [
        "empty = empty + [1]\n",
        "empty"
      ],
      "metadata": {
        "colab": {
          "base_uri": "https://localhost:8080/"
        },
        "id": "JC1LU2chKcEx",
        "outputId": "8a519d42-a895-4bf3-9eff-c691a48807ea"
      },
      "execution_count": null,
      "outputs": [
        {
          "output_type": "execute_result",
          "data": {
            "text/plain": [
              "[1]"
            ]
          },
          "metadata": {},
          "execution_count": 8
        }
      ]
    },
    {
      "cell_type": "code",
      "source": [
        "empty = empty + [2]\n",
        "empty"
      ],
      "metadata": {
        "colab": {
          "base_uri": "https://localhost:8080/"
        },
        "id": "JhaVyPtg4qBm",
        "outputId": "af2fc8f5-3d02-4a4c-8b43-0d6a619a34d8"
      },
      "execution_count": null,
      "outputs": [
        {
          "output_type": "execute_result",
          "data": {
            "text/plain": [
              "[1, 2]"
            ]
          },
          "metadata": {},
          "execution_count": 9
        }
      ]
    },
    {
      "cell_type": "markdown",
      "metadata": {
        "id": "rB4kIx6RIH2q"
      },
      "source": [
        "Notice how in each of the cells above the variable `empty` updates to represent a new value each time there is an **assignment statement** (`empty = ...`).\n",
        "\n",
        "You can also add values to a list or even take them out! This can be useful when you want to do a lot of calculations and keep them under one variable. See the following example for one such reson why lists are helpful. **The below example is advanced/optional**, meaning you can read it over but we don't expect you to be able to do this yourself or fully understand it yet! In this example, we add another element to the list, which is the sum of all of the numbers in the list already."
      ]
    },
    {
      "cell_type": "code",
      "execution_count": null,
      "metadata": {
        "execution": {
          "iopub.execute_input": "2022-08-05T08:30:16.887836Z",
          "iopub.status.busy": "2022-08-05T08:30:16.887112Z",
          "iopub.status.idle": "2022-08-05T08:30:16.904101Z",
          "shell.execute_reply": "2022-08-05T08:30:16.901939Z",
          "shell.execute_reply.started": "2022-08-05T08:30:16.887795Z"
        },
        "tags": [],
        "id": "Hl_H3ylEIH2q",
        "colab": {
          "base_uri": "https://localhost:8080/"
        },
        "outputId": "4923989a-0049-45c9-db47-387f3e1c7788"
      },
      "outputs": [
        {
          "output_type": "execute_result",
          "data": {
            "text/plain": [
              "[1, 1, 2, 4, 8, 16, 32]"
            ]
          },
          "metadata": {},
          "execution_count": 10
        }
      ],
      "source": [
        "running_totals = [1]\n",
        "running_totals = running_totals + [sum(running_totals)]\n",
        "running_totals = running_totals + [sum(running_totals)]\n",
        "running_totals = running_totals + [sum(running_totals)]\n",
        "running_totals = running_totals + [sum(running_totals)]\n",
        "running_totals = running_totals + [sum(running_totals)]\n",
        "running_totals = running_totals + [sum(running_totals)]\n",
        "running_totals"
      ]
    },
    {
      "cell_type": "markdown",
      "source": [
        "**Your turn: Q2**\n",
        "<br> In the cell below, we defined a list called `alphabet` that contains 3 strings, \"a\", \"b\", and \"c\". <br>**In the cell that says `# Your code here`, write code to add a 4th item to the list, \"d\". Make sure that the item you're adding is a *string* (\"d\" is a string, but `d` without the quotation marks is a variable name).**\n",
        ">*Hints: <br>- Use the `empty` example above for some hints!<br> - If you get a NameError, you forgot to make \"d\" a string! <br> - If you accidentally add something you don't want and want to go back to `alphabet` being [\"a\", \"b\", \"c\"], run the cell right below this to assign `alphabet` to the initial list provided.*"
      ],
      "metadata": {
        "id": "Y3OzvW5q5A4_"
      }
    },
    {
      "cell_type": "code",
      "source": [
        "alphabet = [\"a\", \"b\", \"c\"]\n",
        "alphabet"
      ],
      "metadata": {
        "colab": {
          "base_uri": "https://localhost:8080/"
        },
        "id": "Qbjvpg8u5C6_",
        "outputId": "30ed974b-c1dc-4450-c9c3-6334abae7c19"
      },
      "execution_count": null,
      "outputs": [
        {
          "output_type": "execute_result",
          "data": {
            "text/plain": [
              "['a', 'b', 'c']"
            ]
          },
          "metadata": {},
          "execution_count": 44
        }
      ]
    },
    {
      "cell_type": "code",
      "source": [
        "# Your code here\n",
        "# Replace the ... with your code\n",
        "alphabet = ..."
      ],
      "metadata": {
        "id": "AHJlGSth5dRm"
      },
      "execution_count": null,
      "outputs": []
    },
    {
      "cell_type": "code",
      "source": [
        "## Ignore this code but RUN THIS CELL\n",
        "# This will check if your answer is correct!\n",
        "if alphabet == [\"a\", \"b\", \"c\", \"d\"]:\n",
        "  print(\"Woohoo! Correct.\")\n",
        "  print(\"alphabet is equal to\", alphabet)\n",
        "elif alphabet == [\"a\", \"b\", \"c\"]:\n",
        "  print(\"Incorrect: alphabet hasn't been modified\")\n",
        "  print(\"alphabet is equal to\", alphabet)\n",
        "else:\n",
        "  print(\"Incorrect.\")\n",
        "  print(\"alphabet is equal to\", alphabet)\n"
      ],
      "metadata": {
        "colab": {
          "base_uri": "https://localhost:8080/"
        },
        "id": "-OuI76h35fAD",
        "outputId": "16d8e6e5-a553-4fe8-b73b-0d6a62bffd89"
      },
      "execution_count": null,
      "outputs": [
        {
          "output_type": "stream",
          "name": "stdout",
          "text": [
            "Incorrect: alphabet hasn't been modified\n",
            "alphabet is equal to ['a', 'b', 'c']\n"
          ]
        }
      ]
    },
    {
      "cell_type": "markdown",
      "metadata": {
        "cell_id": "00022-ad81de6d-4f04-4922-8b42-b54b01daeb8c",
        "deepnote_cell_type": "markdown",
        "tags": [],
        "id": "CViEa7pcIH2r"
      },
      "source": [
        "***\n",
        "##4. Functions\n",
        "We've seen that values can have names (often called **variables**), but operations may also have names. A named operation is called a **function**. Python has some functions built into it. **Remember to run each of the code cells!** *Get into a habit of this and remember there's no harm in running text cells too so feel free to always run cells as you go down the page.*"
      ]
    },
    {
      "cell_type": "code",
      "execution_count": null,
      "metadata": {
        "cell_id": "00023-7a1ac018-a44a-4e08-a681-2479fd06afed",
        "deepnote_cell_type": "code",
        "execution": {
          "iopub.execute_input": "2022-08-05T10:03:23.718343Z",
          "iopub.status.busy": "2022-08-05T10:03:23.716471Z",
          "iopub.status.idle": "2022-08-05T10:03:23.767727Z",
          "shell.execute_reply": "2022-08-05T10:03:23.766540Z",
          "shell.execute_reply.started": "2022-08-05T10:03:23.718231Z"
        },
        "tags": [],
        "id": "kBAkzZrHIH2r",
        "colab": {
          "base_uri": "https://localhost:8080/"
        },
        "outputId": "cdd0cc12-4812-4bb0-a9c1-2317e9bacd94"
      },
      "outputs": [
        {
          "output_type": "execute_result",
          "data": {
            "text/plain": [
              "<function round(number, ndigits=None)>"
            ]
          },
          "metadata": {},
          "execution_count": 11
        }
      ],
      "source": [
        "round # A built-in function"
      ]
    },
    {
      "cell_type": "markdown",
      "metadata": {
        "id": "vYsorW8xIH2r"
      },
      "source": [
        "If you put the name of a function followed by a question mark (?) in a code cell and run, you can see some documentation on the function in a pop-up tab, indicating what it's supposed to do!"
      ]
    },
    {
      "cell_type": "code",
      "execution_count": null,
      "metadata": {
        "execution": {
          "iopub.execute_input": "2022-08-05T10:04:19.808557Z",
          "iopub.status.busy": "2022-08-05T10:04:19.808107Z",
          "iopub.status.idle": "2022-08-05T10:04:20.039446Z",
          "shell.execute_reply": "2022-08-05T10:04:20.038442Z",
          "shell.execute_reply.started": "2022-08-05T10:04:19.808524Z"
        },
        "id": "WHmh0KMwIH2r"
      },
      "outputs": [],
      "source": [
        "round?"
      ]
    },
    {
      "cell_type": "markdown",
      "source": [
        "Did you read the popup tab that the **`round?`** code produced? Now do you get what the `round` function does? Feel free to click the x in the corner of the pop-up tab when you're done reading it."
      ],
      "metadata": {
        "id": "cMJO_O1vLGLb"
      }
    },
    {
      "cell_type": "markdown",
      "metadata": {
        "cell_id": "00024-61af2610-4945-4252-86a1-a4f67e1cf4ce",
        "deepnote_cell_type": "markdown",
        "tags": [],
        "id": "f5RxVZ5rIH2r"
      },
      "source": [
        "Functions get used in **call expressions**, which is where a function is named and given values to operate on inside a set of parentheses. The `round` function returns the number it was given, rounded to the nearest whole number.\n",
        "\n",
        "*This concept is basically the same as mathematical expressions!*"
      ]
    },
    {
      "cell_type": "code",
      "execution_count": null,
      "metadata": {
        "cell_id": "00025-ddd3aeb9-2868-4a79-8404-5c5052baab1b",
        "deepnote_cell_type": "code",
        "execution": {
          "iopub.execute_input": "2022-08-05T10:04:42.464415Z",
          "iopub.status.busy": "2022-08-05T10:04:42.463960Z",
          "iopub.status.idle": "2022-08-05T10:04:42.471954Z",
          "shell.execute_reply": "2022-08-05T10:04:42.470894Z",
          "shell.execute_reply.started": "2022-08-05T10:04:42.464379Z"
        },
        "tags": [],
        "id": "oH95aatBIH2r",
        "colab": {
          "base_uri": "https://localhost:8080/"
        },
        "outputId": "6835e037-dd58-4827-e839-0afca1950b35"
      },
      "outputs": [
        {
          "output_type": "execute_result",
          "data": {
            "text/plain": [
              "1989"
            ]
          },
          "metadata": {},
          "execution_count": 13
        }
      ],
      "source": [
        "round(1988.74699) # A call expression using round"
      ]
    },
    {
      "cell_type": "markdown",
      "metadata": {
        "cell_id": "00027-27b5ba99-fd19-4093-9b69-1d42154c979f",
        "deepnote_cell_type": "markdown",
        "tags": [],
        "id": "vf3UZIx-IH2r"
      },
      "source": [
        "A function may also be called on more than one value (these are called *arguments*). For instance, the `min` function takes however many arguments you'd like and returns the minimum of them. Multiple arguments are always separated by commas, just like in lists."
      ]
    },
    {
      "cell_type": "code",
      "execution_count": null,
      "metadata": {
        "cell_id": "00027-26d2e33c-79e0-44b3-aad9-59361b3dba09",
        "deepnote_cell_type": "code",
        "execution": {
          "iopub.execute_input": "2022-08-05T10:04:45.328292Z",
          "iopub.status.busy": "2022-08-05T10:04:45.327813Z",
          "iopub.status.idle": "2022-08-05T10:04:45.339306Z",
          "shell.execute_reply": "2022-08-05T10:04:45.338338Z",
          "shell.execute_reply.started": "2022-08-05T10:04:45.328257Z"
        },
        "tags": [],
        "id": "IUuJFjQrIH2r",
        "colab": {
          "base_uri": "https://localhost:8080/"
        },
        "outputId": "b02e1238-a5bd-4889-c15f-28b6415c2c3d"
      },
      "outputs": [
        {
          "output_type": "execute_result",
          "data": {
            "text/plain": [
              "-34"
            ]
          },
          "metadata": {},
          "execution_count": 14
        }
      ],
      "source": [
        "min(9, -34, 0, 99)"
      ]
    },
    {
      "cell_type": "markdown",
      "metadata": {
        "id": "f1wB_7UFIH2t"
      },
      "source": [
        "### Practice"
      ]
    },
    {
      "cell_type": "markdown",
      "metadata": {
        "cell_id": "00028-85d551d0-1121-4f0d-9b6d-da0049cad3e7",
        "deepnote_cell_type": "markdown",
        "tags": [],
        "id": "qyEjWbGVIH2t"
      },
      "source": [
        "<div class=\"alert alert-block alert-warning\">\n",
        "<ul>\n",
        "    <li>The <code>abs</code> function takes one argument (just like <code>round</code>)</li>\n",
        "    <li>The <code>max</code> function takes one or more arguments (just like <code>min</code>)</li>\n",
        "</ul>\n"
      ]
    },
    {
      "cell_type": "markdown",
      "metadata": {
        "id": "N5WhuI3KIH2t"
      },
      "source": [
        "\n",
        "Try calling <code>abs</code> and <code>max</code> in the cell below. What does each function do?\n",
        "\n",
        "Also try calling each function <i>incorrectly</i>, such as with the wrong number of arguments. What kinds of error messages do you see?\n",
        "\n",
        "If you're confused, reference what we just did with round and min -- the format is the same!\n",
        "</div>"
      ]
    },
    {
      "cell_type": "code",
      "execution_count": null,
      "metadata": {
        "cell_id": "00029-ba5cb6d4-659b-4236-87ba-a1cddd93da6f",
        "deepnote_cell_type": "code",
        "tags": [],
        "id": "7diDAc37IH2t",
        "colab": {
          "base_uri": "https://localhost:8080/"
        },
        "outputId": "35ead478-9f3c-45d5-c09a-82a1806f0cb9"
      },
      "outputs": [
        {
          "output_type": "execute_result",
          "data": {
            "text/plain": [
              "Ellipsis"
            ]
          },
          "metadata": {},
          "execution_count": 50
        }
      ],
      "source": [
        "... # Replace the ... with calls to abs function"
      ]
    },
    {
      "cell_type": "code",
      "source": [
        "... # Replace the ... with calls to max function"
      ],
      "metadata": {
        "colab": {
          "base_uri": "https://localhost:8080/"
        },
        "id": "vU44sbEdAkJ1",
        "outputId": "24724e54-8bf8-43f6-ca92-23c7963d2fe8"
      },
      "execution_count": null,
      "outputs": [
        {
          "output_type": "execute_result",
          "data": {
            "text/plain": [
              "Ellipsis"
            ]
          },
          "metadata": {},
          "execution_count": 51
        }
      ]
    },
    {
      "cell_type": "markdown",
      "metadata": {
        "cell_id": "00009-52f60190-e21f-4107-99a9-d42ab128df40",
        "deepnote_cell_type": "markdown",
        "tags": [
          "ignore"
        ],
        "id": "DvrMTRXLIH2t"
      },
      "source": [
        "***\n",
        "## 5. Modules\n",
        "\n",
        "Now that we've covered our bases with regards to the platform we'll be working on for this assignment, let's load some **modules** we need to explore the data we are working with.\n",
        "\n",
        "### 5.1 Importing Modules\n",
        "\n",
        "Python **modules** are folders that contain collections of Python code to help us use tools that are not otherwise available. These can include visualization modules such as `matplotlib` or numerical tools like `numpy`. You can see how we load these modules below: **Run the cell below. We've added a print statement in the cell, so you'll know it's done when \"Done!\" is printed out below!**"
      ]
    },
    {
      "cell_type": "code",
      "execution_count": null,
      "metadata": {
        "cell_id": "00010-be6eaa80-c135-4a5e-b17e-afa03953823b",
        "deepnote_cell_type": "code",
        "execution": {
          "iopub.execute_input": "2022-08-05T10:23:25.851604Z",
          "iopub.status.busy": "2022-08-05T10:23:25.850800Z",
          "iopub.status.idle": "2022-08-05T10:23:25.858681Z",
          "shell.execute_reply": "2022-08-05T10:23:25.857773Z",
          "shell.execute_reply.started": "2022-08-05T10:23:25.851561Z"
        },
        "tags": [
          "ignore"
        ],
        "id": "rGaZ-SExIH2t",
        "colab": {
          "base_uri": "https://localhost:8080/"
        },
        "outputId": "f0c6647c-62f0-4af1-bb9c-46fd5447b233"
      },
      "outputs": [
        {
          "output_type": "stream",
          "name": "stdout",
          "text": [
            "Done!\n"
          ]
        }
      ],
      "source": [
        "import matplotlib.pyplot as plt # This loads tools from the matplotlib module\n",
        "%matplotlib inline\n",
        "plt.style.use(\"fivethirtyeight\")\n",
        "import numpy as np # Loads numerical methods\n",
        "import math, random # Loads math and random functions\n",
        "import seaborn as sns, plotly.express as px # Loads plotting tools\n",
        "print(\"Done!\")"
      ]
    },
    {
      "cell_type": "markdown",
      "metadata": {
        "id": "UTcL-zYtIH2t"
      },
      "source": [
        "For your reference, we'll break down one line of the large cell above. In this line:\n",
        "\n",
        "```python\n",
        "import numpy as np\n",
        "```\n",
        "\n",
        "We import the numpy module. Essentially, we're telling Python (the coding language) that we want to use a specific set of functions that has been named \"`numpy`\". We then use the `as` keyword to specify that we want to use some other name to refer to \"`numpy`\"; in this context we told python we want to call it \"`np`\".\n",
        "\n",
        "Lets say we want to use the `numpy.mean` function (this takes the mean of a list of numbers). Because we imported \"`numpy`\" as \"`np`\", we could now also say `np.mean()` to call the `mean` function. (We could also still say `numpy.mean()`.)\n",
        "\n",
        "Note: We name `numpy` as \"`np`\" because it is the standard name in the industry, however we could also have said:\n",
        "\n",
        "```python\n",
        "import numpy as harrystyles\n",
        "```\n",
        "Which would've allowed us to run `harrystyles.mean()`. However, this would be confusing for a reader, so it's considered best practice to use standard names such as \"`np`\" for \"`numpy`\", so that different people can all read your work and not be confused as to what function you are using or what module it came from.\n",
        "\n",
        "The cell below runs what we just talked about. Feel free to play around and try things out!"
      ]
    },
    {
      "cell_type": "code",
      "execution_count": null,
      "metadata": {
        "execution": {
          "iopub.execute_input": "2022-08-05T10:40:59.244987Z",
          "iopub.status.busy": "2022-08-05T10:40:59.244628Z",
          "iopub.status.idle": "2022-08-05T10:40:59.250972Z",
          "shell.execute_reply": "2022-08-05T10:40:59.249926Z",
          "shell.execute_reply.started": "2022-08-05T10:40:59.244962Z"
        },
        "tags": [],
        "id": "WKi3rMBPIH2u",
        "colab": {
          "base_uri": "https://localhost:8080/"
        },
        "outputId": "124c2a1e-d1f2-447f-d1ca-343832040027"
      },
      "outputs": [
        {
          "output_type": "stream",
          "name": "stdout",
          "text": [
            "Harry Styles is NumPy? True\n",
            "Harry Styles' mean of [1, 2, 3, 4, 5, 6, 7, 8] : 4.5\n"
          ]
        }
      ],
      "source": [
        "import numpy as harrystyles\n",
        "print(\"Harry Styles is NumPy?\", harrystyles == np) ## No need to understand this line\n",
        "numbers = [1, 2, 3, 4, 5, 6, 7, 8]\n",
        "print(\"Harry Styles' mean of\", numbers, \":\", harrystyles.mean(numbers)) ## No need to understand this -- just read harrystyles.mean(numbers)\n",
        "\n",
        "# This line deletes the silly import of `harrystyles` that we just made\n",
        "del harrystyles"
      ]
    },
    {
      "cell_type": "markdown",
      "source": [
        "We got rid of calling the \"numpy\" package \"harrystyles\" (phew!). So let's call it `np` like is conventional again. Run the cell below."
      ],
      "metadata": {
        "id": "wKAe7BDoM95z"
      }
    },
    {
      "cell_type": "code",
      "source": [
        "import numpy as np"
      ],
      "metadata": {
        "id": "YVqbKoVCM8-z"
      },
      "execution_count": null,
      "outputs": []
    },
    {
      "cell_type": "markdown",
      "source": [
        "Usually these import statements are at the top/beginning of notebooks because we want the tools to be imported to use for the rest. If you ever are coming across an error that says \"np isn't defined\" or some other package isn't defined, make sure that you *ran* the cell with the import statments. In the future notebooks, these will be at the top!"
      ],
      "metadata": {
        "id": "eVH5YTIGNH_B"
      }
    },
    {
      "cell_type": "markdown",
      "metadata": {
        "cell_id": "00030-114d6671-9eff-4835-a25c-11b521f0f643",
        "deepnote_cell_type": "markdown",
        "tags": [],
        "id": "xlft62_qIH2u"
      },
      "source": [
        "### 5.2 Dot Notation\n",
        "Python has a lot of [built-in functions](https://docs.python.org/3/library/functions.html) (that is, functions that are already named and defined in Python), but even more functions are stored the module packages that we just discussed and imported. Earlier, we imported the `math` module so we could use it later. Once a module is imported, you can use its functions by typing the name of the module, then the name of the function you want from it, separated with a `.`."
      ]
    },
    {
      "cell_type": "markdown",
      "source": [
        "Run these cells below to see what these mathematical functions/constant in `math` module output!"
      ],
      "metadata": {
        "id": "R4t3sqKgMcTq"
      }
    },
    {
      "cell_type": "code",
      "execution_count": null,
      "metadata": {
        "cell_id": "00031-9b6fdd99-2357-45c8-a6b2-ba29f6dfc470",
        "deepnote_cell_type": "code",
        "execution": {
          "iopub.execute_input": "2022-08-05T10:22:36.029638Z",
          "iopub.status.busy": "2022-08-05T10:22:36.029172Z",
          "iopub.status.idle": "2022-08-05T10:22:36.037838Z",
          "shell.execute_reply": "2022-08-05T10:22:36.036937Z",
          "shell.execute_reply.started": "2022-08-05T10:22:36.029603Z"
        },
        "tags": [],
        "id": "Y9hpM720IH2u",
        "colab": {
          "base_uri": "https://localhost:8080/"
        },
        "outputId": "5cbcb870-852c-4c71-f39c-5465dd5a1731"
      },
      "outputs": [
        {
          "output_type": "execute_result",
          "data": {
            "text/plain": [
              "8.0"
            ]
          },
          "metadata": {},
          "execution_count": 20
        }
      ],
      "source": [
        "math.pow(2, 3) # A call expression with the power function, pow(x,y), where it returns x raised to the power y."
      ]
    },
    {
      "cell_type": "code",
      "source": [
        "math.ceil(4.2) # A call expression that returns the smallest integer GREATER than or equal to the input."
      ],
      "metadata": {
        "colab": {
          "base_uri": "https://localhost:8080/"
        },
        "id": "WdoOnlz5MbaU",
        "outputId": "97b0b70a-8a5b-45a7-fc71-f09cdf7304ad"
      },
      "execution_count": null,
      "outputs": [
        {
          "output_type": "execute_result",
          "data": {
            "text/plain": [
              "5"
            ]
          },
          "metadata": {},
          "execution_count": 21
        }
      ]
    },
    {
      "cell_type": "markdown",
      "source": [
        "*Modules* can be more than just functions sometimes! For instance, the `math` module provides us with *mathematical constants* to make our lives easier."
      ],
      "metadata": {
        "id": "a--1vUokMng5"
      }
    },
    {
      "cell_type": "code",
      "source": [
        "math.pi # A call expression of the ratio of the circumference of a circle to its diameter, pi (3.14159...), from the math module."
      ],
      "metadata": {
        "colab": {
          "base_uri": "https://localhost:8080/"
        },
        "id": "OjQPPGCDMtkZ",
        "outputId": "717e9a9f-7c1c-4ada-ff95-fe6051029dd7"
      },
      "execution_count": null,
      "outputs": [
        {
          "output_type": "execute_result",
          "data": {
            "text/plain": [
              "3.141592653589793"
            ]
          },
          "metadata": {},
          "execution_count": 22
        }
      ]
    },
    {
      "cell_type": "markdown",
      "metadata": {
        "id": "oXB-QwuMIH2u"
      },
      "source": [
        "As you can see from the examples above, many math operations can take in a single input or multiple inputs, and these inputs don't always have to be integers or floats (numbers with decimals). Math operations can be applied to lists too!\n",
        "\n",
        "### Practice\n",
        "Let's save `y` as the list [4, 9, 16] below.  Then, let's apply the built-in function `max()` to find the maximum of the list `y`. Assign the maximum to the variable called `max_of_y`. Then, let's find the square root of `max_of_y`. Assign this value to `sqrt_of_max`.\n",
        "\n",
        "\n",
        ">*Hint:*<br>- `math` also has a function called `sqrt` that takes one argument and returns the square root. Remember to put `math.sqrt(__)` not just `sqrt(___)`. <br> - Once you've put in an expression next to `max_of_y`, use that value for the next line. Specifically, put `max_of_y` in the parentheses of your square root call function instead of typing in a number."
      ]
    },
    {
      "cell_type": "markdown",
      "metadata": {
        "cell_id": "00032-6d349935-df0f-4c4d-96de-7d0769f50c3f",
        "deepnote_cell_type": "markdown",
        "tags": [],
        "id": "GUc3c9UcIH2u"
      },
      "source": [
        "**Your turn: Q3**<br>\n",
        "**What is the square root of the maximum of y? *Break it down step by step as explained above*.**\n",
        "\n"
      ]
    },
    {
      "cell_type": "code",
      "execution_count": null,
      "metadata": {
        "cell_id": "00032-5c32dfa7-9a29-4971-8c65-9c69c87abd56",
        "deepnote_cell_type": "code",
        "execution": {
          "iopub.execute_input": "2022-08-05T10:22:45.405191Z",
          "iopub.status.busy": "2022-08-05T10:22:45.404720Z",
          "iopub.status.idle": "2022-08-05T10:22:45.434714Z",
          "shell.execute_reply": "2022-08-05T10:22:45.421548Z",
          "shell.execute_reply.started": "2022-08-05T10:22:45.405155Z"
        },
        "execution_millis": 0,
        "execution_start": 1605740158098,
        "output_cleared": false,
        "source_hash": "a311e606",
        "tags": [],
        "id": "nZTjoDBqIH2u",
        "colab": {
          "base_uri": "https://localhost:8080/"
        },
        "outputId": "fd599ad7-1664-4ad9-fb5c-fca8c6c1b06b"
      },
      "outputs": [
        {
          "output_type": "execute_result",
          "data": {
            "text/plain": [
              "Ellipsis"
            ]
          },
          "metadata": {},
          "execution_count": 60
        }
      ],
      "source": [
        "y  = ... # Replace the ... with the list of numbers(in question description)\n",
        "max_of_y = ... # Replace ... to an assignment of the maximum number of y using function max(__)\n",
        "sqrt_of_max = ... # Replace ... to an expression that outputs the square root of maximum number of y (max_of_y)\n",
        "sqrt_of_max"
      ]
    },
    {
      "cell_type": "markdown",
      "metadata": {
        "id": "MkTkj4jxIH2u"
      },
      "source": [
        "Your answer should be **4.0**."
      ]
    },
    {
      "cell_type": "markdown",
      "metadata": {
        "id": "gKwgGpiXIH2v"
      },
      "source": [
        "\n",
        "###5.3 *Optional*: Random Numbers and Sampling\n",
        "Random sampling plays a key role in data science. The random module implements functions for random sampling and random number generation. For example, the cell below generates a random integer between 1 and 50.\n",
        "\n",
        "Note that any whole number between 1 and 50 has an equal probability of being selected --- the sampling probabilities are uniform.\n",
        "\n",
        "Try running this cell multiple times by holding `Command (mac)/Control (windows)` and pressing `Enter` repeatedly (or just run it multiple times!); notice how the output changes even though the code stays the same."
      ]
    },
    {
      "cell_type": "code",
      "execution_count": null,
      "metadata": {
        "execution": {
          "iopub.execute_input": "2022-08-05T10:18:29.612947Z",
          "iopub.status.busy": "2022-08-05T10:18:29.612338Z",
          "iopub.status.idle": "2022-08-05T10:18:29.622383Z",
          "shell.execute_reply": "2022-08-05T10:18:29.621393Z",
          "shell.execute_reply.started": "2022-08-05T10:18:29.612905Z"
        },
        "tags": [],
        "id": "3fbaK0VwIH2v",
        "colab": {
          "base_uri": "https://localhost:8080/"
        },
        "outputId": "ad33d020-2ff4-43c9-81fd-8b51aaffadd5"
      },
      "outputs": [
        {
          "output_type": "execute_result",
          "data": {
            "text/plain": [
              "19"
            ]
          },
          "metadata": {},
          "execution_count": 25
        }
      ],
      "source": [
        "random.randint(1,50)"
      ]
    },
    {
      "cell_type": "markdown",
      "metadata": {
        "cell_id": "00033-cdd8d4fd-d181-4b60-84c6-53fce944a344",
        "deepnote_cell_type": "markdown",
        "id": "QgDejp_DIH2z"
      },
      "source": [
        "***\n",
        "##6. Notebooks in Practice *(Optional Read)*\n",
        "\n",
        "With proprietary software like *Mathematica*, users are supposed to trust the results returned and are unable to check the code. In contrast, *Jupyter* fosters **transparency** and hence encourages **reproducibility**, which refers to the ability to reproduce the results of a scientific study. Not only is the code behind the software available for anyone to inspect or tinker with, but code in the notebooks can also be examined or re-run to reproduce the results.\n",
        "\n",
        "[Theodore Gray](http://home.theodoregray.com/), the co-founder of [Wolfram Research](https://en.wikipedia.org/wiki/Wolfram_Research) who was also involved in creating the *Mathematica* interface, said about *Jupyter*,\n",
        ">\"*I think what they have is **acceptance from the scientific community** as a tool that is considered to be **universal**.*\"\n",
        "\n",
        "In other words, *Jupyter Notebooks* support the computational work of researchers from different fields, from astronomy to psychology to literature, and therefore enable new ways for researchers in very different domains to **share research tools, methods, and learn from one another**.\n",
        "\n",
        "The power of the notebook lies in its ability to include a **variety of media** with the computation as a means to maintain **accountability, integrity, and transparency** for both the author of the notebook and the audiences that you share your work with."
      ]
    },
    {
      "cell_type": "markdown",
      "metadata": {
        "id": "Nx_anyqoIH2z"
      },
      "source": [
        "***\n",
        "##7. Conclusion"
      ]
    },
    {
      "cell_type": "markdown",
      "metadata": {
        "id": "1wYft-32IH2z"
      },
      "source": [
        "In this notebook, you've learned quite a bit. Below is a summary of the topics we have covered in *Introduction to Colab and Python*:\n",
        "- Colab Notebooks\n",
        "    - History of Jupyter\n",
        "    - Structure of a notebook\n",
        "    - Editing a notebook\n",
        "- Python\n",
        "    - Math\n",
        "    - Strings\n",
        "    - Errors\n",
        "    - Variables\n",
        "    - Lists (Optional)\n",
        "    - Functions\n",
        "    - Modules\n",
        "    - Dot Notation\n",
        "\n",
        "#### You've finished the **Introduction to Colab and Python *Student Exploration* notebook**. Good job! Congratulations on finishing the **Introduction to Colab and Python** lesson!"
      ]
    },
    {
      "cell_type": "markdown",
      "metadata": {
        "id": "92WU8yRHIH2z"
      },
      "source": [
        "<hr style=\"border: 2px solid #003262\">\n",
        "<hr style=\"border: 2px solid #C9B676\">"
      ]
    }
  ]
}